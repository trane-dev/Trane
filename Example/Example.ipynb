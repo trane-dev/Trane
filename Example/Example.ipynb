{
 "cells": [
  {
   "cell_type": "code",
   "execution_count": 1,
   "metadata": {},
   "outputs": [],
   "source": [
    "import json\n",
    "import os\n",
    "import warnings\n",
    "\n",
    "os.chdir('..')\n",
    "warnings.filterwarnings('ignore')\n",
    "\n",
    "import numpy as np \n",
    "import pandas as pd\n",
    "\n",
    "import trane"
   ]
  },
  {
   "cell_type": "code",
   "execution_count": 2,
   "metadata": {},
   "outputs": [
    {
     "data": {
      "text/plain": "'/Users/sarapido/OneDrive - Politecnico di Milano/PHD/MIT/Trane'"
     },
     "execution_count": 2,
     "metadata": {},
     "output_type": "execute_result"
    }
   ],
   "source": [
    "os.getcwd()"
   ]
  },
  {
   "cell_type": "code",
   "execution_count": 3,
   "metadata": {},
   "outputs": [],
   "source": [
    "# load a dataframe\n",
    "df = pd.read_csv('Example/medical_no_show.csv', parse_dates=['appointment_day', 'scheduled_day'])\n",
    "df = df.head(5000)\n",
    "\n",
    "# load the table metadata\n",
    "meta = trane.TableMeta(json.loads(open('Example/meta.json').read()))\n",
    "\n",
    "# define a cutoff strategy\n",
    "cutoff_fn = lambda rows, entity_id: np.datetime64('1980-02-25')\n",
    "cutoff_strategy = trane.CutoffStrategy(generate_fn=cutoff_fn, description='with a fixed cutoff of 1980-02-25')\n",
    "\n",
    "# define operations\n",
    "filter_op = trane.ops.LessFilterOp(column_name='age'); filter_op.set_hyper_parameter(65)\n",
    "row_op = trane.ops.IdentityRowOp(column_name='no_show')\n",
    "transformation_op = trane.ops.IdentityTransformationOp(column_name='no_show')\n",
    "aggregation_op = trane.ops.LastAggregationOp(column_name='no_show')\n",
    "\n",
    "operations = [filter_op, row_op, transformation_op, aggregation_op]\n",
    "\n",
    "# create the prediction problem\n",
    "problem = trane.PredictionProblem(\n",
    "    operations=operations,\n",
    "    entity_id_col='appointment_id',\n",
    "    label_col='no_show',\n",
    "    table_meta=meta,\n",
    "    cutoff_strategy=cutoff_strategy)"
   ]
  },
  {
   "cell_type": "code",
   "execution_count": 4,
   "metadata": {},
   "outputs": [
    {
     "data": {
      "text/plain": "                   cutoff  label\nappointment_id                  \n5030230        1980-02-25      0\n5303666        1980-02-25      0\n5304747        1980-02-25      0\n5322246        1980-02-25      0\n5338898        1980-02-25      0\n5351190        1980-02-25      0\n5351199        1980-02-25      0\n5351207        1980-02-25      1\n5351216        1980-02-25      1\n5351222        1980-02-25      1",
      "text/html": "<div>\n<style scoped>\n    .dataframe tbody tr th:only-of-type {\n        vertical-align: middle;\n    }\n\n    .dataframe tbody tr th {\n        vertical-align: top;\n    }\n\n    .dataframe thead th {\n        text-align: right;\n    }\n</style>\n<table border=\"1\" class=\"dataframe\">\n  <thead>\n    <tr style=\"text-align: right;\">\n      <th></th>\n      <th>cutoff</th>\n      <th>label</th>\n    </tr>\n    <tr>\n      <th>appointment_id</th>\n      <th></th>\n      <th></th>\n    </tr>\n  </thead>\n  <tbody>\n    <tr>\n      <th>5030230</th>\n      <td>1980-02-25</td>\n      <td>0</td>\n    </tr>\n    <tr>\n      <th>5303666</th>\n      <td>1980-02-25</td>\n      <td>0</td>\n    </tr>\n    <tr>\n      <th>5304747</th>\n      <td>1980-02-25</td>\n      <td>0</td>\n    </tr>\n    <tr>\n      <th>5322246</th>\n      <td>1980-02-25</td>\n      <td>0</td>\n    </tr>\n    <tr>\n      <th>5338898</th>\n      <td>1980-02-25</td>\n      <td>0</td>\n    </tr>\n    <tr>\n      <th>5351190</th>\n      <td>1980-02-25</td>\n      <td>0</td>\n    </tr>\n    <tr>\n      <th>5351199</th>\n      <td>1980-02-25</td>\n      <td>0</td>\n    </tr>\n    <tr>\n      <th>5351207</th>\n      <td>1980-02-25</td>\n      <td>1</td>\n    </tr>\n    <tr>\n      <th>5351216</th>\n      <td>1980-02-25</td>\n      <td>1</td>\n    </tr>\n    <tr>\n      <th>5351222</th>\n      <td>1980-02-25</td>\n      <td>1</td>\n    </tr>\n  </tbody>\n</table>\n</div>"
     },
     "execution_count": 4,
     "metadata": {},
     "output_type": "execute_result"
    }
   ],
   "source": [
    "res = problem.execute(df)\n",
    "res.head(10)"
   ]
  },
  {
   "cell_type": "code",
   "execution_count": 5,
   "metadata": {},
   "outputs": [
    {
     "data": {
      "text/plain": "[<trane.core.prediction_problem.PredictionProblem at 0x7fd731093a90>,\n <trane.core.prediction_problem.PredictionProblem at 0x7fd72d2f4e50>,\n <trane.core.prediction_problem.PredictionProblem at 0x7fd72d319190>,\n <trane.core.prediction_problem.PredictionProblem at 0x7fd726fc6590>,\n <trane.core.prediction_problem.PredictionProblem at 0x7fd72d001b90>,\n <trane.core.prediction_problem.PredictionProblem at 0x7fd72d149650>,\n <trane.core.prediction_problem.PredictionProblem at 0x7fd72d2f4c10>,\n <trane.core.prediction_problem.PredictionProblem at 0x7fd72d2f19d0>,\n <trane.core.prediction_problem.PredictionProblem at 0x7fd72db0f610>,\n <trane.core.prediction_problem.PredictionProblem at 0x7fd7310b0a90>,\n <trane.core.prediction_problem.PredictionProblem at 0x7fd726fc2850>,\n <trane.core.prediction_problem.PredictionProblem at 0x7fd72d2f4e90>,\n <trane.core.prediction_problem.PredictionProblem at 0x7fd731093b50>,\n <trane.core.prediction_problem.PredictionProblem at 0x7fd731093850>,\n <trane.core.prediction_problem.PredictionProblem at 0x7fd731093fd0>,\n <trane.core.prediction_problem.PredictionProblem at 0x7fd72d2f4c90>,\n <trane.core.prediction_problem.PredictionProblem at 0x7fd72e680990>,\n <trane.core.prediction_problem.PredictionProblem at 0x7fd72e913ed0>,\n <trane.core.prediction_problem.PredictionProblem at 0x7fd731093b90>,\n <trane.core.prediction_problem.PredictionProblem at 0x7fd72db0f550>,\n <trane.core.prediction_problem.PredictionProblem at 0x7fd7310b0c10>,\n <trane.core.prediction_problem.PredictionProblem at 0x7fd72e1e6a90>,\n <trane.core.prediction_problem.PredictionProblem at 0x7fd731093650>,\n <trane.core.prediction_problem.PredictionProblem at 0x7fd72e913650>,\n <trane.core.prediction_problem.PredictionProblem at 0x7fd72db0f790>,\n <trane.core.prediction_problem.PredictionProblem at 0x7fd72e1e69d0>,\n <trane.core.prediction_problem.PredictionProblem at 0x7fd72e581690>,\n <trane.core.prediction_problem.PredictionProblem at 0x7fd7310b0a50>,\n <trane.core.prediction_problem.PredictionProblem at 0x7fd72db0fc10>,\n <trane.core.prediction_problem.PredictionProblem at 0x7fd72e680950>,\n <trane.core.prediction_problem.PredictionProblem at 0x7fd72e680850>,\n <trane.core.prediction_problem.PredictionProblem at 0x7fd72d319690>,\n <trane.core.prediction_problem.PredictionProblem at 0x7fd72e680d50>,\n <trane.core.prediction_problem.PredictionProblem at 0x7fd72e680210>,\n <trane.core.prediction_problem.PredictionProblem at 0x7fd72e680fd0>,\n <trane.core.prediction_problem.PredictionProblem at 0x7fd72e913490>,\n <trane.core.prediction_problem.PredictionProblem at 0x7fd72db0f250>,\n <trane.core.prediction_problem.PredictionProblem at 0x7fd72e680dd0>,\n <trane.core.prediction_problem.PredictionProblem at 0x7fd72d5ef110>,\n <trane.core.prediction_problem.PredictionProblem at 0x7fd72d853f10>,\n <trane.core.prediction_problem.PredictionProblem at 0x7fd72d853210>,\n <trane.core.prediction_problem.PredictionProblem at 0x7fd72d853c90>,\n <trane.core.prediction_problem.PredictionProblem at 0x7fd72d8534d0>,\n <trane.core.prediction_problem.PredictionProblem at 0x7fd72d853f50>,\n <trane.core.prediction_problem.PredictionProblem at 0x7fd72d853550>,\n <trane.core.prediction_problem.PredictionProblem at 0x7fd72db0f890>,\n <trane.core.prediction_problem.PredictionProblem at 0x7fd72dd68c50>,\n <trane.core.prediction_problem.PredictionProblem at 0x7fd72e581c50>,\n <trane.core.prediction_problem.PredictionProblem at 0x7fd72e680090>,\n <trane.core.prediction_problem.PredictionProblem at 0x7fd72e953450>,\n <trane.core.prediction_problem.PredictionProblem at 0x7fd72dd68e10>,\n <trane.core.prediction_problem.PredictionProblem at 0x7fd72d853950>,\n <trane.core.prediction_problem.PredictionProblem at 0x7fd7310b0250>,\n <trane.core.prediction_problem.PredictionProblem at 0x7fd72e680c90>,\n <trane.core.prediction_problem.PredictionProblem at 0x7fd72e953310>,\n <trane.core.prediction_problem.PredictionProblem at 0x7fd72d5ef210>,\n <trane.core.prediction_problem.PredictionProblem at 0x7fd72e1e6550>,\n <trane.core.prediction_problem.PredictionProblem at 0x7fd72d853690>,\n <trane.core.prediction_problem.PredictionProblem at 0x7fd72e581910>,\n <trane.core.prediction_problem.PredictionProblem at 0x7fd72e913250>,\n <trane.core.prediction_problem.PredictionProblem at 0x7fd72d82a490>,\n <trane.core.prediction_problem.PredictionProblem at 0x7fd72dd68910>,\n <trane.core.prediction_problem.PredictionProblem at 0x7fd72e1e6790>,\n <trane.core.prediction_problem.PredictionProblem at 0x7fd72e581a90>,\n <trane.core.prediction_problem.PredictionProblem at 0x7fd72d5efa50>,\n <trane.core.prediction_problem.PredictionProblem at 0x7fd72d597590>,\n <trane.core.prediction_problem.PredictionProblem at 0x7fd72d853c50>,\n <trane.core.prediction_problem.PredictionProblem at 0x7fd72d853ad0>,\n <trane.core.prediction_problem.PredictionProblem at 0x7fd72e913b50>,\n <trane.core.prediction_problem.PredictionProblem at 0x7fd72e5819d0>,\n <trane.core.prediction_problem.PredictionProblem at 0x7fd72e581750>,\n <trane.core.prediction_problem.PredictionProblem at 0x7fd72e581450>,\n <trane.core.prediction_problem.PredictionProblem at 0x7fd72e581810>,\n <trane.core.prediction_problem.PredictionProblem at 0x7fd72e581350>,\n <trane.core.prediction_problem.PredictionProblem at 0x7fd72e581990>,\n <trane.core.prediction_problem.PredictionProblem at 0x7fd72d5974d0>,\n <trane.core.prediction_problem.PredictionProblem at 0x7fd7310b0fd0>,\n <trane.core.prediction_problem.PredictionProblem at 0x7fd72d853bd0>,\n <trane.core.prediction_problem.PredictionProblem at 0x7fd72d853590>,\n <trane.core.prediction_problem.PredictionProblem at 0x7fd72e581e10>,\n <trane.core.prediction_problem.PredictionProblem at 0x7fd72e581f50>,\n <trane.core.prediction_problem.PredictionProblem at 0x7fd72e680f50>,\n <trane.core.prediction_problem.PredictionProblem at 0x7fd72e680ed0>,\n <trane.core.prediction_problem.PredictionProblem at 0x7fd72d82a650>,\n <trane.core.prediction_problem.PredictionProblem at 0x7fd72e953f50>,\n <trane.core.prediction_problem.PredictionProblem at 0x7fd72e581e50>,\n <trane.core.prediction_problem.PredictionProblem at 0x7fd72e680a10>,\n <trane.core.prediction_problem.PredictionProblem at 0x7fd72d853410>,\n <trane.core.prediction_problem.PredictionProblem at 0x7fd7310b0cd0>,\n <trane.core.prediction_problem.PredictionProblem at 0x7fd72dd68490>,\n <trane.core.prediction_problem.PredictionProblem at 0x7fd72e680750>,\n <trane.core.prediction_problem.PredictionProblem at 0x7fd72e913cd0>,\n <trane.core.prediction_problem.PredictionProblem at 0x7fd72e1e6510>,\n <trane.core.prediction_problem.PredictionProblem at 0x7fd7310b0550>,\n <trane.core.prediction_problem.PredictionProblem at 0x7fd72d5ef350>,\n <trane.core.prediction_problem.PredictionProblem at 0x7fd72e680b10>,\n <trane.core.prediction_problem.PredictionProblem at 0x7fd72d4a1550>,\n <trane.core.prediction_problem.PredictionProblem at 0x7fd72e953390>,\n <trane.core.prediction_problem.PredictionProblem at 0x7fd72db0f050>,\n <trane.core.prediction_problem.PredictionProblem at 0x7fd72d597a90>,\n <trane.core.prediction_problem.PredictionProblem at 0x7fd72d597190>,\n <trane.core.prediction_problem.PredictionProblem at 0x7fd72d597450>,\n <trane.core.prediction_problem.PredictionProblem at 0x7fd72d5972d0>,\n <trane.core.prediction_problem.PredictionProblem at 0x7fd72d597e10>,\n <trane.core.prediction_problem.PredictionProblem at 0x7fd72d597110>,\n <trane.core.prediction_problem.PredictionProblem at 0x7fd72d597710>,\n <trane.core.prediction_problem.PredictionProblem at 0x7fd72d9a3a90>,\n <trane.core.prediction_problem.PredictionProblem at 0x7fd72e913e90>,\n <trane.core.prediction_problem.PredictionProblem at 0x7fd72dd68390>,\n <trane.core.prediction_problem.PredictionProblem at 0x7fd72d5971d0>,\n <trane.core.prediction_problem.PredictionProblem at 0x7fd72d597250>,\n <trane.core.prediction_problem.PredictionProblem at 0x7fd72d5978d0>,\n <trane.core.prediction_problem.PredictionProblem at 0x7fd72db0f150>,\n <trane.core.prediction_problem.PredictionProblem at 0x7fd72db0f210>,\n <trane.core.prediction_problem.PredictionProblem at 0x7fd72db0f850>,\n <trane.core.prediction_problem.PredictionProblem at 0x7fd72db0f810>,\n <trane.core.prediction_problem.PredictionProblem at 0x7fd72e1e6610>,\n <trane.core.prediction_problem.PredictionProblem at 0x7fd72d9a3510>,\n <trane.core.prediction_problem.PredictionProblem at 0x7fd72d597d10>,\n <trane.core.prediction_problem.PredictionProblem at 0x7fd72e913a50>,\n <trane.core.prediction_problem.PredictionProblem at 0x7fd7310b0690>,\n <trane.core.prediction_problem.PredictionProblem at 0x7fd7310b02d0>,\n <trane.core.prediction_problem.PredictionProblem at 0x7fd7310b09d0>,\n <trane.core.prediction_problem.PredictionProblem at 0x7fd72db0f750>,\n <trane.core.prediction_problem.PredictionProblem at 0x7fd72e913d50>,\n <trane.core.prediction_problem.PredictionProblem at 0x7fd72e913090>,\n <trane.core.prediction_problem.PredictionProblem at 0x7fd72dced190>,\n <trane.core.prediction_problem.PredictionProblem at 0x7fd72d5efa90>,\n <trane.core.prediction_problem.PredictionProblem at 0x7fd72db0fb50>,\n <trane.core.prediction_problem.PredictionProblem at 0x7fd7310b0050>,\n <trane.core.prediction_problem.PredictionProblem at 0x7fd72d82aa90>,\n <trane.core.prediction_problem.PredictionProblem at 0x7fd72e9133d0>,\n <trane.core.prediction_problem.PredictionProblem at 0x7fd72e913350>,\n <trane.core.prediction_problem.PredictionProblem at 0x7fd72e1e6e90>,\n <trane.core.prediction_problem.PredictionProblem at 0x7fd72d5efd50>,\n <trane.core.prediction_problem.PredictionProblem at 0x7fd72d82a850>,\n <trane.core.prediction_problem.PredictionProblem at 0x7fd72e9130d0>,\n <trane.core.prediction_problem.PredictionProblem at 0x7fd7310b0390>,\n <trane.core.prediction_problem.PredictionProblem at 0x7fd72e1e6d50>,\n <trane.core.prediction_problem.PredictionProblem at 0x7fd72e1e60d0>,\n <trane.core.prediction_problem.PredictionProblem at 0x7fd72e9533d0>,\n <trane.core.prediction_problem.PredictionProblem at 0x7fd72e1e6310>,\n <trane.core.prediction_problem.PredictionProblem at 0x7fd72e953fd0>,\n <trane.core.prediction_problem.PredictionProblem at 0x7fd72e9532d0>,\n <trane.core.prediction_problem.PredictionProblem at 0x7fd72e953b10>,\n <trane.core.prediction_problem.PredictionProblem at 0x7fd72d9a3a50>,\n <trane.core.prediction_problem.PredictionProblem at 0x7fd72e1e6b10>,\n <trane.core.prediction_problem.PredictionProblem at 0x7fd72dced250>,\n <trane.core.prediction_problem.PredictionProblem at 0x7fd72e5eeb10>,\n <trane.core.prediction_problem.PredictionProblem at 0x7fd72eac24d0>,\n <trane.core.prediction_problem.PredictionProblem at 0x7fd72d4a1490>,\n <trane.core.prediction_problem.PredictionProblem at 0x7fd72dced850>,\n <trane.core.prediction_problem.PredictionProblem at 0x7fd72e9534d0>,\n <trane.core.prediction_problem.PredictionProblem at 0x7fd72e953c90>,\n <trane.core.prediction_problem.PredictionProblem at 0x7fd72d9a3710>,\n <trane.core.prediction_problem.PredictionProblem at 0x7fd72e724610>,\n <trane.core.prediction_problem.PredictionProblem at 0x7fd72e953090>,\n <trane.core.prediction_problem.PredictionProblem at 0x7fd72dc67390>,\n <trane.core.prediction_problem.PredictionProblem at 0x7fd72e5945d0>,\n <trane.core.prediction_problem.PredictionProblem at 0x7fd72d82af90>,\n <trane.core.prediction_problem.PredictionProblem at 0x7fd72e953e10>,\n <trane.core.prediction_problem.PredictionProblem at 0x7fd72dd68990>,\n <trane.core.prediction_problem.PredictionProblem at 0x7fd72d5ef910>,\n <trane.core.prediction_problem.PredictionProblem at 0x7fd72d9a3ad0>,\n <trane.core.prediction_problem.PredictionProblem at 0x7fd72e5ee8d0>,\n <trane.core.prediction_problem.PredictionProblem at 0x7fd72d82a8d0>,\n <trane.core.prediction_problem.PredictionProblem at 0x7fd72d4a1d10>,\n <trane.core.prediction_problem.PredictionProblem at 0x7fd72eac2550>,\n <trane.core.prediction_problem.PredictionProblem at 0x7fd72e7240d0>,\n <trane.core.prediction_problem.PredictionProblem at 0x7fd72e5eee50>,\n <trane.core.prediction_problem.PredictionProblem at 0x7fd72e5eecd0>,\n <trane.core.prediction_problem.PredictionProblem at 0x7fd72e5eed10>,\n <trane.core.prediction_problem.PredictionProblem at 0x7fd72e5ee490>,\n <trane.core.prediction_problem.PredictionProblem at 0x7fd72e5ee250>,\n <trane.core.prediction_problem.PredictionProblem at 0x7fd72e5eea50>,\n <trane.core.prediction_problem.PredictionProblem at 0x7fd72eac2050>,\n <trane.core.prediction_problem.PredictionProblem at 0x7fd72dd68c90>,\n <trane.core.prediction_problem.PredictionProblem at 0x7fd72e1cbb90>,\n <trane.core.prediction_problem.PredictionProblem at 0x7fd72d9a3ed0>,\n <trane.core.prediction_problem.PredictionProblem at 0x7fd72d4a17d0>,\n <trane.core.prediction_problem.PredictionProblem at 0x7fd72d4a1950>,\n <trane.core.prediction_problem.PredictionProblem at 0x7fd72d4a1cd0>,\n <trane.core.prediction_problem.PredictionProblem at 0x7fd72d4a1d90>,\n <trane.core.prediction_problem.PredictionProblem at 0x7fd72d4a1590>,\n <trane.core.prediction_problem.PredictionProblem at 0x7fd72d4a1ed0>,\n <trane.core.prediction_problem.PredictionProblem at 0x7fd72d82ac10>,\n <trane.core.prediction_problem.PredictionProblem at 0x7fd72dd68750>,\n <trane.core.prediction_problem.PredictionProblem at 0x7fd72dd68a90>,\n <trane.core.prediction_problem.PredictionProblem at 0x7fd72dd68250>,\n <trane.core.prediction_problem.PredictionProblem at 0x7fd72d82af50>,\n <trane.core.prediction_problem.PredictionProblem at 0x7fd72e594fd0>,\n <trane.core.prediction_problem.PredictionProblem at 0x7fd72d4a1410>,\n <trane.core.prediction_problem.PredictionProblem at 0x7fd72dd68b50>,\n <trane.core.prediction_problem.PredictionProblem at 0x7fd72dd68850>,\n <trane.core.prediction_problem.PredictionProblem at 0x7fd72dced5d0>,\n <trane.core.prediction_problem.PredictionProblem at 0x7fd72eac2990>,\n <trane.core.prediction_problem.PredictionProblem at 0x7fd72dd68ad0>,\n <trane.core.prediction_problem.PredictionProblem at 0x7fd72d4a1210>,\n <trane.core.prediction_problem.PredictionProblem at 0x7fd72d82ad50>,\n <trane.core.prediction_problem.PredictionProblem at 0x7fd72e594450>,\n <trane.core.prediction_problem.PredictionProblem at 0x7fd72dc67b50>,\n <trane.core.prediction_problem.PredictionProblem at 0x7fd72e1cb810>,\n <trane.core.prediction_problem.PredictionProblem at 0x7fd72e594cd0>,\n <trane.core.prediction_problem.PredictionProblem at 0x7fd72d5efd90>,\n <trane.core.prediction_problem.PredictionProblem at 0x7fd72d9a35d0>,\n <trane.core.prediction_problem.PredictionProblem at 0x7fd72e972050>,\n <trane.core.prediction_problem.PredictionProblem at 0x7fd72d82a590>,\n <trane.core.prediction_problem.PredictionProblem at 0x7fd72d82aa10>,\n <trane.core.prediction_problem.PredictionProblem at 0x7fd72dc67f90>,\n <trane.core.prediction_problem.PredictionProblem at 0x7fd72e1cb610>,\n <trane.core.prediction_problem.PredictionProblem at 0x7fd72e1cb750>,\n <trane.core.prediction_problem.PredictionProblem at 0x7fd72e1cbbd0>,\n <trane.core.prediction_problem.PredictionProblem at 0x7fd72e1cb950>,\n <trane.core.prediction_problem.PredictionProblem at 0x7fd72e1cba90>,\n <trane.core.prediction_problem.PredictionProblem at 0x7fd72e1cb8d0>,\n <trane.core.prediction_problem.PredictionProblem at 0x7fd72d82a310>,\n <trane.core.prediction_problem.PredictionProblem at 0x7fd72dced690>,\n <trane.core.prediction_problem.PredictionProblem at 0x7fd72e5ee190>,\n <trane.core.prediction_problem.PredictionProblem at 0x7fd72e5eee90>,\n <trane.core.prediction_problem.PredictionProblem at 0x7fd7264aa990>,\n <trane.core.prediction_problem.PredictionProblem at 0x7fd72d82a710>,\n <trane.core.prediction_problem.PredictionProblem at 0x7fd72e972250>,\n <trane.core.prediction_problem.PredictionProblem at 0x7fd72dced110>,\n <trane.core.prediction_problem.PredictionProblem at 0x7fd72e5ee290>,\n <trane.core.prediction_problem.PredictionProblem at 0x7fd72e5ee150>,\n <trane.core.prediction_problem.PredictionProblem at 0x7fd72e28d250>,\n <trane.core.prediction_problem.PredictionProblem at 0x7fd72e972650>,\n <trane.core.prediction_problem.PredictionProblem at 0x7fd72d5ef510>,\n <trane.core.prediction_problem.PredictionProblem at 0x7fd72dcedd10>,\n <trane.core.prediction_problem.PredictionProblem at 0x7fd72e5943d0>,\n <trane.core.prediction_problem.PredictionProblem at 0x7fd72e28dd90>,\n <trane.core.prediction_problem.PredictionProblem at 0x7fd72e5eef90>,\n <trane.core.prediction_problem.PredictionProblem at 0x7fd72d9a3490>,\n <trane.core.prediction_problem.PredictionProblem at 0x7fd72e724b90>,\n <trane.core.prediction_problem.PredictionProblem at 0x7fd72e594c10>,\n <trane.core.prediction_problem.PredictionProblem at 0x7fd72e972d50>,\n <trane.core.prediction_problem.PredictionProblem at 0x7fd72e1cbe90>,\n <trane.core.prediction_problem.PredictionProblem at 0x7fd72e28dfd0>,\n <trane.core.prediction_problem.PredictionProblem at 0x7fd72dcedd50>,\n <trane.core.prediction_problem.PredictionProblem at 0x7fd72e7245d0>,\n <trane.core.prediction_problem.PredictionProblem at 0x7fd72e724d90>,\n <trane.core.prediction_problem.PredictionProblem at 0x7fd72e724b10>,\n <trane.core.prediction_problem.PredictionProblem at 0x7fd72e724550>,\n <trane.core.prediction_problem.PredictionProblem at 0x7fd72e724450>,\n <trane.core.prediction_problem.PredictionProblem at 0x7fd72e724e10>,\n <trane.core.prediction_problem.PredictionProblem at 0x7fd7264aabd0>,\n <trane.core.prediction_problem.PredictionProblem at 0x7fd72e1cb0d0>,\n <trane.core.prediction_problem.PredictionProblem at 0x7fd72e50c1d0>,\n <trane.core.prediction_problem.PredictionProblem at 0x7fd72e594d50>,\n <trane.core.prediction_problem.PredictionProblem at 0x7fd72e1cb490>,\n <trane.core.prediction_problem.PredictionProblem at 0x7fd72e1cba50>,\n <trane.core.prediction_problem.PredictionProblem at 0x7fd72e1cb110>,\n <trane.core.prediction_problem.PredictionProblem at 0x7fd72eac2190>,\n <trane.core.prediction_problem.PredictionProblem at 0x7fd72eac2310>,\n <trane.core.prediction_problem.PredictionProblem at 0x7fd72eac2850>,\n <trane.core.prediction_problem.PredictionProblem at 0x7fd72d9a3810>,\n <trane.core.prediction_problem.PredictionProblem at 0x7fd72d9a3f90>,\n <trane.core.prediction_problem.PredictionProblem at 0x7fd72d5eff50>,\n <trane.core.prediction_problem.PredictionProblem at 0x7fd72d5ef7d0>,\n <trane.core.prediction_problem.PredictionProblem at 0x7fd72e1cb650>,\n <trane.core.prediction_problem.PredictionProblem at 0x7fd72dceded0>,\n <trane.core.prediction_problem.PredictionProblem at 0x7fd72dced390>,\n <trane.core.prediction_problem.PredictionProblem at 0x7fd72dc46750>,\n <trane.core.prediction_problem.PredictionProblem at 0x7fd72eac2490>,\n <trane.core.prediction_problem.PredictionProblem at 0x7fd72eac2450>,\n <trane.core.prediction_problem.PredictionProblem at 0x7fd72dced210>,\n <trane.core.prediction_problem.PredictionProblem at 0x7fd72dc676d0>,\n <trane.core.prediction_problem.PredictionProblem at 0x7fd72e62d550>,\n <trane.core.prediction_problem.PredictionProblem at 0x7fd72d9a3450>,\n <trane.core.prediction_problem.PredictionProblem at 0x7fd72dced1d0>,\n <trane.core.prediction_problem.PredictionProblem at 0x7fd72eac2110>,\n <trane.core.prediction_problem.PredictionProblem at 0x7fd72dc46e10>,\n <trane.core.prediction_problem.PredictionProblem at 0x7fd72d5ef9d0>,\n <trane.core.prediction_problem.PredictionProblem at 0x7fd72e594290>,\n <trane.core.prediction_problem.PredictionProblem at 0x7fd72d9a3410>,\n <trane.core.prediction_problem.PredictionProblem at 0x7fd72eac27d0>,\n <trane.core.prediction_problem.PredictionProblem at 0x7fd72d5efe10>,\n <trane.core.prediction_problem.PredictionProblem at 0x7fd72e724bd0>,\n <trane.core.prediction_problem.PredictionProblem at 0x7fd72e724110>,\n <trane.core.prediction_problem.PredictionProblem at 0x7fd72e62dd90>,\n <trane.core.prediction_problem.PredictionProblem at 0x7fd72e62d790>,\n <trane.core.prediction_problem.PredictionProblem at 0x7fd72e1cbe50>,\n <trane.core.prediction_problem.PredictionProblem at 0x7fd72e62dcd0>,\n <trane.core.prediction_problem.PredictionProblem at 0x7fd72e62d9d0>,\n <trane.core.prediction_problem.PredictionProblem at 0x7fd72e62d510>,\n <trane.core.prediction_problem.PredictionProblem at 0x7fd72e99de10>,\n <trane.core.prediction_problem.PredictionProblem at 0x7fd72e49edd0>,\n <trane.core.prediction_problem.PredictionProblem at 0x7fd72e724d10>,\n <trane.core.prediction_problem.PredictionProblem at 0x7fd72e28df10>,\n <trane.core.prediction_problem.PredictionProblem at 0x7fd72e99d050>,\n <trane.core.prediction_problem.PredictionProblem at 0x7fd72e99d490>,\n <trane.core.prediction_problem.PredictionProblem at 0x7fd72e99dd90>,\n <trane.core.prediction_problem.PredictionProblem at 0x7fd72e99dcd0>,\n <trane.core.prediction_problem.PredictionProblem at 0x7fd72e99d910>,\n <trane.core.prediction_problem.PredictionProblem at 0x7fd72e99d790>,\n <trane.core.prediction_problem.PredictionProblem at 0x7fd72dc67610>,\n <trane.core.prediction_problem.PredictionProblem at 0x7fd72e49ea90>,\n <trane.core.prediction_problem.PredictionProblem at 0x7fd72e99d510>,\n <trane.core.prediction_problem.PredictionProblem at 0x7fd72e28db10>,\n <trane.core.prediction_problem.PredictionProblem at 0x7fd72e972d90>,\n <trane.core.prediction_problem.PredictionProblem at 0x7fd72e972d10>,\n <trane.core.prediction_problem.PredictionProblem at 0x7fd72e972c50>,\n <trane.core.prediction_problem.PredictionProblem at 0x7fd72e972610>,\n <trane.core.prediction_problem.PredictionProblem at 0x7fd72e9724d0>,\n <trane.core.prediction_problem.PredictionProblem at 0x7fd72e9720d0>,\n <trane.core.prediction_problem.PredictionProblem at 0x7fd72e49e510>,\n <trane.core.prediction_problem.PredictionProblem at 0x7fd72e62d950>,\n <trane.core.prediction_problem.PredictionProblem at 0x7fd7264aa910>,\n <trane.core.prediction_problem.PredictionProblem at 0x7fd72e594bd0>,\n <trane.core.prediction_problem.PredictionProblem at 0x7fd72e594c90>,\n <trane.core.prediction_problem.PredictionProblem at 0x7fd72e62de50>,\n <trane.core.prediction_problem.PredictionProblem at 0x7fd72e972550>,\n <trane.core.prediction_problem.PredictionProblem at 0x7fd72e972910>,\n <trane.core.prediction_problem.PredictionProblem at 0x7fd72e594510>,\n <trane.core.prediction_problem.PredictionProblem at 0x7fd72e62d1d0>,\n <trane.core.prediction_problem.PredictionProblem at 0x7fd72e972710>,\n <trane.core.prediction_problem.PredictionProblem at 0x7fd72dc67510>,\n <trane.core.prediction_problem.PredictionProblem at 0x7fd72e28d510>,\n <trane.core.prediction_problem.PredictionProblem at 0x7fd72dc98790>,\n <trane.core.prediction_problem.PredictionProblem at 0x7fd72e99dc90>,\n <trane.core.prediction_problem.PredictionProblem at 0x7fd72e62d490>,\n <trane.core.prediction_problem.PredictionProblem at 0x7fd72e62db10>,\n <trane.core.prediction_problem.PredictionProblem at 0x7fd7264aa490>,\n <trane.core.prediction_problem.PredictionProblem at 0x7fd72e594b50>,\n <trane.core.prediction_problem.PredictionProblem at 0x7fd72e50c290>,\n <trane.core.prediction_problem.PredictionProblem at 0x7fd72dc46410>,\n <trane.core.prediction_problem.PredictionProblem at 0x7fd72d799ed0>,\n <trane.core.prediction_problem.PredictionProblem at 0x7fd72e28d890>,\n <trane.core.prediction_problem.PredictionProblem at 0x7fd72e62d890>,\n <trane.core.prediction_problem.PredictionProblem at 0x7fd72e62dc50>]"
     },
     "execution_count": 5,
     "metadata": {},
     "output_type": "execute_result"
    }
   ],
   "source": [
    "# You can also generate questions\n",
    "sampled_df = df.sample(frac=.2)\n",
    "\n",
    "problem_generator = trane.PredictionProblemGenerator(\n",
    "    table_meta=meta, entity_col='appointment_id', label_col='no_show', filter_col='age')\n",
    "\n",
    "problems = problem_generator.generate(sampled_df)\n",
    "problems"
   ]
  },
  {
   "cell_type": "code",
   "execution_count": 6,
   "metadata": {},
   "outputs": [
    {
     "data": {
      "text/plain": "'For each appointment_id predict with the first of  of '"
     },
     "execution_count": 6,
     "metadata": {},
     "output_type": "execute_result"
    }
   ],
   "source": [
    "str(problems[0])"
   ]
  },
  {
   "cell_type": "code",
   "execution_count": 7,
   "metadata": {},
   "outputs": [
    {
     "data": {
      "text/plain": "'For each appointment_id predict with age greater than 12the first of  of '"
     },
     "execution_count": 7,
     "metadata": {},
     "output_type": "execute_result"
    }
   ],
   "source": [
    "str(problems[1])"
   ]
  }
 ],
 "metadata": {
  "kernelspec": {
   "name": "pycharm-9108843f",
   "language": "python",
   "display_name": "PyCharm (Trane)"
  },
  "language_info": {
   "codemirror_mode": {
    "name": "ipython",
    "version": 3
   },
   "file_extension": ".py",
   "mimetype": "text/x-python",
   "name": "python",
   "nbconvert_exporter": "python",
   "pygments_lexer": "ipython3",
   "version": "3.6.1"
  }
 },
 "nbformat": 4,
 "nbformat_minor": 2
}
