{
 "cells": [
  {
   "cell_type": "code",
   "execution_count": 2,
   "id": "7efd117b",
   "metadata": {},
   "outputs": [],
   "source": [
    "import warnings\n",
    "#warnings.filterwarnings(\"ignore\")\n",
    "warnings.filterwarnings(\"ignore\", category=DeprecationWarning)\n",
    "\n",
    "import copy\n",
    "import json\n",
    "import pandas as pd\n",
    "import os\n",
    "import sys\n",
    "import featuretools as ft\n",
    "import numpy as np\n",
    "import matplotlib.pyplot as plt\n",
    "import matplotlib\n",
    "%matplotlib inline\n",
    "\n",
    "sys.path.append('../../')\n",
    "from Trane import trane as trane\n",
    "from datetime import datetime, timedelta\n",
    "from sentence_transformers import SentenceTransformer\n",
    "from atm import ATM"
   ]
  },
  {
   "cell_type": "code",
   "execution_count": null,
   "id": "579ae6be",
   "metadata": {},
   "outputs": [],
   "source": [
    "case_folder = 'covid_pts'\n",
    "os.makedirs(case_folder, exist_ok=True)\n",
    "os.chdir(case_folder)"
   ]
  },
  {
   "cell_type": "markdown",
   "id": "8d67ebc9",
   "metadata": {},
   "source": [
    "### Upload of the dataset and metadata"
   ]
  },
  {
   "cell_type": "code",
   "execution_count": 3,
   "id": "f1b249d7",
   "metadata": {},
   "outputs": [],
   "source": [
    "df = pd.read_csv('./covid19.csv')\n",
    "df['Date'] = df['Date'].apply(lambda x: datetime.strptime(x, \"%m/%d/%y\"))\n",
    "df = df.sort_values(by=['Date'])\n",
    "df = df.fillna(0)\n",
    "meta_covid = trane.TableMeta(json.loads(open('./meta_covid.json').read()))"
   ]
  },
  {
   "cell_type": "markdown",
   "id": "1bbdae66",
   "metadata": {},
   "source": [
    "### Defining entity column, time column and cutoff strategy"
   ]
  },
  {
   "cell_type": "code",
   "execution_count": 4,
   "id": "4916b1ac",
   "metadata": {},
   "outputs": [],
   "source": [
    "entity = 'Country/Region'\n",
    "time = 'Date'\n",
    "cutoff = '2d'\n",
    "cutoff_base = str(datetime.strptime(\"2020-01-22\", \"%Y-%m-%d\"))\n",
    "cutoff_end = str(datetime.strptime(\"2020-03-29\", \"%Y-%m-%d\"))\n",
    "cutoff_strategy = trane.FixWindowCutoffStrategy(entity, cutoff, cutoff_base, cutoff_end, cutoff)"
   ]
  },
  {
   "cell_type": "markdown",
   "id": "cce81137",
   "metadata": {},
   "source": [
    "### Generating prediction problems"
   ]
  },
  {
   "cell_type": "code",
   "execution_count": 5,
   "id": "fe494410",
   "metadata": {},
   "outputs": [
    {
     "name": "stdout",
     "output_type": "stream",
     "text": [
      "Success/Attempt = 516/1044\n"
     ]
    }
   ],
   "source": [
    "problem_generator = trane.PredictionProblemGenerator(table_meta=meta_covid,\n",
    "                                                     entity_col=entity,\n",
    "                                                     time_col=time,\n",
    "                                                     cutoff_strategy=cutoff_strategy)\n",
    "\n",
    "problems = problem_generator.generate(df, generate_thresholds=True)"
   ]
  },
  {
   "cell_type": "markdown",
   "id": "f0bc9b88",
   "metadata": {},
   "source": [
    "### Labeling the prediction tasks"
   ]
  },
  {
   "cell_type": "code",
   "execution_count": null,
   "id": "8a2ba67b",
   "metadata": {},
   "outputs": [
    {
     "name": "stdout",
     "output_type": "stream",
     "text": [
      "Elapsed: 00:02 | Remaining: 00:00 | Progress: 100%|███████████████████████| Country/Region: 177/177 \n",
      "Elapsed: 00:05 | Remaining: 00:00 | Progress: 100%|███████████████████████| Country/Region: 177/177 \n",
      "Elapsed: 00:05 | Remaining: 00:00 | Progress: 100%|███████████████████████| Country/Region: 177/177 \n",
      "Elapsed: 00:05 | Remaining: 00:00 | Progress: 100%|███████████████████████| Country/Region: 177/177 \n",
      "Elapsed: 00:04 | Remaining: 00:00 | Progress: 100%|███████████████████████| Country/Region: 177/177 \n",
      "Elapsed: 00:04 | Remaining: 00:00 | Progress: 100%|███████████████████████| Country/Region: 177/177 \n",
      "Elapsed: 00:05 | Remaining: 00:00 | Progress: 100%|███████████████████████| Country/Region: 177/177 \n",
      "Elapsed: 00:05 | Remaining: 00:00 | Progress: 100%|███████████████████████| Country/Region: 177/177 \n",
      "Elapsed: 00:05 | Remaining: 00:00 | Progress: 100%|███████████████████████| Country/Region: 177/177 \n",
      "Elapsed: 00:04 | Remaining: 00:00 | Progress: 100%|███████████████████████| Country/Region: 177/177 \n",
      "Elapsed: 00:04 | Remaining: 00:00 | Progress: 100%|███████████████████████| Country/Region: 177/177 \n",
      "Elapsed: 00:05 | Remaining: 00:00 | Progress: 100%|███████████████████████| Country/Region: 177/177 \n",
      "Elapsed: 00:05 | Remaining: 00:00 | Progress: 100%|███████████████████████| Country/Region: 177/177 \n",
      "Elapsed: 00:05 | Remaining: 00:00 | Progress: 100%|███████████████████████| Country/Region: 177/177 \n",
      "Elapsed: 00:05 | Remaining: 00:00 | Progress: 100%|███████████████████████| Country/Region: 177/177 \n",
      "Elapsed: 00:05 | Remaining: 00:00 | Progress: 100%|███████████████████████| Country/Region: 177/177 \n",
      "Elapsed: 00:05 | Remaining: 00:00 | Progress: 100%|███████████████████████| Country/Region: 177/177 \n",
      "Elapsed: 00:04 | Remaining: 00:00 | Progress: 100%|███████████████████████| Country/Region: 177/177 \n",
      "Elapsed: 00:05 | Remaining: 00:00 | Progress: 100%|███████████████████████| Country/Region: 177/177 \n",
      "Elapsed: 00:05 | Remaining: 00:00 | Progress: 100%|███████████████████████| Country/Region: 177/177 \n",
      "Elapsed: 00:04 | Remaining: 00:00 | Progress: 100%|███████████████████████| Country/Region: 177/177 \n",
      "Elapsed: 00:05 | Remaining: 00:00 | Progress: 100%|███████████████████████| Country/Region: 177/177 \n",
      "Elapsed: 00:04 | Remaining: 00:00 | Progress: 100%|███████████████████████| Country/Region: 177/177 \n",
      "Elapsed: 00:05 | Remaining: 00:00 | Progress: 100%|███████████████████████| Country/Region: 177/177 \n",
      "Elapsed: 00:05 | Remaining: 00:00 | Progress: 100%|███████████████████████| Country/Region: 177/177 \n",
      "Elapsed: 00:04 | Remaining: 00:00 | Progress: 100%|███████████████████████| Country/Region: 177/177 \n",
      "Elapsed: 00:03 | Remaining: 00:00 | Progress: 100%|███████████████████████| Country/Region: 177/177 \n",
      "Elapsed: 00:03 | Remaining: 00:00 | Progress: 100%|███████████████████████| Country/Region: 177/177 \n",
      "Elapsed: 00:03 | Remaining: 00:00 | Progress: 100%|███████████████████████| Country/Region: 177/177 \n",
      "Elapsed: 00:03 | Remaining: 00:00 | Progress: 100%|███████████████████████| Country/Region: 177/177 \n",
      "Elapsed: 00:05 | Remaining: 00:00 | Progress: 100%|███████████████████████| Country/Region: 177/177 \n",
      "Elapsed: 00:05 | Remaining: 00:00 | Progress: 100%|███████████████████████| Country/Region: 177/177 \n",
      "Elapsed: 00:05 | Remaining: 00:00 | Progress: 100%|███████████████████████| Country/Region: 177/177 \n",
      "Elapsed: 00:05 | Remaining: 00:00 | Progress: 100%|███████████████████████| Country/Region: 177/177 \n",
      "Elapsed: 00:05 | Remaining: 00:00 | Progress: 100%|███████████████████████| Country/Region: 177/177 \n",
      "Elapsed: 00:05 | Remaining: 00:00 | Progress: 100%|███████████████████████| Country/Region: 177/177 \n",
      "Elapsed: 00:05 | Remaining: 00:00 | Progress: 100%|███████████████████████| Country/Region: 177/177 \n",
      "Elapsed: 00:05 | Remaining: 00:00 | Progress: 100%|███████████████████████| Country/Region: 177/177 \n",
      "Elapsed: 00:05 | Remaining: 00:00 | Progress: 100%|███████████████████████| Country/Region: 177/177 \n",
      "Elapsed: 00:05 | Remaining: 00:00 | Progress: 100%|███████████████████████| Country/Region: 177/177 \n",
      "Elapsed: 00:05 | Remaining: 00:00 | Progress: 100%|███████████████████████| Country/Region: 177/177 \n",
      "Elapsed: 00:05 | Remaining: 00:00 | Progress: 100%|███████████████████████| Country/Region: 177/177 \n",
      "Elapsed: 00:05 | Remaining: 00:00 | Progress: 100%|███████████████████████| Country/Region: 177/177 \n",
      "Elapsed: 00:05 | Remaining: 00:00 | Progress: 100%|███████████████████████| Country/Region: 177/177 \n",
      "Elapsed: 00:05 | Remaining: 00:00 | Progress: 100%|███████████████████████| Country/Region: 177/177 \n",
      "Elapsed: 00:05 | Remaining: 00:00 | Progress: 100%|███████████████████████| Country/Region: 177/177 \n",
      "Elapsed: 00:05 | Remaining: 00:00 | Progress: 100%|███████████████████████| Country/Region: 177/177 \n",
      "Elapsed: 00:05 | Remaining: 00:00 | Progress: 100%|███████████████████████| Country/Region: 177/177 \n",
      "Elapsed: 00:05 | Remaining: 00:00 | Progress: 100%|███████████████████████| Country/Region: 177/177 \n",
      "Elapsed: 00:05 | Remaining: 00:00 | Progress: 100%|███████████████████████| Country/Region: 177/177 \n",
      "Elapsed: 00:05 | Remaining: 00:00 | Progress: 100%|███████████████████████| Country/Region: 177/177 \n",
      "Elapsed: 00:05 | Remaining: 00:00 | Progress: 100%|███████████████████████| Country/Region: 177/177 \n",
      "Elapsed: 00:05 | Remaining: 00:00 | Progress: 100%|███████████████████████| Country/Region: 177/177 \n",
      "Elapsed: 00:05 | Remaining: 00:00 | Progress: 100%|███████████████████████| Country/Region: 177/177 \n",
      "Elapsed: 00:05 | Remaining: 00:00 | Progress: 100%|███████████████████████| Country/Region: 177/177 \n",
      "Elapsed: 00:05 | Remaining: 00:00 | Progress: 100%|███████████████████████| Country/Region: 177/177 \n",
      "Elapsed: 00:05 | Remaining: 00:00 | Progress: 100%|███████████████████████| Country/Region: 177/177 \n",
      "Elapsed: 00:05 | Remaining: 00:00 | Progress: 100%|███████████████████████| Country/Region: 177/177 \n",
      "Elapsed: 00:05 | Remaining: 00:00 | Progress: 100%|███████████████████████| Country/Region: 177/177 \n",
      "Elapsed: 00:05 | Remaining: 00:00 | Progress: 100%|███████████████████████| Country/Region: 177/177 \n",
      "Elapsed: 00:05 | Remaining: 00:00 | Progress: 100%|███████████████████████| Country/Region: 177/177 \n",
      "Elapsed: 00:05 | Remaining: 00:00 | Progress: 100%|███████████████████████| Country/Region: 177/177 \n",
      "Elapsed: 00:05 | Remaining: 00:00 | Progress: 100%|███████████████████████| Country/Region: 177/177 \n",
      "Elapsed: 00:05 | Remaining: 00:00 | Progress: 100%|███████████████████████| Country/Region: 177/177 \n",
      "Elapsed: 00:05 | Remaining: 00:00 | Progress: 100%|███████████████████████| Country/Region: 177/177 \n",
      "Elapsed: 00:05 | Remaining: 00:00 | Progress: 100%|███████████████████████| Country/Region: 177/177 \n",
      "Elapsed: 00:05 | Remaining: 00:00 | Progress: 100%|███████████████████████| Country/Region: 177/177 \n",
      "Elapsed: 00:05 | Remaining: 00:00 | Progress: 100%|███████████████████████| Country/Region: 177/177 \n",
      "Elapsed: 00:05 | Remaining: 00:00 | Progress: 100%|███████████████████████| Country/Region: 177/177 \n",
      "Elapsed: 00:05 | Remaining: 00:00 | Progress: 100%|███████████████████████| Country/Region: 177/177 \n",
      "Elapsed: 00:05 | Remaining: 00:00 | Progress: 100%|███████████████████████| Country/Region: 177/177 \n",
      "Elapsed: 00:05 | Remaining: 00:00 | Progress: 100%|███████████████████████| Country/Region: 177/177 \n",
      "Elapsed: 00:05 | Remaining: 00:00 | Progress: 100%|███████████████████████| Country/Region: 177/177 \n",
      "Elapsed: 00:05 | Remaining: 00:00 | Progress: 100%|███████████████████████| Country/Region: 177/177 \n",
      "Elapsed: 00:05 | Remaining: 00:00 | Progress: 100%|███████████████████████| Country/Region: 177/177 \n",
      "Elapsed: 00:05 | Remaining: 00:00 | Progress: 100%|███████████████████████| Country/Region: 177/177 \n",
      "Elapsed: 00:05 | Remaining: 00:00 | Progress: 100%|███████████████████████| Country/Region: 177/177 \n",
      "Elapsed: 00:05 | Remaining: 00:00 | Progress: 100%|███████████████████████| Country/Region: 177/177 \n",
      "Elapsed: 00:05 | Remaining: 00:00 | Progress: 100%|███████████████████████| Country/Region: 177/177 \n",
      "Elapsed: 00:05 | Remaining: 00:00 | Progress: 100%|███████████████████████| Country/Region: 177/177 \n",
      "Elapsed: 00:05 | Remaining: 00:00 | Progress: 100%|███████████████████████| Country/Region: 177/177 \n"
     ]
    },
    {
     "name": "stdout",
     "output_type": "stream",
     "text": [
      "Elapsed: 00:05 | Remaining: 00:00 | Progress: 100%|███████████████████████| Country/Region: 177/177 \n",
      "Elapsed: 00:05 | Remaining: 00:00 | Progress: 100%|███████████████████████| Country/Region: 177/177 \n",
      "Elapsed: 00:05 | Remaining: 00:00 | Progress: 100%|███████████████████████| Country/Region: 177/177 \n",
      "Elapsed: 00:05 | Remaining: 00:00 | Progress: 100%|███████████████████████| Country/Region: 177/177 \n",
      "Elapsed: 00:05 | Remaining: 00:00 | Progress: 100%|███████████████████████| Country/Region: 177/177 \n",
      "Elapsed: 00:05 | Remaining: 00:00 | Progress: 100%|███████████████████████| Country/Region: 177/177 \n",
      "Elapsed: 00:05 | Remaining: 00:00 | Progress: 100%|███████████████████████| Country/Region: 177/177 \n",
      "Elapsed: 00:05 | Remaining: 00:00 | Progress: 100%|███████████████████████| Country/Region: 177/177 \n",
      "Elapsed: 00:05 | Remaining: 00:00 | Progress: 100%|███████████████████████| Country/Region: 177/177 \n",
      "Elapsed: 00:05 | Remaining: 00:00 | Progress: 100%|███████████████████████| Country/Region: 177/177 \n",
      "Elapsed: 00:05 | Remaining: 00:00 | Progress: 100%|███████████████████████| Country/Region: 177/177 \n",
      "Elapsed: 00:05 | Remaining: 00:00 | Progress: 100%|███████████████████████| Country/Region: 177/177 \n",
      "Elapsed: 00:05 | Remaining: 00:00 | Progress: 100%|███████████████████████| Country/Region: 177/177 \n",
      "Elapsed: 00:05 | Remaining: 00:00 | Progress: 100%|███████████████████████| Country/Region: 177/177 \n",
      "Elapsed: 00:05 | Remaining: 00:00 | Progress: 100%|███████████████████████| Country/Region: 177/177 \n",
      "Elapsed: 00:05 | Remaining: 00:00 | Progress: 100%|███████████████████████| Country/Region: 177/177 \n",
      "Elapsed: 00:05 | Remaining: 00:00 | Progress: 100%|███████████████████████| Country/Region: 177/177 \n",
      "Elapsed: 00:05 | Remaining: 00:00 | Progress: 100%|███████████████████████| Country/Region: 177/177 \n",
      "Elapsed: 00:05 | Remaining: 00:00 | Progress: 100%|███████████████████████| Country/Region: 177/177 \n",
      "Elapsed: 00:05 | Remaining: 00:00 | Progress: 100%|███████████████████████| Country/Region: 177/177 \n",
      "Elapsed: 00:05 | Remaining: 00:00 | Progress: 100%|███████████████████████| Country/Region: 177/177 \n",
      "Elapsed: 00:05 | Remaining: 00:00 | Progress: 100%|███████████████████████| Country/Region: 177/177 \n",
      "Elapsed: 00:05 | Remaining: 00:00 | Progress: 100%|███████████████████████| Country/Region: 177/177 \n",
      "Elapsed: 00:05 | Remaining: 00:00 | Progress: 100%|███████████████████████| Country/Region: 177/177 \n",
      "Elapsed: 00:05 | Remaining: 00:00 | Progress: 100%|███████████████████████| Country/Region: 177/177 \n",
      "Elapsed: 00:05 | Remaining: 00:00 | Progress: 100%|███████████████████████| Country/Region: 177/177 \n",
      "Elapsed: 00:05 | Remaining: 00:00 | Progress: 100%|███████████████████████| Country/Region: 177/177 \n",
      "Elapsed: 00:05 | Remaining: 00:00 | Progress: 100%|███████████████████████| Country/Region: 177/177 \n",
      "Elapsed: 00:05 | Remaining: 00:00 | Progress: 100%|███████████████████████| Country/Region: 177/177 \n",
      "Elapsed: 00:05 | Remaining: 00:00 | Progress: 100%|███████████████████████| Country/Region: 177/177 \n",
      "Elapsed: 00:05 | Remaining: 00:00 | Progress: 100%|███████████████████████| Country/Region: 177/177 \n",
      "Elapsed: 00:05 | Remaining: 00:00 | Progress: 100%|███████████████████████| Country/Region: 177/177 \n",
      "Elapsed: 00:04 | Remaining: 00:00 | Progress: 100%|███████████████████████| Country/Region: 177/177 \n",
      "Elapsed: 00:05 | Remaining: 00:00 | Progress: 100%|███████████████████████| Country/Region: 177/177 \n",
      "Elapsed: 00:05 | Remaining: 00:00 | Progress: 100%|███████████████████████| Country/Region: 177/177 \n",
      "Elapsed: 00:04 | Remaining: 00:00 | Progress: 100%|███████████████████████| Country/Region: 177/177 \n",
      "Elapsed: 00:05 | Remaining: 00:00 | Progress: 100%|███████████████████████| Country/Region: 177/177 \n",
      "Elapsed: 00:05 | Remaining: 00:00 | Progress: 100%|███████████████████████| Country/Region: 177/177 \n",
      "Elapsed: 00:04 | Remaining: 00:00 | Progress: 100%|███████████████████████| Country/Region: 177/177 \n",
      "Elapsed: 00:05 | Remaining: 00:00 | Progress: 100%|███████████████████████| Country/Region: 177/177 \n",
      "Elapsed: 00:05 | Remaining: 00:00 | Progress: 100%|███████████████████████| Country/Region: 177/177 \n",
      "Elapsed: 00:04 | Remaining: 00:00 | Progress: 100%|███████████████████████| Country/Region: 177/177 \n",
      "Elapsed: 00:05 | Remaining: 00:00 | Progress: 100%|███████████████████████| Country/Region: 177/177 \n",
      "Elapsed: 00:05 | Remaining: 00:00 | Progress: 100%|███████████████████████| Country/Region: 177/177 \n",
      "Elapsed: 00:04 | Remaining: 00:00 | Progress: 100%|███████████████████████| Country/Region: 177/177 \n",
      "Elapsed: 00:05 | Remaining: 00:00 | Progress: 100%|███████████████████████| Country/Region: 177/177 \n",
      "Elapsed: 00:05 | Remaining: 00:00 | Progress: 100%|███████████████████████| Country/Region: 177/177 \n",
      "Elapsed: 00:04 | Remaining: 00:00 | Progress: 100%|███████████████████████| Country/Region: 177/177 \n",
      "Elapsed: 00:05 | Remaining: 00:00 | Progress: 100%|███████████████████████| Country/Region: 177/177 \n",
      "Elapsed: 00:04 | Remaining: 00:00 | Progress: 100%|███████████████████████| Country/Region: 177/177 \n",
      "Elapsed: 00:05 | Remaining: 00:00 | Progress: 100%|███████████████████████| Country/Region: 177/177 \n",
      "Elapsed: 00:04 | Remaining: 00:00 | Progress: 100%|███████████████████████| Country/Region: 177/177 \n",
      "Elapsed: 00:05 | Remaining: 00:00 | Progress: 100%|███████████████████████| Country/Region: 177/177 \n",
      "Elapsed: 00:04 | Remaining: 00:00 | Progress: 100%|███████████████████████| Country/Region: 177/177 \n",
      "Elapsed: 00:05 | Remaining: 00:00 | Progress: 100%|███████████████████████| Country/Region: 177/177 \n",
      "Elapsed: 00:04 | Remaining: 00:00 | Progress: 100%|███████████████████████| Country/Region: 177/177 \n",
      "Elapsed: 00:01 | Remaining: 00:04 | Progress:  29%|███████                 | Country/Region: 52/177 "
     ]
    }
   ],
   "source": [
    "for p in problems:\n",
    "    try:\n",
    "        x = p.execute(df,-1)\n",
    "        problem_label_dict[str(p)]=x\n",
    "    except:\n",
    "        pass"
   ]
  },
  {
   "cell_type": "code",
   "execution_count": null,
   "id": "3ebcb184",
   "metadata": {},
   "outputs": [],
   "source": []
  }
 ],
 "metadata": {
  "kernelspec": {
   "display_name": "Python 3 (ipykernel)",
   "language": "python",
   "name": "python3"
  },
  "language_info": {
   "codemirror_mode": {
    "name": "ipython",
    "version": 3
   },
   "file_extension": ".py",
   "mimetype": "text/x-python",
   "name": "python",
   "nbconvert_exporter": "python",
   "pygments_lexer": "ipython3",
   "version": "3.7.13"
  }
 },
 "nbformat": 4,
 "nbformat_minor": 5
}
