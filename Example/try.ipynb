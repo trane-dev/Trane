{
 "cells": [
  {
   "cell_type": "code",
   "execution_count": 17,
   "metadata": {
    "collapsed": true
   },
   "outputs": [],
   "source": []
  },
  {
   "cell_type": "code",
   "execution_count": 31,
   "outputs": [],
   "source": [
    "import json\n",
    "\n",
    "import pandas as pd\n",
    "from datetime import datetime, timedelta\n",
    "\n",
    "import trane\n",
    "import featuretools as ft\n",
    "import numpy as np\n",
    "import sklearn\n",
    "#print(sklearn.__version__)"
   ],
   "metadata": {
    "collapsed": false,
    "pycharm": {
     "name": "#%%\n"
    }
   }
  },
  {
   "cell_type": "code",
   "execution_count": 36,
   "outputs": [
    {
     "data": {
      "text/plain": "       appointment_id    patient_id  appointment_id.1 gender  \\\n92442         5790461  7.292552e+14           5790461      M   \n88146         5790464  9.476144e+14           5790464      F   \n88147         5790466  3.562479e+11           5790466      M   \n87219         5790481  2.341318e+11           5790481      F   \n87223         5790484  5.237164e+12           5790484      F   \n\n            scheduled_day appointment_day  age    neighborhood  scholarship  \\\n92442 2016-06-08 19:32:25      2016-06-08   54  JARDIM CAMBURI            0   \n88146 2016-06-08 19:32:56      2016-06-08   43  JARDIM CAMBURI            0   \n88147 2016-06-08 19:33:23      2016-06-08   27  JARDIM CAMBURI            0   \n87219 2016-06-08 19:58:52      2016-06-08   30  JARDIM CAMBURI            0   \n87223 2016-06-08 20:07:23      2016-06-08   27  JARDIM CAMBURI            0   \n\n       hypertension  diabetes  alcoholism  handicap  sms_received  no_show  \n92442             0         0           0         0             0        0  \n88146             0         0           0         0             0        0  \n88147             0         0           0         0             0        0  \n87219             0         0           0         0             0        0  \n87223             0         0           0         0             0        0  ",
      "text/html": "<div>\n<style scoped>\n    .dataframe tbody tr th:only-of-type {\n        vertical-align: middle;\n    }\n\n    .dataframe tbody tr th {\n        vertical-align: top;\n    }\n\n    .dataframe thead th {\n        text-align: right;\n    }\n</style>\n<table border=\"1\" class=\"dataframe\">\n  <thead>\n    <tr style=\"text-align: right;\">\n      <th></th>\n      <th>appointment_id</th>\n      <th>patient_id</th>\n      <th>appointment_id.1</th>\n      <th>gender</th>\n      <th>scheduled_day</th>\n      <th>appointment_day</th>\n      <th>age</th>\n      <th>neighborhood</th>\n      <th>scholarship</th>\n      <th>hypertension</th>\n      <th>diabetes</th>\n      <th>alcoholism</th>\n      <th>handicap</th>\n      <th>sms_received</th>\n      <th>no_show</th>\n    </tr>\n  </thead>\n  <tbody>\n    <tr>\n      <th>92442</th>\n      <td>5790461</td>\n      <td>7.292552e+14</td>\n      <td>5790461</td>\n      <td>M</td>\n      <td>2016-06-08 19:32:25</td>\n      <td>2016-06-08</td>\n      <td>54</td>\n      <td>JARDIM CAMBURI</td>\n      <td>0</td>\n      <td>0</td>\n      <td>0</td>\n      <td>0</td>\n      <td>0</td>\n      <td>0</td>\n      <td>0</td>\n    </tr>\n    <tr>\n      <th>88146</th>\n      <td>5790464</td>\n      <td>9.476144e+14</td>\n      <td>5790464</td>\n      <td>F</td>\n      <td>2016-06-08 19:32:56</td>\n      <td>2016-06-08</td>\n      <td>43</td>\n      <td>JARDIM CAMBURI</td>\n      <td>0</td>\n      <td>0</td>\n      <td>0</td>\n      <td>0</td>\n      <td>0</td>\n      <td>0</td>\n      <td>0</td>\n    </tr>\n    <tr>\n      <th>88147</th>\n      <td>5790466</td>\n      <td>3.562479e+11</td>\n      <td>5790466</td>\n      <td>M</td>\n      <td>2016-06-08 19:33:23</td>\n      <td>2016-06-08</td>\n      <td>27</td>\n      <td>JARDIM CAMBURI</td>\n      <td>0</td>\n      <td>0</td>\n      <td>0</td>\n      <td>0</td>\n      <td>0</td>\n      <td>0</td>\n      <td>0</td>\n    </tr>\n    <tr>\n      <th>87219</th>\n      <td>5790481</td>\n      <td>2.341318e+11</td>\n      <td>5790481</td>\n      <td>F</td>\n      <td>2016-06-08 19:58:52</td>\n      <td>2016-06-08</td>\n      <td>30</td>\n      <td>JARDIM CAMBURI</td>\n      <td>0</td>\n      <td>0</td>\n      <td>0</td>\n      <td>0</td>\n      <td>0</td>\n      <td>0</td>\n      <td>0</td>\n    </tr>\n    <tr>\n      <th>87223</th>\n      <td>5790484</td>\n      <td>5.237164e+12</td>\n      <td>5790484</td>\n      <td>F</td>\n      <td>2016-06-08 20:07:23</td>\n      <td>2016-06-08</td>\n      <td>27</td>\n      <td>JARDIM CAMBURI</td>\n      <td>0</td>\n      <td>0</td>\n      <td>0</td>\n      <td>0</td>\n      <td>0</td>\n      <td>0</td>\n      <td>0</td>\n    </tr>\n  </tbody>\n</table>\n</div>"
     },
     "execution_count": 36,
     "metadata": {},
     "output_type": "execute_result"
    }
   ],
   "source": [
    "df = pd.read_csv(\"medical_no_show.csv\")\n",
    "df['scheduled_day'] = df['scheduled_day'].apply(lambda x: datetime.strptime(x, \"%Y-%m-%d %H:%M:%S\"))\n",
    "df['appointment_day'] = df['appointment_day'].apply(lambda x: datetime.strptime(x, \"%Y-%m-%d %H:%M:%S\"))\n",
    "df = df.sort_values(by=['scheduled_day'])\n",
    "df.tail()"
   ],
   "metadata": {
    "collapsed": false,
    "pycharm": {
     "name": "#%%\n"
    }
   }
  },
  {
   "cell_type": "code",
   "execution_count": 38,
   "outputs": [
    {
     "data": {
      "text/plain": "        appointment_id    patient_id  appointment_id.1 gender  \\\n3764           5030230  8.322564e+14           5030230      F   \n46292          5122866  9.163747e+13           5122866      M   \n102795         5134197  1.216587e+12           5134197      F   \n102797         5134220  3.189960e+13           5134220      F   \n102796         5134223  9.582232e+12           5134223      F   \n\n             scheduled_day appointment_day  age   neighborhood  scholarship  \\\n3764   2015-11-10 07:13:56      2016-05-04   51    RESISTÊNCIA            0   \n46292  2015-12-03 08:17:28      2016-05-02   34     VILA RUBIM            0   \n102795 2015-12-07 10:40:59      2016-06-03   27  SÃO CRISTÓVÃO            1   \n102797 2015-12-07 10:42:42      2016-06-03   48        MARUÍPE            0   \n102796 2015-12-07 10:43:01      2016-06-03   80  SÃO CRISTÓVÃO            0   \n\n        hypertension  diabetes  alcoholism  handicap  sms_received  no_show  \n3764               0         0           0         0             1        0  \n46292              1         0           0         0             1        1  \n102795             0         0           0         0             1        1  \n102797             1         1           0         0             1        0  \n102796             1         1           0         0             1        0  ",
      "text/html": "<div>\n<style scoped>\n    .dataframe tbody tr th:only-of-type {\n        vertical-align: middle;\n    }\n\n    .dataframe tbody tr th {\n        vertical-align: top;\n    }\n\n    .dataframe thead th {\n        text-align: right;\n    }\n</style>\n<table border=\"1\" class=\"dataframe\">\n  <thead>\n    <tr style=\"text-align: right;\">\n      <th></th>\n      <th>appointment_id</th>\n      <th>patient_id</th>\n      <th>appointment_id.1</th>\n      <th>gender</th>\n      <th>scheduled_day</th>\n      <th>appointment_day</th>\n      <th>age</th>\n      <th>neighborhood</th>\n      <th>scholarship</th>\n      <th>hypertension</th>\n      <th>diabetes</th>\n      <th>alcoholism</th>\n      <th>handicap</th>\n      <th>sms_received</th>\n      <th>no_show</th>\n    </tr>\n  </thead>\n  <tbody>\n    <tr>\n      <th>3764</th>\n      <td>5030230</td>\n      <td>8.322564e+14</td>\n      <td>5030230</td>\n      <td>F</td>\n      <td>2015-11-10 07:13:56</td>\n      <td>2016-05-04</td>\n      <td>51</td>\n      <td>RESISTÊNCIA</td>\n      <td>0</td>\n      <td>0</td>\n      <td>0</td>\n      <td>0</td>\n      <td>0</td>\n      <td>1</td>\n      <td>0</td>\n    </tr>\n    <tr>\n      <th>46292</th>\n      <td>5122866</td>\n      <td>9.163747e+13</td>\n      <td>5122866</td>\n      <td>M</td>\n      <td>2015-12-03 08:17:28</td>\n      <td>2016-05-02</td>\n      <td>34</td>\n      <td>VILA RUBIM</td>\n      <td>0</td>\n      <td>1</td>\n      <td>0</td>\n      <td>0</td>\n      <td>0</td>\n      <td>1</td>\n      <td>1</td>\n    </tr>\n    <tr>\n      <th>102795</th>\n      <td>5134197</td>\n      <td>1.216587e+12</td>\n      <td>5134197</td>\n      <td>F</td>\n      <td>2015-12-07 10:40:59</td>\n      <td>2016-06-03</td>\n      <td>27</td>\n      <td>SÃO CRISTÓVÃO</td>\n      <td>1</td>\n      <td>0</td>\n      <td>0</td>\n      <td>0</td>\n      <td>0</td>\n      <td>1</td>\n      <td>1</td>\n    </tr>\n    <tr>\n      <th>102797</th>\n      <td>5134220</td>\n      <td>3.189960e+13</td>\n      <td>5134220</td>\n      <td>F</td>\n      <td>2015-12-07 10:42:42</td>\n      <td>2016-06-03</td>\n      <td>48</td>\n      <td>MARUÍPE</td>\n      <td>0</td>\n      <td>1</td>\n      <td>1</td>\n      <td>0</td>\n      <td>0</td>\n      <td>1</td>\n      <td>0</td>\n    </tr>\n    <tr>\n      <th>102796</th>\n      <td>5134223</td>\n      <td>9.582232e+12</td>\n      <td>5134223</td>\n      <td>F</td>\n      <td>2015-12-07 10:43:01</td>\n      <td>2016-06-03</td>\n      <td>80</td>\n      <td>SÃO CRISTÓVÃO</td>\n      <td>0</td>\n      <td>1</td>\n      <td>1</td>\n      <td>0</td>\n      <td>0</td>\n      <td>1</td>\n      <td>0</td>\n    </tr>\n  </tbody>\n</table>\n</div>"
     },
     "execution_count": 38,
     "metadata": {},
     "output_type": "execute_result"
    }
   ],
   "source": [
    "entity_col = \"patient_id\"\n",
    "df_ft = df.copy()\n",
    "df_ft.head()"
   ],
   "metadata": {
    "collapsed": false,
    "pycharm": {
     "name": "#%%\n"
    }
   }
  },
  {
   "cell_type": "code",
   "execution_count": 39,
   "outputs": [
    {
     "data": {
      "text/plain": "{'tables': [{'fields': [{'name': 'patient_id', 'type': 'text'},\n    {'name': 'appointment_id', 'type': 'text'},\n    {'name': 'gender', 'type': 'text'},\n    {'name': 'scheduled_day', 'type': 'datetime'},\n    {'name': 'appointment_day', 'type': 'datetime'},\n    {'name': 'age', 'type': 'number', 'subtype': 'integer'},\n    {'name': 'neighborhood', 'type': 'categorical', 'subtype': 'categorical'},\n    {'name': 'scholarship', 'type': 'categorical', 'subtype': 'boolean'},\n    {'name': 'hipertension', 'type': 'categorical', 'subtype': 'boolean'},\n    {'name': 'diabetes', 'type': 'categorical', 'subtype': 'boolean'},\n    {'name': 'alcoholism', 'type': 'categorical', 'subtype': 'boolean'},\n    {'name': 'handcap', 'type': 'categorical', 'subtype': 'boolean'},\n    {'name': 'sms_received', 'type': 'categorical', 'subtype': 'boolean'},\n    {'name': 'no_show', 'type': 'number', 'subtype': 'integer'}]}]}"
     },
     "execution_count": 39,
     "metadata": {},
     "output_type": "execute_result"
    }
   ],
   "source": [
    "str_col_list = ['patient_id', 'appointment_id', 'appointment_id.1','gender', 'neighborhood']\n",
    "str_mappers = {}\n",
    "for str_col in str_col_list:\n",
    "    str_to_id = {}\n",
    "    id_to_str = []\n",
    "    n_entity = 0\n",
    "\n",
    "    for item in set(df_ft[str_col]):\n",
    "        str_to_id[item] = n_entity\n",
    "        id_to_str.append(item)\n",
    "        n_entity += 1\n",
    "\n",
    "    if str_col == entity_col:\n",
    "        df[str_col] = df[str_col].apply(lambda x: str_to_id[x])\n",
    "    df_ft[str_col] = df_ft[str_col].apply(lambda x: str_to_id[x])\n",
    "    str_mappers[str_col] = (str_to_id, id_to_str)\n",
    "\n",
    "\n",
    "meta = trane.TableMeta(json.loads(open('meta.json').read()))\n",
    "meta.table_meta"
   ],
   "metadata": {
    "collapsed": false,
    "pycharm": {
     "name": "#%%\n"
    }
   }
  },
  {
   "cell_type": "code",
   "execution_count": 40,
   "outputs": [
    {
     "data": {
      "text/plain": "       appointment_id  patient_id  appointment_id.1  gender  \\\n92442            9376       54589              9376       1   \n88146            9378       16588              9378       0   \n88147            9379       28525              9379       1   \n87219            9382       35199              9382       0   \n87223            9383       24818              9383       0   \n\n            scheduled_day appointment_day  age  neighborhood  scholarship  \\\n92442 2016-06-08 19:32:25      2016-06-08   54            67            0   \n88146 2016-06-08 19:32:56      2016-06-08   43            67            0   \n88147 2016-06-08 19:33:23      2016-06-08   27            67            0   \n87219 2016-06-08 19:58:52      2016-06-08   30            67            0   \n87223 2016-06-08 20:07:23      2016-06-08   27            67            0   \n\n       hypertension  diabetes  alcoholism  handicap  sms_received  no_show  \n92442             0         0           0         0             0        0  \n88146             0         0           0         0             0        0  \n88147             0         0           0         0             0        0  \n87219             0         0           0         0             0        0  \n87223             0         0           0         0             0        0  ",
      "text/html": "<div>\n<style scoped>\n    .dataframe tbody tr th:only-of-type {\n        vertical-align: middle;\n    }\n\n    .dataframe tbody tr th {\n        vertical-align: top;\n    }\n\n    .dataframe thead th {\n        text-align: right;\n    }\n</style>\n<table border=\"1\" class=\"dataframe\">\n  <thead>\n    <tr style=\"text-align: right;\">\n      <th></th>\n      <th>appointment_id</th>\n      <th>patient_id</th>\n      <th>appointment_id.1</th>\n      <th>gender</th>\n      <th>scheduled_day</th>\n      <th>appointment_day</th>\n      <th>age</th>\n      <th>neighborhood</th>\n      <th>scholarship</th>\n      <th>hypertension</th>\n      <th>diabetes</th>\n      <th>alcoholism</th>\n      <th>handicap</th>\n      <th>sms_received</th>\n      <th>no_show</th>\n    </tr>\n  </thead>\n  <tbody>\n    <tr>\n      <th>92442</th>\n      <td>9376</td>\n      <td>54589</td>\n      <td>9376</td>\n      <td>1</td>\n      <td>2016-06-08 19:32:25</td>\n      <td>2016-06-08</td>\n      <td>54</td>\n      <td>67</td>\n      <td>0</td>\n      <td>0</td>\n      <td>0</td>\n      <td>0</td>\n      <td>0</td>\n      <td>0</td>\n      <td>0</td>\n    </tr>\n    <tr>\n      <th>88146</th>\n      <td>9378</td>\n      <td>16588</td>\n      <td>9378</td>\n      <td>0</td>\n      <td>2016-06-08 19:32:56</td>\n      <td>2016-06-08</td>\n      <td>43</td>\n      <td>67</td>\n      <td>0</td>\n      <td>0</td>\n      <td>0</td>\n      <td>0</td>\n      <td>0</td>\n      <td>0</td>\n      <td>0</td>\n    </tr>\n    <tr>\n      <th>88147</th>\n      <td>9379</td>\n      <td>28525</td>\n      <td>9379</td>\n      <td>1</td>\n      <td>2016-06-08 19:33:23</td>\n      <td>2016-06-08</td>\n      <td>27</td>\n      <td>67</td>\n      <td>0</td>\n      <td>0</td>\n      <td>0</td>\n      <td>0</td>\n      <td>0</td>\n      <td>0</td>\n      <td>0</td>\n    </tr>\n    <tr>\n      <th>87219</th>\n      <td>9382</td>\n      <td>35199</td>\n      <td>9382</td>\n      <td>0</td>\n      <td>2016-06-08 19:58:52</td>\n      <td>2016-06-08</td>\n      <td>30</td>\n      <td>67</td>\n      <td>0</td>\n      <td>0</td>\n      <td>0</td>\n      <td>0</td>\n      <td>0</td>\n      <td>0</td>\n      <td>0</td>\n    </tr>\n    <tr>\n      <th>87223</th>\n      <td>9383</td>\n      <td>24818</td>\n      <td>9383</td>\n      <td>0</td>\n      <td>2016-06-08 20:07:23</td>\n      <td>2016-06-08</td>\n      <td>27</td>\n      <td>67</td>\n      <td>0</td>\n      <td>0</td>\n      <td>0</td>\n      <td>0</td>\n      <td>0</td>\n      <td>0</td>\n      <td>0</td>\n    </tr>\n  </tbody>\n</table>\n</div>"
     },
     "execution_count": 40,
     "metadata": {},
     "output_type": "execute_result"
    }
   ],
   "source": [
    "df_ft.tail()"
   ],
   "metadata": {
    "collapsed": false,
    "pycharm": {
     "name": "#%%\n"
    }
   }
  },
  {
   "cell_type": "code",
   "execution_count": 42,
   "outputs": [
    {
     "name": "stdout",
     "output_type": "stream",
     "text": [
      "Built 49 features\n",
      "Elapsed: 31:33 | Progress: 100%|██████████\n"
     ]
    },
    {
     "name": "stderr",
     "output_type": "stream",
     "text": [
      "/Users/sarapido/anaconda3/envs/Trane3.8/lib/python3.8/site-packages/featuretools/entityset/entityset.py:1019: UserWarning: Using training_window but last_time_index is not set on entity cases\n",
      "  warnings.warn(\n",
      "/Users/sarapido/anaconda3/envs/Trane3.8/lib/python3.8/site-packages/featuretools/entityset/entityset.py:1019: UserWarning: Using training_window but last_time_index is not set on entity cases\n",
      "  warnings.warn(\n",
      "/Users/sarapido/anaconda3/envs/Trane3.8/lib/python3.8/site-packages/featuretools/entityset/entityset.py:1019: UserWarning: Using training_window but last_time_index is not set on entity cases\n",
      "  warnings.warn(\n",
      "/Users/sarapido/anaconda3/envs/Trane3.8/lib/python3.8/site-packages/featuretools/entityset/entityset.py:1019: UserWarning: Using training_window but last_time_index is not set on entity cases\n",
      "  warnings.warn(\n",
      "/Users/sarapido/anaconda3/envs/Trane3.8/lib/python3.8/site-packages/featuretools/entityset/entityset.py:1019: UserWarning: Using training_window but last_time_index is not set on entity cases\n",
      "  warnings.warn(\n",
      "/Users/sarapido/anaconda3/envs/Trane3.8/lib/python3.8/site-packages/featuretools/entityset/entityset.py:1019: UserWarning: Using training_window but last_time_index is not set on entity cases\n",
      "  warnings.warn(\n",
      "/Users/sarapido/anaconda3/envs/Trane3.8/lib/python3.8/site-packages/featuretools/entityset/entityset.py:1019: UserWarning: Using training_window but last_time_index is not set on entity cases\n",
      "  warnings.warn(\n",
      "/Users/sarapido/anaconda3/envs/Trane3.8/lib/python3.8/site-packages/featuretools/entityset/entityset.py:1019: UserWarning: Using training_window but last_time_index is not set on entity cases\n",
      "  warnings.warn(\n",
      "/Users/sarapido/anaconda3/envs/Trane3.8/lib/python3.8/site-packages/featuretools/entityset/entityset.py:1019: UserWarning: Using training_window but last_time_index is not set on entity cases\n",
      "  warnings.warn(\n",
      "/Users/sarapido/anaconda3/envs/Trane3.8/lib/python3.8/site-packages/featuretools/entityset/entityset.py:1019: UserWarning: Using training_window but last_time_index is not set on entity cases\n",
      "  warnings.warn(\n",
      "/Users/sarapido/anaconda3/envs/Trane3.8/lib/python3.8/site-packages/featuretools/entityset/entityset.py:1019: UserWarning: Using training_window but last_time_index is not set on entity cases\n",
      "  warnings.warn(\n",
      "/Users/sarapido/anaconda3/envs/Trane3.8/lib/python3.8/site-packages/featuretools/entityset/entityset.py:1019: UserWarning: Using training_window but last_time_index is not set on entity cases\n",
      "  warnings.warn(\n",
      "/Users/sarapido/anaconda3/envs/Trane3.8/lib/python3.8/site-packages/featuretools/entityset/entityset.py:1019: UserWarning: Using training_window but last_time_index is not set on entity cases\n",
      "  warnings.warn(\n",
      "/Users/sarapido/anaconda3/envs/Trane3.8/lib/python3.8/site-packages/featuretools/entityset/entityset.py:1019: UserWarning: Using training_window but last_time_index is not set on entity cases\n",
      "  warnings.warn(\n",
      "/Users/sarapido/anaconda3/envs/Trane3.8/lib/python3.8/site-packages/featuretools/entityset/entityset.py:1019: UserWarning: Using training_window but last_time_index is not set on entity cases\n",
      "  warnings.warn(\n",
      "/Users/sarapido/anaconda3/envs/Trane3.8/lib/python3.8/site-packages/featuretools/entityset/entityset.py:1019: UserWarning: Using training_window but last_time_index is not set on entity cases\n",
      "  warnings.warn(\n",
      "/Users/sarapido/anaconda3/envs/Trane3.8/lib/python3.8/site-packages/featuretools/entityset/entityset.py:1019: UserWarning: Using training_window but last_time_index is not set on entity cases\n",
      "  warnings.warn(\n",
      "/Users/sarapido/anaconda3/envs/Trane3.8/lib/python3.8/site-packages/featuretools/entityset/entityset.py:1019: UserWarning: Using training_window but last_time_index is not set on entity cases\n",
      "  warnings.warn(\n",
      "/Users/sarapido/anaconda3/envs/Trane3.8/lib/python3.8/site-packages/featuretools/entityset/entityset.py:1019: UserWarning: Using training_window but last_time_index is not set on entity cases\n",
      "  warnings.warn(\n",
      "/Users/sarapido/anaconda3/envs/Trane3.8/lib/python3.8/site-packages/featuretools/entityset/entityset.py:1019: UserWarning: Using training_window but last_time_index is not set on entity cases\n",
      "  warnings.warn(\n",
      "/Users/sarapido/anaconda3/envs/Trane3.8/lib/python3.8/site-packages/featuretools/entityset/entityset.py:1019: UserWarning: Using training_window but last_time_index is not set on entity cases\n",
      "  warnings.warn(\n",
      "/Users/sarapido/anaconda3/envs/Trane3.8/lib/python3.8/site-packages/featuretools/entityset/entityset.py:1019: UserWarning: Using training_window but last_time_index is not set on entity cases\n",
      "  warnings.warn(\n",
      "/Users/sarapido/anaconda3/envs/Trane3.8/lib/python3.8/site-packages/featuretools/entityset/entityset.py:1019: UserWarning: Using training_window but last_time_index is not set on entity cases\n",
      "  warnings.warn(\n",
      "/Users/sarapido/anaconda3/envs/Trane3.8/lib/python3.8/site-packages/featuretools/entityset/entityset.py:1019: UserWarning: Using training_window but last_time_index is not set on entity cases\n",
      "  warnings.warn(\n",
      "/Users/sarapido/anaconda3/envs/Trane3.8/lib/python3.8/site-packages/featuretools/entityset/entityset.py:1019: UserWarning: Using training_window but last_time_index is not set on entity cases\n",
      "  warnings.warn(\n",
      "/Users/sarapido/anaconda3/envs/Trane3.8/lib/python3.8/site-packages/featuretools/entityset/entityset.py:1019: UserWarning: Using training_window but last_time_index is not set on entity cases\n",
      "  warnings.warn(\n",
      "/Users/sarapido/anaconda3/envs/Trane3.8/lib/python3.8/site-packages/featuretools/entityset/entityset.py:1019: UserWarning: Using training_window but last_time_index is not set on entity cases\n",
      "  warnings.warn(\n",
      "/Users/sarapido/anaconda3/envs/Trane3.8/lib/python3.8/site-packages/featuretools/entityset/entityset.py:1019: UserWarning: Using training_window but last_time_index is not set on entity cases\n",
      "  warnings.warn(\n",
      "/Users/sarapido/anaconda3/envs/Trane3.8/lib/python3.8/site-packages/featuretools/entityset/entityset.py:1019: UserWarning: Using training_window but last_time_index is not set on entity cases\n",
      "  warnings.warn(\n",
      "/Users/sarapido/anaconda3/envs/Trane3.8/lib/python3.8/site-packages/featuretools/entityset/entityset.py:1019: UserWarning: Using training_window but last_time_index is not set on entity cases\n",
      "  warnings.warn(\n",
      "/Users/sarapido/anaconda3/envs/Trane3.8/lib/python3.8/site-packages/featuretools/entityset/entityset.py:1019: UserWarning: Using training_window but last_time_index is not set on entity cases\n",
      "  warnings.warn(\n",
      "/Users/sarapido/anaconda3/envs/Trane3.8/lib/python3.8/site-packages/featuretools/entityset/entityset.py:1019: UserWarning: Using training_window but last_time_index is not set on entity cases\n",
      "  warnings.warn(\n",
      "/Users/sarapido/anaconda3/envs/Trane3.8/lib/python3.8/site-packages/featuretools/entityset/entityset.py:1019: UserWarning: Using training_window but last_time_index is not set on entity cases\n",
      "  warnings.warn(\n",
      "/Users/sarapido/anaconda3/envs/Trane3.8/lib/python3.8/site-packages/featuretools/entityset/entityset.py:1019: UserWarning: Using training_window but last_time_index is not set on entity cases\n",
      "  warnings.warn(\n",
      "/Users/sarapido/anaconda3/envs/Trane3.8/lib/python3.8/site-packages/featuretools/entityset/entityset.py:1019: UserWarning: Using training_window but last_time_index is not set on entity cases\n",
      "  warnings.warn(\n"
     ]
    }
   ],
   "source": [
    "cutoff_base = datetime.strptime(\"2016-05-04\", \"%Y-%m-%d\")\n",
    "cutoff_end = datetime.strptime(\"2016-06-08\", \"%Y-%m-%d\")\n",
    "cutoff_strategy = trane.FixWindowCutoffStrategy(entity_col, cutoff_base, cutoff_end, 1)\n",
    "\n",
    "features = trane.FeaturetoolsWrapper(df_ft, entity_col, 'appointment_day',\n",
    "                                        {'gender': ft.variable_types.Categorical,\n",
    "                                         'age': ft.variable_types.Discrete,\n",
    "                                         'neighborhood': ft.variable_types.Categorical,\n",
    "                                         'scholarship': ft.variable_types.Categorical,\n",
    "                                         'hypertension': ft.variable_types.Categorical,\n",
    "                                         'diabetes': ft.variable_types.Categorical,\n",
    "                                         'alcoholism': ft.variable_types.Categorical,\n",
    "                                         'handicap': ft.variable_types.Categorical,\n",
    "                                         'sms_received': ft.variable_types.Categorical,\n",
    "                                         'no_show': ft.variable_types.Categorical,\n",
    "                                        }, 'cases')\n",
    "features.compute_features(df_ft, cutoff_strategy, 5)"
   ],
   "metadata": {
    "collapsed": false,
    "pycharm": {
     "name": "#%%\n"
    }
   }
  },
  {
   "cell_type": "code",
   "execution_count": 43,
   "outputs": [
    {
     "data": {
      "text/plain": "                       COUNT(cases)  MAX(cases.appointment_id)  \\\npatient_id time                                                  \n0          2016-05-03           0.0                        0.0   \n           2016-05-04           0.0                        0.0   \n           2016-05-05           0.0                        0.0   \n           2016-05-06           0.0                        0.0   \n           2016-05-07           0.0                        0.0   \n...                             ...                        ...   \n62298      2016-06-02           0.0                        0.0   \n           2016-06-03           0.0                        0.0   \n           2016-06-04           0.0                        0.0   \n           2016-06-05           0.0                        0.0   \n           2016-06-06           0.0                        0.0   \n\n                       MAX(cases.appointment_id.1)  \\\npatient_id time                                      \n0          2016-05-03                          0.0   \n           2016-05-04                          0.0   \n           2016-05-05                          0.0   \n           2016-05-06                          0.0   \n           2016-05-07                          0.0   \n...                                            ...   \n62298      2016-06-02                          0.0   \n           2016-06-03                          0.0   \n           2016-06-04                          0.0   \n           2016-06-05                          0.0   \n           2016-06-06                          0.0   \n\n                       MEAN(cases.appointment_id)  \\\npatient_id time                                     \n0          2016-05-03                         0.0   \n           2016-05-04                         0.0   \n           2016-05-05                         0.0   \n           2016-05-06                         0.0   \n           2016-05-07                         0.0   \n...                                           ...   \n62298      2016-06-02                         0.0   \n           2016-06-03                         0.0   \n           2016-06-04                         0.0   \n           2016-06-05                         0.0   \n           2016-06-06                         0.0   \n\n                       MEAN(cases.appointment_id.1)  \\\npatient_id time                                       \n0          2016-05-03                           0.0   \n           2016-05-04                           0.0   \n           2016-05-05                           0.0   \n           2016-05-06                           0.0   \n           2016-05-07                           0.0   \n...                                             ...   \n62298      2016-06-02                           0.0   \n           2016-06-03                           0.0   \n           2016-06-04                           0.0   \n           2016-06-05                           0.0   \n           2016-06-06                           0.0   \n\n                       MIN(cases.appointment_id)  MIN(cases.appointment_id.1)  \\\npatient_id time                                                                 \n0          2016-05-03                        0.0                          0.0   \n           2016-05-04                        0.0                          0.0   \n           2016-05-05                        0.0                          0.0   \n           2016-05-06                        0.0                          0.0   \n           2016-05-07                        0.0                          0.0   \n...                                          ...                          ...   \n62298      2016-06-02                        0.0                          0.0   \n           2016-06-03                        0.0                          0.0   \n           2016-06-04                        0.0                          0.0   \n           2016-06-05                        0.0                          0.0   \n           2016-06-06                        0.0                          0.0   \n\n                       MODE(cases.age) = 0.0  MODE(cases.age) = 1.0  \\\npatient_id time                                                       \n0          2016-05-03                  False                  False   \n           2016-05-04                  False                  False   \n           2016-05-05                  False                  False   \n           2016-05-06                  False                  False   \n           2016-05-07                  False                  False   \n...                                      ...                    ...   \n62298      2016-06-02                  False                  False   \n           2016-06-03                  False                  False   \n           2016-06-04                  False                  False   \n           2016-06-05                  False                  False   \n           2016-06-06                  False                  False   \n\n                       MODE(cases.age) = 52.0  ...  \\\npatient_id time                                ...   \n0          2016-05-03                   False  ...   \n           2016-05-04                   False  ...   \n           2016-05-05                   False  ...   \n           2016-05-06                   False  ...   \n           2016-05-07                   False  ...   \n...                                       ...  ...   \n62298      2016-06-02                   False  ...   \n           2016-06-03                   False  ...   \n           2016-06-04                   False  ...   \n           2016-06-05                   False  ...   \n           2016-06-06                   False  ...   \n\n                       MODE(cases.YEAR(scheduled_day)) = 2015.0  \\\npatient_id time                                                   \n0          2016-05-03                                     False   \n           2016-05-04                                     False   \n           2016-05-05                                     False   \n           2016-05-06                                     False   \n           2016-05-07                                     False   \n...                                                         ...   \n62298      2016-06-02                                     False   \n           2016-06-03                                     False   \n           2016-06-04                                     False   \n           2016-06-05                                     False   \n           2016-06-06                                     False   \n\n                       MODE(cases.YEAR(scheduled_day)) is unknown  \\\npatient_id time                                                     \n0          2016-05-03                                        True   \n           2016-05-04                                        True   \n           2016-05-05                                        True   \n           2016-05-06                                        True   \n           2016-05-07                                        True   \n...                                                           ...   \n62298      2016-06-02                                        True   \n           2016-06-03                                        True   \n           2016-06-04                                        True   \n           2016-06-05                                        True   \n           2016-06-06                                        True   \n\n                       NUM_UNIQUE(cases.DAY(appointment_day))  \\\npatient_id time                                                 \n0          2016-05-03                                     0.0   \n           2016-05-04                                     0.0   \n           2016-05-05                                     0.0   \n           2016-05-06                                     0.0   \n           2016-05-07                                     0.0   \n...                                                       ...   \n62298      2016-06-02                                     0.0   \n           2016-06-03                                     0.0   \n           2016-06-04                                     0.0   \n           2016-06-05                                     0.0   \n           2016-06-06                                     0.0   \n\n                       NUM_UNIQUE(cases.DAY(scheduled_day))  \\\npatient_id time                                               \n0          2016-05-03                                   0.0   \n           2016-05-04                                   0.0   \n           2016-05-05                                   0.0   \n           2016-05-06                                   0.0   \n           2016-05-07                                   0.0   \n...                                                     ...   \n62298      2016-06-02                                   0.0   \n           2016-06-03                                   0.0   \n           2016-06-04                                   0.0   \n           2016-06-05                                   0.0   \n           2016-06-06                                   0.0   \n\n                       NUM_UNIQUE(cases.MONTH(appointment_day))  \\\npatient_id time                                                   \n0          2016-05-03                                       0.0   \n           2016-05-04                                       0.0   \n           2016-05-05                                       0.0   \n           2016-05-06                                       0.0   \n           2016-05-07                                       0.0   \n...                                                         ...   \n62298      2016-06-02                                       0.0   \n           2016-06-03                                       0.0   \n           2016-06-04                                       0.0   \n           2016-06-05                                       0.0   \n           2016-06-06                                       0.0   \n\n                       NUM_UNIQUE(cases.MONTH(scheduled_day))  \\\npatient_id time                                                 \n0          2016-05-03                                     0.0   \n           2016-05-04                                     0.0   \n           2016-05-05                                     0.0   \n           2016-05-06                                     0.0   \n           2016-05-07                                     0.0   \n...                                                       ...   \n62298      2016-06-02                                     0.0   \n           2016-06-03                                     0.0   \n           2016-06-04                                     0.0   \n           2016-06-05                                     0.0   \n           2016-06-06                                     0.0   \n\n                       NUM_UNIQUE(cases.WEEKDAY(appointment_day))  \\\npatient_id time                                                     \n0          2016-05-03                                         0.0   \n           2016-05-04                                         0.0   \n           2016-05-05                                         0.0   \n           2016-05-06                                         0.0   \n           2016-05-07                                         0.0   \n...                                                           ...   \n62298      2016-06-02                                         0.0   \n           2016-06-03                                         0.0   \n           2016-06-04                                         0.0   \n           2016-06-05                                         0.0   \n           2016-06-06                                         0.0   \n\n                       NUM_UNIQUE(cases.WEEKDAY(scheduled_day))  \\\npatient_id time                                                   \n0          2016-05-03                                       0.0   \n           2016-05-04                                       0.0   \n           2016-05-05                                       0.0   \n           2016-05-06                                       0.0   \n           2016-05-07                                       0.0   \n...                                                         ...   \n62298      2016-06-02                                       0.0   \n           2016-06-03                                       0.0   \n           2016-06-04                                       0.0   \n           2016-06-05                                       0.0   \n           2016-06-06                                       0.0   \n\n                       NUM_UNIQUE(cases.YEAR(appointment_day))  \\\npatient_id time                                                  \n0          2016-05-03                                      0.0   \n           2016-05-04                                      0.0   \n           2016-05-05                                      0.0   \n           2016-05-06                                      0.0   \n           2016-05-07                                      0.0   \n...                                                        ...   \n62298      2016-06-02                                      0.0   \n           2016-06-03                                      0.0   \n           2016-06-04                                      0.0   \n           2016-06-05                                      0.0   \n           2016-06-06                                      0.0   \n\n                       NUM_UNIQUE(cases.YEAR(scheduled_day))  \npatient_id time                                               \n0          2016-05-03                                    0.0  \n           2016-05-04                                    0.0  \n           2016-05-05                                    0.0  \n           2016-05-06                                    0.0  \n           2016-05-07                                    0.0  \n...                                                      ...  \n62298      2016-06-02                                    0.0  \n           2016-06-03                                    0.0  \n           2016-06-04                                    0.0  \n           2016-06-05                                    0.0  \n           2016-06-06                                    0.0  \n\n[2180465 rows x 134 columns]",
      "text/html": "<div>\n<style scoped>\n    .dataframe tbody tr th:only-of-type {\n        vertical-align: middle;\n    }\n\n    .dataframe tbody tr th {\n        vertical-align: top;\n    }\n\n    .dataframe thead th {\n        text-align: right;\n    }\n</style>\n<table border=\"1\" class=\"dataframe\">\n  <thead>\n    <tr style=\"text-align: right;\">\n      <th></th>\n      <th></th>\n      <th>COUNT(cases)</th>\n      <th>MAX(cases.appointment_id)</th>\n      <th>MAX(cases.appointment_id.1)</th>\n      <th>MEAN(cases.appointment_id)</th>\n      <th>MEAN(cases.appointment_id.1)</th>\n      <th>MIN(cases.appointment_id)</th>\n      <th>MIN(cases.appointment_id.1)</th>\n      <th>MODE(cases.age) = 0.0</th>\n      <th>MODE(cases.age) = 1.0</th>\n      <th>MODE(cases.age) = 52.0</th>\n      <th>...</th>\n      <th>MODE(cases.YEAR(scheduled_day)) = 2015.0</th>\n      <th>MODE(cases.YEAR(scheduled_day)) is unknown</th>\n      <th>NUM_UNIQUE(cases.DAY(appointment_day))</th>\n      <th>NUM_UNIQUE(cases.DAY(scheduled_day))</th>\n      <th>NUM_UNIQUE(cases.MONTH(appointment_day))</th>\n      <th>NUM_UNIQUE(cases.MONTH(scheduled_day))</th>\n      <th>NUM_UNIQUE(cases.WEEKDAY(appointment_day))</th>\n      <th>NUM_UNIQUE(cases.WEEKDAY(scheduled_day))</th>\n      <th>NUM_UNIQUE(cases.YEAR(appointment_day))</th>\n      <th>NUM_UNIQUE(cases.YEAR(scheduled_day))</th>\n    </tr>\n    <tr>\n      <th>patient_id</th>\n      <th>time</th>\n      <th></th>\n      <th></th>\n      <th></th>\n      <th></th>\n      <th></th>\n      <th></th>\n      <th></th>\n      <th></th>\n      <th></th>\n      <th></th>\n      <th></th>\n      <th></th>\n      <th></th>\n      <th></th>\n      <th></th>\n      <th></th>\n      <th></th>\n      <th></th>\n      <th></th>\n      <th></th>\n      <th></th>\n    </tr>\n  </thead>\n  <tbody>\n    <tr>\n      <th rowspan=\"5\" valign=\"top\">0</th>\n      <th>2016-05-03</th>\n      <td>0.0</td>\n      <td>0.0</td>\n      <td>0.0</td>\n      <td>0.0</td>\n      <td>0.0</td>\n      <td>0.0</td>\n      <td>0.0</td>\n      <td>False</td>\n      <td>False</td>\n      <td>False</td>\n      <td>...</td>\n      <td>False</td>\n      <td>True</td>\n      <td>0.0</td>\n      <td>0.0</td>\n      <td>0.0</td>\n      <td>0.0</td>\n      <td>0.0</td>\n      <td>0.0</td>\n      <td>0.0</td>\n      <td>0.0</td>\n    </tr>\n    <tr>\n      <th>2016-05-04</th>\n      <td>0.0</td>\n      <td>0.0</td>\n      <td>0.0</td>\n      <td>0.0</td>\n      <td>0.0</td>\n      <td>0.0</td>\n      <td>0.0</td>\n      <td>False</td>\n      <td>False</td>\n      <td>False</td>\n      <td>...</td>\n      <td>False</td>\n      <td>True</td>\n      <td>0.0</td>\n      <td>0.0</td>\n      <td>0.0</td>\n      <td>0.0</td>\n      <td>0.0</td>\n      <td>0.0</td>\n      <td>0.0</td>\n      <td>0.0</td>\n    </tr>\n    <tr>\n      <th>2016-05-05</th>\n      <td>0.0</td>\n      <td>0.0</td>\n      <td>0.0</td>\n      <td>0.0</td>\n      <td>0.0</td>\n      <td>0.0</td>\n      <td>0.0</td>\n      <td>False</td>\n      <td>False</td>\n      <td>False</td>\n      <td>...</td>\n      <td>False</td>\n      <td>True</td>\n      <td>0.0</td>\n      <td>0.0</td>\n      <td>0.0</td>\n      <td>0.0</td>\n      <td>0.0</td>\n      <td>0.0</td>\n      <td>0.0</td>\n      <td>0.0</td>\n    </tr>\n    <tr>\n      <th>2016-05-06</th>\n      <td>0.0</td>\n      <td>0.0</td>\n      <td>0.0</td>\n      <td>0.0</td>\n      <td>0.0</td>\n      <td>0.0</td>\n      <td>0.0</td>\n      <td>False</td>\n      <td>False</td>\n      <td>False</td>\n      <td>...</td>\n      <td>False</td>\n      <td>True</td>\n      <td>0.0</td>\n      <td>0.0</td>\n      <td>0.0</td>\n      <td>0.0</td>\n      <td>0.0</td>\n      <td>0.0</td>\n      <td>0.0</td>\n      <td>0.0</td>\n    </tr>\n    <tr>\n      <th>2016-05-07</th>\n      <td>0.0</td>\n      <td>0.0</td>\n      <td>0.0</td>\n      <td>0.0</td>\n      <td>0.0</td>\n      <td>0.0</td>\n      <td>0.0</td>\n      <td>False</td>\n      <td>False</td>\n      <td>False</td>\n      <td>...</td>\n      <td>False</td>\n      <td>True</td>\n      <td>0.0</td>\n      <td>0.0</td>\n      <td>0.0</td>\n      <td>0.0</td>\n      <td>0.0</td>\n      <td>0.0</td>\n      <td>0.0</td>\n      <td>0.0</td>\n    </tr>\n    <tr>\n      <th>...</th>\n      <th>...</th>\n      <td>...</td>\n      <td>...</td>\n      <td>...</td>\n      <td>...</td>\n      <td>...</td>\n      <td>...</td>\n      <td>...</td>\n      <td>...</td>\n      <td>...</td>\n      <td>...</td>\n      <td>...</td>\n      <td>...</td>\n      <td>...</td>\n      <td>...</td>\n      <td>...</td>\n      <td>...</td>\n      <td>...</td>\n      <td>...</td>\n      <td>...</td>\n      <td>...</td>\n      <td>...</td>\n    </tr>\n    <tr>\n      <th rowspan=\"5\" valign=\"top\">62298</th>\n      <th>2016-06-02</th>\n      <td>0.0</td>\n      <td>0.0</td>\n      <td>0.0</td>\n      <td>0.0</td>\n      <td>0.0</td>\n      <td>0.0</td>\n      <td>0.0</td>\n      <td>False</td>\n      <td>False</td>\n      <td>False</td>\n      <td>...</td>\n      <td>False</td>\n      <td>True</td>\n      <td>0.0</td>\n      <td>0.0</td>\n      <td>0.0</td>\n      <td>0.0</td>\n      <td>0.0</td>\n      <td>0.0</td>\n      <td>0.0</td>\n      <td>0.0</td>\n    </tr>\n    <tr>\n      <th>2016-06-03</th>\n      <td>0.0</td>\n      <td>0.0</td>\n      <td>0.0</td>\n      <td>0.0</td>\n      <td>0.0</td>\n      <td>0.0</td>\n      <td>0.0</td>\n      <td>False</td>\n      <td>False</td>\n      <td>False</td>\n      <td>...</td>\n      <td>False</td>\n      <td>True</td>\n      <td>0.0</td>\n      <td>0.0</td>\n      <td>0.0</td>\n      <td>0.0</td>\n      <td>0.0</td>\n      <td>0.0</td>\n      <td>0.0</td>\n      <td>0.0</td>\n    </tr>\n    <tr>\n      <th>2016-06-04</th>\n      <td>0.0</td>\n      <td>0.0</td>\n      <td>0.0</td>\n      <td>0.0</td>\n      <td>0.0</td>\n      <td>0.0</td>\n      <td>0.0</td>\n      <td>False</td>\n      <td>False</td>\n      <td>False</td>\n      <td>...</td>\n      <td>False</td>\n      <td>True</td>\n      <td>0.0</td>\n      <td>0.0</td>\n      <td>0.0</td>\n      <td>0.0</td>\n      <td>0.0</td>\n      <td>0.0</td>\n      <td>0.0</td>\n      <td>0.0</td>\n    </tr>\n    <tr>\n      <th>2016-06-05</th>\n      <td>0.0</td>\n      <td>0.0</td>\n      <td>0.0</td>\n      <td>0.0</td>\n      <td>0.0</td>\n      <td>0.0</td>\n      <td>0.0</td>\n      <td>False</td>\n      <td>False</td>\n      <td>False</td>\n      <td>...</td>\n      <td>False</td>\n      <td>True</td>\n      <td>0.0</td>\n      <td>0.0</td>\n      <td>0.0</td>\n      <td>0.0</td>\n      <td>0.0</td>\n      <td>0.0</td>\n      <td>0.0</td>\n      <td>0.0</td>\n    </tr>\n    <tr>\n      <th>2016-06-06</th>\n      <td>0.0</td>\n      <td>0.0</td>\n      <td>0.0</td>\n      <td>0.0</td>\n      <td>0.0</td>\n      <td>0.0</td>\n      <td>0.0</td>\n      <td>False</td>\n      <td>False</td>\n      <td>False</td>\n      <td>...</td>\n      <td>False</td>\n      <td>True</td>\n      <td>0.0</td>\n      <td>0.0</td>\n      <td>0.0</td>\n      <td>0.0</td>\n      <td>0.0</td>\n      <td>0.0</td>\n      <td>0.0</td>\n      <td>0.0</td>\n    </tr>\n  </tbody>\n</table>\n<p>2180465 rows × 134 columns</p>\n</div>"
     },
     "execution_count": 43,
     "metadata": {},
     "output_type": "execute_result"
    }
   ],
   "source": [
    "features.features"
   ],
   "metadata": {
    "collapsed": false,
    "pycharm": {
     "name": "#%%\n"
    }
   }
  },
  {
   "cell_type": "code",
   "execution_count": 44,
   "outputs": [
    {
     "name": "stdout",
     "output_type": "stream",
     "text": [
      "Success/Attempt = 70/3498\n"
     ]
    }
   ],
   "source": [
    "problem_generator = trane.PredictionProblemGenerator(\n",
    "    table_meta=meta, entity_col=entity_col, time_col=\"Data\")\n",
    "\n",
    "problems = problem_generator.generate()"
   ],
   "metadata": {
    "collapsed": false,
    "pycharm": {
     "name": "#%%\n"
    }
   }
  },
  {
   "cell_type": "code",
   "execution_count": 46,
   "outputs": [
    {
     "data": {
      "text/plain": "       appointment_id  patient_id  appointment_id.1 gender  \\\n62665         5735221       55063           5735221      M   \n7709          5735229       57835           5735229      M   \n62669         5735231       55488           5735231      F   \n62673         5735233       31930           5735233      F   \n20533         5735234       48295           5735234      F   \n\n            scheduled_day appointment_day  age    neighborhood  scholarship  \\\n62665 2016-05-24 19:16:33      2016-05-24   49  JARDIM CAMBURI            0   \n7709  2016-05-24 19:30:32      2016-05-24   43        REDENÇÃO            0   \n62669 2016-05-24 19:31:49      2016-05-24   47  JARDIM CAMBURI            0   \n62673 2016-05-24 19:42:04      2016-05-24   39  JARDIM CAMBURI            0   \n20533 2016-05-24 19:44:47      2016-05-24   47    SANTA MARTHA            0   \n\n       hypertension  diabetes  alcoholism  handicap  sms_received  no_show  \n62665             0         0           0         0             0        0  \n7709              0         0           0         0             0        0  \n62669             0         0           0         0             0        0  \n62673             0         0           0         0             0        0  \n20533             0         0           1         0             0        0  ",
      "text/html": "<div>\n<style scoped>\n    .dataframe tbody tr th:only-of-type {\n        vertical-align: middle;\n    }\n\n    .dataframe tbody tr th {\n        vertical-align: top;\n    }\n\n    .dataframe thead th {\n        text-align: right;\n    }\n</style>\n<table border=\"1\" class=\"dataframe\">\n  <thead>\n    <tr style=\"text-align: right;\">\n      <th></th>\n      <th>appointment_id</th>\n      <th>patient_id</th>\n      <th>appointment_id.1</th>\n      <th>gender</th>\n      <th>scheduled_day</th>\n      <th>appointment_day</th>\n      <th>age</th>\n      <th>neighborhood</th>\n      <th>scholarship</th>\n      <th>hypertension</th>\n      <th>diabetes</th>\n      <th>alcoholism</th>\n      <th>handicap</th>\n      <th>sms_received</th>\n      <th>no_show</th>\n    </tr>\n  </thead>\n  <tbody>\n    <tr>\n      <th>62665</th>\n      <td>5735221</td>\n      <td>55063</td>\n      <td>5735221</td>\n      <td>M</td>\n      <td>2016-05-24 19:16:33</td>\n      <td>2016-05-24</td>\n      <td>49</td>\n      <td>JARDIM CAMBURI</td>\n      <td>0</td>\n      <td>0</td>\n      <td>0</td>\n      <td>0</td>\n      <td>0</td>\n      <td>0</td>\n      <td>0</td>\n    </tr>\n    <tr>\n      <th>7709</th>\n      <td>5735229</td>\n      <td>57835</td>\n      <td>5735229</td>\n      <td>M</td>\n      <td>2016-05-24 19:30:32</td>\n      <td>2016-05-24</td>\n      <td>43</td>\n      <td>REDENÇÃO</td>\n      <td>0</td>\n      <td>0</td>\n      <td>0</td>\n      <td>0</td>\n      <td>0</td>\n      <td>0</td>\n      <td>0</td>\n    </tr>\n    <tr>\n      <th>62669</th>\n      <td>5735231</td>\n      <td>55488</td>\n      <td>5735231</td>\n      <td>F</td>\n      <td>2016-05-24 19:31:49</td>\n      <td>2016-05-24</td>\n      <td>47</td>\n      <td>JARDIM CAMBURI</td>\n      <td>0</td>\n      <td>0</td>\n      <td>0</td>\n      <td>0</td>\n      <td>0</td>\n      <td>0</td>\n      <td>0</td>\n    </tr>\n    <tr>\n      <th>62673</th>\n      <td>5735233</td>\n      <td>31930</td>\n      <td>5735233</td>\n      <td>F</td>\n      <td>2016-05-24 19:42:04</td>\n      <td>2016-05-24</td>\n      <td>39</td>\n      <td>JARDIM CAMBURI</td>\n      <td>0</td>\n      <td>0</td>\n      <td>0</td>\n      <td>0</td>\n      <td>0</td>\n      <td>0</td>\n      <td>0</td>\n    </tr>\n    <tr>\n      <th>20533</th>\n      <td>5735234</td>\n      <td>48295</td>\n      <td>5735234</td>\n      <td>F</td>\n      <td>2016-05-24 19:44:47</td>\n      <td>2016-05-24</td>\n      <td>47</td>\n      <td>SANTA MARTHA</td>\n      <td>0</td>\n      <td>0</td>\n      <td>0</td>\n      <td>1</td>\n      <td>0</td>\n      <td>0</td>\n      <td>0</td>\n    </tr>\n  </tbody>\n</table>\n</div>"
     },
     "execution_count": 46,
     "metadata": {},
     "output_type": "execute_result"
    }
   ],
   "source": [
    "new_df = df[df['appointment_day'] < \"2016-05-25\"]\n",
    "new_df.tail()"
   ],
   "metadata": {
    "collapsed": false,
    "pycharm": {
     "name": "#%%\n"
    }
   }
  },
  {
   "cell_type": "code",
   "execution_count": 47,
   "outputs": [],
   "source": [
    "evaluator = trane.PredictionProblemEvaluator(new_df,\n",
    "                                             entity_col=entity_col,\n",
    "                                             cutoff_strategy=cutoff_strategy,\n",
    "                                             min_train_set=20,\n",
    "                                             min_test_set=20,\n",
    "                                             previous_k_as_feature=2,\n",
    "                                             latest_k_as_test=8\n",
    "                                             )"
   ],
   "metadata": {
    "collapsed": false,
    "pycharm": {
     "name": "#%%\n"
    }
   }
  },
  {
   "cell_type": "code",
   "execution_count": 48,
   "outputs": [
    {
     "name": "stdout",
     "output_type": "stream",
     "text": [
      "For each <patient_id> predict the number of records\n",
      "For each <patient_id> predict the number of records with <age> greater than __\n",
      "For each <patient_id> predict the number of records with <no_show> greater than __\n",
      "For each <patient_id> predict the number of records with <neighborhood> equal to __\n",
      "For each <patient_id> predict the number of records with <neighborhood> not equal to __\n",
      "For each <patient_id> predict the number of records with <age> less than __\n",
      "For each <patient_id> predict the number of records with <no_show> less than __\n",
      "For each <patient_id> predict the total <age> in all related records\n",
      "For each <patient_id> predict the total <no_show> in all related records\n",
      "For each <patient_id> predict the total <age> in all related records with <age> greater than __\n",
      "For each <patient_id> predict the total <no_show> in all related records with <age> greater than __\n",
      "For each <patient_id> predict the total <age> in all related records with <no_show> greater than __\n",
      "For each <patient_id> predict the total <no_show> in all related records with <no_show> greater than __\n",
      "For each <patient_id> predict the total <age> in all related records with <neighborhood> equal to __\n",
      "For each <patient_id> predict the total <no_show> in all related records with <neighborhood> equal to __\n",
      "For each <patient_id> predict the total <age> in all related records with <neighborhood> not equal to __\n",
      "For each <patient_id> predict the total <no_show> in all related records with <neighborhood> not equal to __\n",
      "For each <patient_id> predict the total <age> in all related records with <age> less than __\n",
      "For each <patient_id> predict the total <no_show> in all related records with <age> less than __\n",
      "For each <patient_id> predict the total <age> in all related records with <no_show> less than __\n",
      "For each <patient_id> predict the total <no_show> in all related records with <no_show> less than __\n",
      "For each <patient_id> predict the average of <age> in all related records\n",
      "For each <patient_id> predict the average of <no_show> in all related records\n",
      "For each <patient_id> predict the average of <age> in all related records with <age> greater than __\n",
      "For each <patient_id> predict the average of <no_show> in all related records with <age> greater than __\n",
      "For each <patient_id> predict the average of <age> in all related records with <no_show> greater than __\n",
      "For each <patient_id> predict the average of <no_show> in all related records with <no_show> greater than __\n",
      "For each <patient_id> predict the average of <age> in all related records with <neighborhood> equal to __\n",
      "For each <patient_id> predict the average of <no_show> in all related records with <neighborhood> equal to __\n",
      "For each <patient_id> predict the average of <age> in all related records with <neighborhood> not equal to __\n",
      "For each <patient_id> predict the average of <no_show> in all related records with <neighborhood> not equal to __\n",
      "For each <patient_id> predict the average of <age> in all related records with <age> less than __\n",
      "For each <patient_id> predict the average of <no_show> in all related records with <age> less than __\n",
      "For each <patient_id> predict the average of <age> in all related records with <no_show> less than __\n",
      "For each <patient_id> predict the average of <no_show> in all related records with <no_show> less than __\n",
      "For each <patient_id> predict the maximum of <age> in all related records\n",
      "For each <patient_id> predict the maximum of <no_show> in all related records\n",
      "For each <patient_id> predict the maximum of <age> in all related records with <age> greater than __\n",
      "For each <patient_id> predict the maximum of <no_show> in all related records with <age> greater than __\n",
      "For each <patient_id> predict the maximum of <age> in all related records with <no_show> greater than __\n",
      "For each <patient_id> predict the maximum of <no_show> in all related records with <no_show> greater than __\n",
      "For each <patient_id> predict the maximum of <age> in all related records with <neighborhood> equal to __\n",
      "For each <patient_id> predict the maximum of <no_show> in all related records with <neighborhood> equal to __\n",
      "For each <patient_id> predict the maximum of <age> in all related records with <neighborhood> not equal to __\n",
      "For each <patient_id> predict the maximum of <no_show> in all related records with <neighborhood> not equal to __\n",
      "For each <patient_id> predict the maximum of <age> in all related records with <age> less than __\n",
      "For each <patient_id> predict the maximum of <no_show> in all related records with <age> less than __\n",
      "For each <patient_id> predict the maximum of <age> in all related records with <no_show> less than __\n",
      "For each <patient_id> predict the maximum of <no_show> in all related records with <no_show> less than __\n",
      "For each <patient_id> predict the minimum of <age> in all related records\n",
      "For each <patient_id> predict the minimum of <no_show> in all related records\n",
      "For each <patient_id> predict the minimum of <age> in all related records with <age> greater than __\n",
      "For each <patient_id> predict the minimum of <no_show> in all related records with <age> greater than __\n",
      "For each <patient_id> predict the minimum of <age> in all related records with <no_show> greater than __\n",
      "For each <patient_id> predict the minimum of <no_show> in all related records with <no_show> greater than __\n",
      "For each <patient_id> predict the minimum of <age> in all related records with <neighborhood> equal to __\n",
      "For each <patient_id> predict the minimum of <no_show> in all related records with <neighborhood> equal to __\n",
      "For each <patient_id> predict the minimum of <age> in all related records with <neighborhood> not equal to __\n",
      "For each <patient_id> predict the minimum of <no_show> in all related records with <neighborhood> not equal to __\n",
      "For each <patient_id> predict the minimum of <age> in all related records with <age> less than __\n",
      "For each <patient_id> predict the minimum of <no_show> in all related records with <age> less than __\n",
      "For each <patient_id> predict the minimum of <age> in all related records with <no_show> less than __\n",
      "For each <patient_id> predict the minimum of <no_show> in all related records with <no_show> less than __\n",
      "For each <patient_id> predict the majority of <neighborhood> in all related records\n",
      "For each <patient_id> predict the majority of <neighborhood> in all related records with <age> greater than __\n",
      "For each <patient_id> predict the majority of <neighborhood> in all related records with <no_show> greater than __\n",
      "For each <patient_id> predict the majority of <neighborhood> in all related records with <neighborhood> equal to __\n",
      "For each <patient_id> predict the majority of <neighborhood> in all related records with <neighborhood> not equal to __\n",
      "For each <patient_id> predict the majority of <neighborhood> in all related records with <age> less than __\n",
      "For each <patient_id> predict the majority of <neighborhood> in all related records with <no_show> less than __\n"
     ]
    }
   ],
   "source": [
    "for i in problems:\n",
    "    print(i)"
   ],
   "metadata": {
    "collapsed": false,
    "pycharm": {
     "name": "#%%\n"
    }
   }
  },
  {
   "cell_type": "code",
   "execution_count": null,
   "outputs": [
    {
     "name": "stdout",
     "output_type": "stream",
     "text": [
      "ERROR! Session/line number was not unique in database. History logging moved to new session 252\n"
     ]
    },
    {
     "name": "stderr",
     "output_type": "stream",
     "text": [
      "  0%|          | 0/70 [00:12<?, ?it/s]\n"
     ]
    }
   ],
   "source": [
    "result = trane.multi_process_evaluation(evaluator, problems, features)"
   ],
   "metadata": {
    "collapsed": false,
    "pycharm": {
     "name": "#%%\n",
     "is_executing": true
    }
   }
  },
  {
   "cell_type": "code",
   "execution_count": 30,
   "outputs": [
    {
     "data": {
      "text/plain": "1"
     },
     "execution_count": 30,
     "metadata": {},
     "output_type": "execute_result"
    }
   ],
   "source": [
    "len(problems)"
   ],
   "metadata": {
    "collapsed": false,
    "pycharm": {
     "name": "#%%\n"
    }
   }
  }
 ],
 "metadata": {
  "kernelspec": {
   "display_name": "Python 3",
   "language": "python",
   "name": "python3"
  },
  "language_info": {
   "codemirror_mode": {
    "name": "ipython",
    "version": 2
   },
   "file_extension": ".py",
   "mimetype": "text/x-python",
   "name": "python",
   "nbconvert_exporter": "python",
   "pygments_lexer": "ipython2",
   "version": "2.7.6"
  }
 },
 "nbformat": 4,
 "nbformat_minor": 0
}
