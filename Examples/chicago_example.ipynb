{
 "cells": [
  {
   "cell_type": "code",
   "execution_count": null,
   "id": "7efd117b",
   "metadata": {
    "scrolled": true
   },
   "outputs": [],
   "source": [
    "import warnings\n",
    "\n",
    "# warnings.filterwarnings(\"ignore\")\n",
    "warnings.filterwarnings(\"ignore\", category=DeprecationWarning)\n",
    "\n",
    "import copy\n",
    "import json\n",
    "import pandas as pd\n",
    "import os\n",
    "import sys\n",
    "import featuretools as ft\n",
    "import numpy as np\n",
    "import matplotlib.pyplot as plt\n",
    "import matplotlib\n",
    "\n",
    "%matplotlib inline\n",
    "\n",
    "sys.path.append(\"../../\")\n",
    "from Trane import trane as trane\n",
    "from datetime import datetime, timedelta"
   ]
  },
  {
   "cell_type": "markdown",
   "id": "8d67ebc9",
   "metadata": {},
   "source": [
    "### Upload of the dataset and metadata"
   ]
  },
  {
   "cell_type": "code",
   "execution_count": null,
   "id": "f1b249d7",
   "metadata": {},
   "outputs": [],
   "source": [
    "df = pd.read_csv(\"./chicago-bike/data/bike-sampled.csv\", sep=\",\")\n",
    "df[\"date\"] = df[\"date\"].apply(lambda x: datetime.strptime(x, \"%Y-%m-%d\"))\n",
    "df = df.sort_values(by=[\"date\"])\n",
    "df = df.fillna(0)\n",
    "meta = trane.TableMeta(json.loads(open(\"./chicago-bike/data/meta.json\").read()))"
   ]
  },
  {
   "cell_type": "markdown",
   "id": "1bbdae66",
   "metadata": {},
   "source": [
    "### Defining entity column, time column and cutoff strategy"
   ]
  },
  {
   "cell_type": "code",
   "execution_count": null,
   "id": "4916b1ac",
   "metadata": {},
   "outputs": [],
   "source": [
    "entity = \"usertype\"\n",
    "time = \"date\"\n",
    "cutoff = \"1h\"\n",
    "cutoff_base = pd.Timestamp(datetime.strptime(\"2017-01-02\", \"%Y-%m-%d\"))\n",
    "cutoff_end = pd.Timestamp(datetime.strptime(\"2017-01-31\", \"%Y-%m-%d\"))\n",
    "cutoff_strategy = trane.CutoffStrategy(entity, cutoff, cutoff_base, cutoff_end)\n",
    "\n",
    "problem_generator = trane.PredictionProblemGenerator(\n",
    "    table_meta=meta, entity_col=entity, cutoff_strategy=cutoff_strategy, time_col=time\n",
    ")\n",
    "\n",
    "problems = problem_generator.generate(df, generate_thresholds=True)"
   ]
  },
  {
   "cell_type": "markdown",
   "id": "cce81137",
   "metadata": {},
   "source": [
    "### Generating prediction problems"
   ]
  },
  {
   "cell_type": "code",
   "execution_count": null,
   "id": "fe494410",
   "metadata": {},
   "outputs": [],
   "source": [
    "problem_generator = trane.PredictionProblemGenerator(\n",
    "    table_meta=meta, entity_col=entity, time_col=time, cutoff_strategy=cutoff_strategy\n",
    ")\n",
    "\n",
    "problems = problem_generator.generate(df, generate_thresholds=True)"
   ]
  },
  {
   "cell_type": "markdown",
   "id": "f0bc9b88",
   "metadata": {},
   "source": [
    "### Labeling the prediction tasks"
   ]
  },
  {
   "cell_type": "code",
   "execution_count": null,
   "id": "8a2ba67b",
   "metadata": {},
   "outputs": [],
   "source": [
    "for p in problems:\n",
    "    try:\n",
    "        x = p.execute(df, -1)\n",
    "        problem_label_dict[str(p)] = x\n",
    "    except:\n",
    "        pass"
   ]
  },
  {
   "cell_type": "code",
   "execution_count": null,
   "id": "afd64f8a",
   "metadata": {},
   "outputs": [],
   "source": []
  }
 ],
 "metadata": {
  "kernelspec": {
   "display_name": "Python 3",
   "language": "python",
   "name": "python3"
  },
  "language_info": {
   "codemirror_mode": {
    "name": "ipython",
    "version": 3
   },
   "file_extension": ".py",
   "mimetype": "text/x-python",
   "name": "python",
   "nbconvert_exporter": "python",
   "pygments_lexer": "ipython3",
   "version": "3.11.1"
  },
  "vscode": {
   "interpreter": {
    "hash": "8207ecde8cf2fda520169a8f8360958470b9168fa3b5c7074fdec936472ea246"
   }
  }
 },
 "nbformat": 4,
 "nbformat_minor": 5
}
