{
 "cells": [
  {
   "cell_type": "code",
   "execution_count": 1,
   "metadata": {
    "collapsed": true
   },
   "outputs": [],
   "source": [
    "import pandas as pd\n",
    "import json"
   ]
  },
  {
   "cell_type": "code",
   "execution_count": 5,
   "metadata": {
    "collapsed": true
   },
   "outputs": [],
   "source": [
    "meta = pd.read_csv(\"meta.csv\")"
   ]
  },
  {
   "cell_type": "code",
   "execution_count": 6,
   "metadata": {
    "pycharm": {
     "name": "#%%\n"
    }
   },
   "outputs": [
    {
     "data": {
      "text/html": [
       "<div>\n",
       "<style scoped>\n",
       "    .dataframe tbody tr th:only-of-type {\n",
       "        vertical-align: middle;\n",
       "    }\n",
       "\n",
       "    .dataframe tbody tr th {\n",
       "        vertical-align: top;\n",
       "    }\n",
       "\n",
       "    .dataframe thead th {\n",
       "        text-align: right;\n",
       "    }\n",
       "</style>\n",
       "<table border=\"1\" class=\"dataframe\">\n",
       "  <thead>\n",
       "    <tr style=\"text-align: right;\">\n",
       "      <th></th>\n",
       "      <th>name</th>\n",
       "      <th>type</th>\n",
       "      <th>subtype</th>\n",
       "      <th>is_entity</th>\n",
       "    </tr>\n",
       "  </thead>\n",
       "  <tbody>\n",
       "    <tr>\n",
       "      <th>0</th>\n",
       "      <td>DATE</td>\n",
       "      <td>time</td>\n",
       "      <td>NaN</td>\n",
       "      <td>False</td>\n",
       "    </tr>\n",
       "    <tr>\n",
       "      <th>1</th>\n",
       "      <td>DAY_OF_WEEK</td>\n",
       "      <td>categorical</td>\n",
       "      <td>categorical</td>\n",
       "      <td>True</td>\n",
       "    </tr>\n",
       "    <tr>\n",
       "      <th>2</th>\n",
       "      <td>AIRLINE</td>\n",
       "      <td>categorical</td>\n",
       "      <td>categorical</td>\n",
       "      <td>True</td>\n",
       "    </tr>\n",
       "    <tr>\n",
       "      <th>3</th>\n",
       "      <td>FLIGHT_NUMBER</td>\n",
       "      <td>id</td>\n",
       "      <td>NaN</td>\n",
       "      <td>True</td>\n",
       "    </tr>\n",
       "    <tr>\n",
       "      <th>4</th>\n",
       "      <td>TAIL_NUMBER</td>\n",
       "      <td>id</td>\n",
       "      <td>NaN</td>\n",
       "      <td>True</td>\n",
       "    </tr>\n",
       "    <tr>\n",
       "      <th>5</th>\n",
       "      <td>ORIGIN_AIRPORT</td>\n",
       "      <td>id</td>\n",
       "      <td>NaN</td>\n",
       "      <td>True</td>\n",
       "    </tr>\n",
       "    <tr>\n",
       "      <th>6</th>\n",
       "      <td>DESTINATION_AIRPORT</td>\n",
       "      <td>id</td>\n",
       "      <td>NaN</td>\n",
       "      <td>True</td>\n",
       "    </tr>\n",
       "    <tr>\n",
       "      <th>7</th>\n",
       "      <td>SCHEDULED_DEPARTURE_HOUR</td>\n",
       "      <td>number</td>\n",
       "      <td>integer</td>\n",
       "      <td>NaN</td>\n",
       "    </tr>\n",
       "    <tr>\n",
       "      <th>8</th>\n",
       "      <td>SCHEDULED_TIME</td>\n",
       "      <td>number</td>\n",
       "      <td>float</td>\n",
       "      <td>NaN</td>\n",
       "    </tr>\n",
       "    <tr>\n",
       "      <th>9</th>\n",
       "      <td>ELAPSED_TIME</td>\n",
       "      <td>number</td>\n",
       "      <td>float</td>\n",
       "      <td>NaN</td>\n",
       "    </tr>\n",
       "    <tr>\n",
       "      <th>10</th>\n",
       "      <td>DEPARTURE_DELAY</td>\n",
       "      <td>number</td>\n",
       "      <td>float</td>\n",
       "      <td>NaN</td>\n",
       "    </tr>\n",
       "    <tr>\n",
       "      <th>11</th>\n",
       "      <td>ARRIVAL_DELAY</td>\n",
       "      <td>number</td>\n",
       "      <td>float</td>\n",
       "      <td>NaN</td>\n",
       "    </tr>\n",
       "    <tr>\n",
       "      <th>12</th>\n",
       "      <td>CANCELLED</td>\n",
       "      <td>categorical</td>\n",
       "      <td>categorical</td>\n",
       "      <td>NaN</td>\n",
       "    </tr>\n",
       "    <tr>\n",
       "      <th>13</th>\n",
       "      <td>CANCELLATION_REASON</td>\n",
       "      <td>categorical</td>\n",
       "      <td>categorical</td>\n",
       "      <td>NaN</td>\n",
       "    </tr>\n",
       "    <tr>\n",
       "      <th>14</th>\n",
       "      <td>AIR_SYSTEM_DELAY</td>\n",
       "      <td>number</td>\n",
       "      <td>float</td>\n",
       "      <td>NaN</td>\n",
       "    </tr>\n",
       "    <tr>\n",
       "      <th>15</th>\n",
       "      <td>SECURITY_DELAY</td>\n",
       "      <td>number</td>\n",
       "      <td>float</td>\n",
       "      <td>NaN</td>\n",
       "    </tr>\n",
       "    <tr>\n",
       "      <th>16</th>\n",
       "      <td>AIRLINE_DELAY</td>\n",
       "      <td>number</td>\n",
       "      <td>float</td>\n",
       "      <td>NaN</td>\n",
       "    </tr>\n",
       "    <tr>\n",
       "      <th>17</th>\n",
       "      <td>LATE_AIRCRAFT_DELAY</td>\n",
       "      <td>number</td>\n",
       "      <td>float</td>\n",
       "      <td>NaN</td>\n",
       "    </tr>\n",
       "    <tr>\n",
       "      <th>18</th>\n",
       "      <td>WEATHER_DELAY</td>\n",
       "      <td>number</td>\n",
       "      <td>float</td>\n",
       "      <td>NaN</td>\n",
       "    </tr>\n",
       "  </tbody>\n",
       "</table>\n",
       "</div>"
      ],
      "text/plain": [
       "                        name         type      subtype is_entity\n",
       "0                       DATE         time          NaN     False\n",
       "1                DAY_OF_WEEK  categorical  categorical      True\n",
       "2                    AIRLINE  categorical  categorical      True\n",
       "3              FLIGHT_NUMBER           id          NaN      True\n",
       "4                TAIL_NUMBER           id          NaN      True\n",
       "5             ORIGIN_AIRPORT           id          NaN      True\n",
       "6        DESTINATION_AIRPORT           id          NaN      True\n",
       "7   SCHEDULED_DEPARTURE_HOUR       number      integer       NaN\n",
       "8             SCHEDULED_TIME       number        float       NaN\n",
       "9               ELAPSED_TIME       number        float       NaN\n",
       "10           DEPARTURE_DELAY       number        float       NaN\n",
       "11             ARRIVAL_DELAY       number        float       NaN\n",
       "12                 CANCELLED  categorical  categorical       NaN\n",
       "13       CANCELLATION_REASON  categorical  categorical       NaN\n",
       "14          AIR_SYSTEM_DELAY       number        float       NaN\n",
       "15            SECURITY_DELAY       number        float       NaN\n",
       "16             AIRLINE_DELAY       number        float       NaN\n",
       "17       LATE_AIRCRAFT_DELAY       number        float       NaN\n",
       "18             WEATHER_DELAY       number        float       NaN"
      ]
     },
     "execution_count": 6,
     "metadata": {},
     "output_type": "execute_result"
    }
   ],
   "source": [
    "meta"
   ]
  },
  {
   "cell_type": "code",
   "execution_count": 3,
   "metadata": {
    "collapsed": true
   },
   "outputs": [],
   "source": [
    "fields = []\n",
    "\n",
    "for _id, row in meta.iterrows():\n",
    "    col = {\n",
    "        \"name\": row[\"name\"],\n",
    "        \"type\": row[\"type\"],\n",
    "        #         'is_entity': bool(row['is_entity'])\n",
    "    }\n",
    "    if not pd.isna(row[\"subtype\"]):\n",
    "        col[\"subtype\"] = row[\"subtype\"]\n",
    "\n",
    "    # print(col)\n",
    "    fields.append(col)\n",
    "\n",
    "meta = {\"tables\": [{\"fields\": fields}]}"
   ]
  },
  {
   "cell_type": "code",
   "execution_count": 4,
   "metadata": {
    "pycharm": {
     "name": "#%%\n"
    }
   },
   "outputs": [
    {
     "data": {
      "text/plain": [
       "{'tables': [{'fields': [{'name': 'DATE', 'type': 'time'},\n",
       "    {'name': 'DAY_OF_WEEK', 'type': 'categorical', 'subtype': 'categorical'},\n",
       "    {'name': 'AIRLINE', 'type': 'categorical', 'subtype': 'categorical'},\n",
       "    {'name': 'FLIGHT_NUMBER', 'type': 'id'},\n",
       "    {'name': 'TAIL_NUMBER', 'type': 'id'},\n",
       "    {'name': 'ORIGIN_AIRPORT', 'type': 'id'},\n",
       "    {'name': 'DESTINATION_AIRPORT', 'type': 'id'},\n",
       "    {'name': 'SCHEDULED_DEPARTURE_HOUR',\n",
       "     'type': 'number',\n",
       "     'subtype': 'integer'},\n",
       "    {'name': 'SCHEDULED_TIME', 'type': 'number', 'subtype': 'float'},\n",
       "    {'name': 'ELAPSED_TIME', 'type': 'number', 'subtype': 'float'},\n",
       "    {'name': 'DEPARTURE_DELAY', 'type': 'number', 'subtype': 'float'},\n",
       "    {'name': 'ARRIVAL_DELAY', 'type': 'number', 'subtype': 'float'},\n",
       "    {'name': 'CANCELLED', 'type': 'categorical', 'subtype': 'categorical'},\n",
       "    {'name': 'CANCELLATION_REASON',\n",
       "     'type': 'categorical',\n",
       "     'subtype': 'categorical'},\n",
       "    {'name': 'AIR_SYSTEM_DELAY', 'type': 'number', 'subtype': 'float'},\n",
       "    {'name': 'SECURITY_DELAY', 'type': 'number', 'subtype': 'float'},\n",
       "    {'name': 'AIRLINE_DELAY', 'type': 'number', 'subtype': 'float'},\n",
       "    {'name': 'LATE_AIRCRAFT_DELAY', 'type': 'number', 'subtype': 'float'},\n",
       "    {'name': 'WEATHER_DELAY', 'type': 'number', 'subtype': 'float'}]}]}"
      ]
     },
     "execution_count": 4,
     "metadata": {},
     "output_type": "execute_result"
    }
   ],
   "source": [
    "meta"
   ]
  },
  {
   "cell_type": "code",
   "execution_count": 4,
   "metadata": {
    "collapsed": true
   },
   "outputs": [],
   "source": [
    "with open(\"meta.json\", \"w\") as f:\n",
    "    json.dump(meta, f, indent=4, separators=(\",\", \": \"), sort_keys=True)"
   ]
  },
  {
   "cell_type": "code",
   "execution_count": null,
   "metadata": {
    "collapsed": true
   },
   "outputs": [],
   "source": []
  }
 ],
 "metadata": {
  "kernelspec": {
   "display_name": "Python 3 (ipykernel)",
   "language": "python",
   "name": "python3"
  },
  "language_info": {
   "codemirror_mode": {
    "name": "ipython",
    "version": 3
   },
   "file_extension": ".py",
   "mimetype": "text/x-python",
   "name": "python",
   "nbconvert_exporter": "python",
   "pygments_lexer": "ipython3",
   "version": "3.11.1"
  }
 },
 "nbformat": 4,
 "nbformat_minor": 2
}
