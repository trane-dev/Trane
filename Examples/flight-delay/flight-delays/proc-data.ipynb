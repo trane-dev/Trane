{
 "cells": [
  {
   "cell_type": "code",
   "execution_count": 1,
   "metadata": {
    "collapsed": true
   },
   "outputs": [],
   "source": [
    "import pandas as pd\n",
    "import numpy as np"
   ]
  },
  {
   "cell_type": "code",
   "execution_count": 2,
   "metadata": {
    "collapsed": true
   },
   "outputs": [],
   "source": [
    "df = pd.read_csv(\n",
    "    \"flights.csv\",\n",
    "    dtype={\n",
    "        \"TAIL_NUMBER\": str,\n",
    "        \"FLIGHT_NUMBER\": str,\n",
    "        \"ORIGIN_AIRPORT\": str,\n",
    "        \"DESTINATION_AIRPORT\": str,\n",
    "    },\n",
    ")\n",
    "# df_head = df.head(100)"
   ]
  },
  {
   "cell_type": "code",
   "execution_count": 3,
   "metadata": {
    "collapsed": true
   },
   "outputs": [
    {
     "data": {
      "text/plain": "   YEAR  MONTH  DAY  DAY_OF_WEEK AIRLINE FLIGHT_NUMBER TAIL_NUMBER  \\\n0  2015      1    1            4      AS            98      N407AS   \n1  2015      1    1            4      AA          2336      N3KUAA   \n2  2015      1    1            4      US           840      N171US   \n3  2015      1    1            4      AA           258      N3HYAA   \n4  2015      1    1            4      AS           135      N527AS   \n\n  ORIGIN_AIRPORT DESTINATION_AIRPORT  SCHEDULED_DEPARTURE  ...  ARRIVAL_TIME  \\\n0            ANC                 SEA                    5  ...         408.0   \n1            LAX                 PBI                   10  ...         741.0   \n2            SFO                 CLT                   20  ...         811.0   \n3            LAX                 MIA                   20  ...         756.0   \n4            SEA                 ANC                   25  ...         259.0   \n\n   ARRIVAL_DELAY  DIVERTED  CANCELLED  CANCELLATION_REASON  AIR_SYSTEM_DELAY  \\\n0          -22.0         0          0                  NaN               NaN   \n1           -9.0         0          0                  NaN               NaN   \n2            5.0         0          0                  NaN               NaN   \n3           -9.0         0          0                  NaN               NaN   \n4          -21.0         0          0                  NaN               NaN   \n\n   SECURITY_DELAY  AIRLINE_DELAY  LATE_AIRCRAFT_DELAY  WEATHER_DELAY  \n0             NaN            NaN                  NaN            NaN  \n1             NaN            NaN                  NaN            NaN  \n2             NaN            NaN                  NaN            NaN  \n3             NaN            NaN                  NaN            NaN  \n4             NaN            NaN                  NaN            NaN  \n\n[5 rows x 31 columns]",
      "text/html": "<div>\n<style scoped>\n    .dataframe tbody tr th:only-of-type {\n        vertical-align: middle;\n    }\n\n    .dataframe tbody tr th {\n        vertical-align: top;\n    }\n\n    .dataframe thead th {\n        text-align: right;\n    }\n</style>\n<table border=\"1\" class=\"dataframe\">\n  <thead>\n    <tr style=\"text-align: right;\">\n      <th></th>\n      <th>YEAR</th>\n      <th>MONTH</th>\n      <th>DAY</th>\n      <th>DAY_OF_WEEK</th>\n      <th>AIRLINE</th>\n      <th>FLIGHT_NUMBER</th>\n      <th>TAIL_NUMBER</th>\n      <th>ORIGIN_AIRPORT</th>\n      <th>DESTINATION_AIRPORT</th>\n      <th>SCHEDULED_DEPARTURE</th>\n      <th>...</th>\n      <th>ARRIVAL_TIME</th>\n      <th>ARRIVAL_DELAY</th>\n      <th>DIVERTED</th>\n      <th>CANCELLED</th>\n      <th>CANCELLATION_REASON</th>\n      <th>AIR_SYSTEM_DELAY</th>\n      <th>SECURITY_DELAY</th>\n      <th>AIRLINE_DELAY</th>\n      <th>LATE_AIRCRAFT_DELAY</th>\n      <th>WEATHER_DELAY</th>\n    </tr>\n  </thead>\n  <tbody>\n    <tr>\n      <th>0</th>\n      <td>2015</td>\n      <td>1</td>\n      <td>1</td>\n      <td>4</td>\n      <td>AS</td>\n      <td>98</td>\n      <td>N407AS</td>\n      <td>ANC</td>\n      <td>SEA</td>\n      <td>5</td>\n      <td>...</td>\n      <td>408.0</td>\n      <td>-22.0</td>\n      <td>0</td>\n      <td>0</td>\n      <td>NaN</td>\n      <td>NaN</td>\n      <td>NaN</td>\n      <td>NaN</td>\n      <td>NaN</td>\n      <td>NaN</td>\n    </tr>\n    <tr>\n      <th>1</th>\n      <td>2015</td>\n      <td>1</td>\n      <td>1</td>\n      <td>4</td>\n      <td>AA</td>\n      <td>2336</td>\n      <td>N3KUAA</td>\n      <td>LAX</td>\n      <td>PBI</td>\n      <td>10</td>\n      <td>...</td>\n      <td>741.0</td>\n      <td>-9.0</td>\n      <td>0</td>\n      <td>0</td>\n      <td>NaN</td>\n      <td>NaN</td>\n      <td>NaN</td>\n      <td>NaN</td>\n      <td>NaN</td>\n      <td>NaN</td>\n    </tr>\n    <tr>\n      <th>2</th>\n      <td>2015</td>\n      <td>1</td>\n      <td>1</td>\n      <td>4</td>\n      <td>US</td>\n      <td>840</td>\n      <td>N171US</td>\n      <td>SFO</td>\n      <td>CLT</td>\n      <td>20</td>\n      <td>...</td>\n      <td>811.0</td>\n      <td>5.0</td>\n      <td>0</td>\n      <td>0</td>\n      <td>NaN</td>\n      <td>NaN</td>\n      <td>NaN</td>\n      <td>NaN</td>\n      <td>NaN</td>\n      <td>NaN</td>\n    </tr>\n    <tr>\n      <th>3</th>\n      <td>2015</td>\n      <td>1</td>\n      <td>1</td>\n      <td>4</td>\n      <td>AA</td>\n      <td>258</td>\n      <td>N3HYAA</td>\n      <td>LAX</td>\n      <td>MIA</td>\n      <td>20</td>\n      <td>...</td>\n      <td>756.0</td>\n      <td>-9.0</td>\n      <td>0</td>\n      <td>0</td>\n      <td>NaN</td>\n      <td>NaN</td>\n      <td>NaN</td>\n      <td>NaN</td>\n      <td>NaN</td>\n      <td>NaN</td>\n    </tr>\n    <tr>\n      <th>4</th>\n      <td>2015</td>\n      <td>1</td>\n      <td>1</td>\n      <td>4</td>\n      <td>AS</td>\n      <td>135</td>\n      <td>N527AS</td>\n      <td>SEA</td>\n      <td>ANC</td>\n      <td>25</td>\n      <td>...</td>\n      <td>259.0</td>\n      <td>-21.0</td>\n      <td>0</td>\n      <td>0</td>\n      <td>NaN</td>\n      <td>NaN</td>\n      <td>NaN</td>\n      <td>NaN</td>\n      <td>NaN</td>\n      <td>NaN</td>\n    </tr>\n  </tbody>\n</table>\n<p>5 rows × 31 columns</p>\n</div>"
     },
     "execution_count": 3,
     "metadata": {},
     "output_type": "execute_result"
    }
   ],
   "source": [
    "# df = df_head.copy()\n",
    "df.head()"
   ]
  },
  {
   "cell_type": "code",
   "execution_count": 4,
   "metadata": {
    "collapsed": true
   },
   "outputs": [],
   "source": [
    "df[\"DATE\"] = df.apply(\n",
    "    lambda row: \"%04d-%02d-%02d\" % (row[\"YEAR\"], row[\"MONTH\"], row[\"DAY\"]), axis=1\n",
    ")"
   ]
  },
  {
   "cell_type": "code",
   "execution_count": 5,
   "metadata": {
    "collapsed": true
   },
   "outputs": [
    {
     "data": {
      "text/plain": "   YEAR  MONTH  DAY  DAY_OF_WEEK AIRLINE FLIGHT_NUMBER TAIL_NUMBER  \\\n0  2015      1    1            4      AS            98      N407AS   \n1  2015      1    1            4      AA          2336      N3KUAA   \n2  2015      1    1            4      US           840      N171US   \n3  2015      1    1            4      AA           258      N3HYAA   \n4  2015      1    1            4      AS           135      N527AS   \n\n  ORIGIN_AIRPORT DESTINATION_AIRPORT  SCHEDULED_DEPARTURE  ...  ARRIVAL_DELAY  \\\n0            ANC                 SEA                    5  ...          -22.0   \n1            LAX                 PBI                   10  ...           -9.0   \n2            SFO                 CLT                   20  ...            5.0   \n3            LAX                 MIA                   20  ...           -9.0   \n4            SEA                 ANC                   25  ...          -21.0   \n\n   DIVERTED  CANCELLED  CANCELLATION_REASON  AIR_SYSTEM_DELAY  SECURITY_DELAY  \\\n0         0          0                  NaN               NaN             NaN   \n1         0          0                  NaN               NaN             NaN   \n2         0          0                  NaN               NaN             NaN   \n3         0          0                  NaN               NaN             NaN   \n4         0          0                  NaN               NaN             NaN   \n\n   AIRLINE_DELAY  LATE_AIRCRAFT_DELAY  WEATHER_DELAY        DATE  \n0            NaN                  NaN            NaN  2015-01-01  \n1            NaN                  NaN            NaN  2015-01-01  \n2            NaN                  NaN            NaN  2015-01-01  \n3            NaN                  NaN            NaN  2015-01-01  \n4            NaN                  NaN            NaN  2015-01-01  \n\n[5 rows x 32 columns]",
      "text/html": "<div>\n<style scoped>\n    .dataframe tbody tr th:only-of-type {\n        vertical-align: middle;\n    }\n\n    .dataframe tbody tr th {\n        vertical-align: top;\n    }\n\n    .dataframe thead th {\n        text-align: right;\n    }\n</style>\n<table border=\"1\" class=\"dataframe\">\n  <thead>\n    <tr style=\"text-align: right;\">\n      <th></th>\n      <th>YEAR</th>\n      <th>MONTH</th>\n      <th>DAY</th>\n      <th>DAY_OF_WEEK</th>\n      <th>AIRLINE</th>\n      <th>FLIGHT_NUMBER</th>\n      <th>TAIL_NUMBER</th>\n      <th>ORIGIN_AIRPORT</th>\n      <th>DESTINATION_AIRPORT</th>\n      <th>SCHEDULED_DEPARTURE</th>\n      <th>...</th>\n      <th>ARRIVAL_DELAY</th>\n      <th>DIVERTED</th>\n      <th>CANCELLED</th>\n      <th>CANCELLATION_REASON</th>\n      <th>AIR_SYSTEM_DELAY</th>\n      <th>SECURITY_DELAY</th>\n      <th>AIRLINE_DELAY</th>\n      <th>LATE_AIRCRAFT_DELAY</th>\n      <th>WEATHER_DELAY</th>\n      <th>DATE</th>\n    </tr>\n  </thead>\n  <tbody>\n    <tr>\n      <th>0</th>\n      <td>2015</td>\n      <td>1</td>\n      <td>1</td>\n      <td>4</td>\n      <td>AS</td>\n      <td>98</td>\n      <td>N407AS</td>\n      <td>ANC</td>\n      <td>SEA</td>\n      <td>5</td>\n      <td>...</td>\n      <td>-22.0</td>\n      <td>0</td>\n      <td>0</td>\n      <td>NaN</td>\n      <td>NaN</td>\n      <td>NaN</td>\n      <td>NaN</td>\n      <td>NaN</td>\n      <td>NaN</td>\n      <td>2015-01-01</td>\n    </tr>\n    <tr>\n      <th>1</th>\n      <td>2015</td>\n      <td>1</td>\n      <td>1</td>\n      <td>4</td>\n      <td>AA</td>\n      <td>2336</td>\n      <td>N3KUAA</td>\n      <td>LAX</td>\n      <td>PBI</td>\n      <td>10</td>\n      <td>...</td>\n      <td>-9.0</td>\n      <td>0</td>\n      <td>0</td>\n      <td>NaN</td>\n      <td>NaN</td>\n      <td>NaN</td>\n      <td>NaN</td>\n      <td>NaN</td>\n      <td>NaN</td>\n      <td>2015-01-01</td>\n    </tr>\n    <tr>\n      <th>2</th>\n      <td>2015</td>\n      <td>1</td>\n      <td>1</td>\n      <td>4</td>\n      <td>US</td>\n      <td>840</td>\n      <td>N171US</td>\n      <td>SFO</td>\n      <td>CLT</td>\n      <td>20</td>\n      <td>...</td>\n      <td>5.0</td>\n      <td>0</td>\n      <td>0</td>\n      <td>NaN</td>\n      <td>NaN</td>\n      <td>NaN</td>\n      <td>NaN</td>\n      <td>NaN</td>\n      <td>NaN</td>\n      <td>2015-01-01</td>\n    </tr>\n    <tr>\n      <th>3</th>\n      <td>2015</td>\n      <td>1</td>\n      <td>1</td>\n      <td>4</td>\n      <td>AA</td>\n      <td>258</td>\n      <td>N3HYAA</td>\n      <td>LAX</td>\n      <td>MIA</td>\n      <td>20</td>\n      <td>...</td>\n      <td>-9.0</td>\n      <td>0</td>\n      <td>0</td>\n      <td>NaN</td>\n      <td>NaN</td>\n      <td>NaN</td>\n      <td>NaN</td>\n      <td>NaN</td>\n      <td>NaN</td>\n      <td>2015-01-01</td>\n    </tr>\n    <tr>\n      <th>4</th>\n      <td>2015</td>\n      <td>1</td>\n      <td>1</td>\n      <td>4</td>\n      <td>AS</td>\n      <td>135</td>\n      <td>N527AS</td>\n      <td>SEA</td>\n      <td>ANC</td>\n      <td>25</td>\n      <td>...</td>\n      <td>-21.0</td>\n      <td>0</td>\n      <td>0</td>\n      <td>NaN</td>\n      <td>NaN</td>\n      <td>NaN</td>\n      <td>NaN</td>\n      <td>NaN</td>\n      <td>NaN</td>\n      <td>2015-01-01</td>\n    </tr>\n  </tbody>\n</table>\n<p>5 rows × 32 columns</p>\n</div>"
     },
     "execution_count": 5,
     "metadata": {},
     "output_type": "execute_result"
    }
   ],
   "source": [
    "df.head()"
   ]
  },
  {
   "cell_type": "code",
   "execution_count": 6,
   "outputs": [],
   "source": [
    "df[\"SCHEDULED_DEPARTURE_HOUR\"] = df.apply(\n",
    "    lambda row: row[\"SCHEDULED_DEPARTURE\"] // 100, axis=1\n",
    ")\n",
    "df[\"SCHEDULED_DEPARTURE_MINUTE\"] = df.apply(\n",
    "    lambda row: row[\"SCHEDULED_DEPARTURE\"] % 100, axis=1\n",
    ")"
   ],
   "metadata": {
    "collapsed": false,
    "pycharm": {
     "name": "#%%\n"
    }
   }
  },
  {
   "cell_type": "code",
   "execution_count": 7,
   "outputs": [
    {
     "data": {
      "text/plain": "   YEAR  MONTH  DAY  DAY_OF_WEEK AIRLINE FLIGHT_NUMBER TAIL_NUMBER  \\\n0  2015      1    1            4      AS            98      N407AS   \n1  2015      1    1            4      AA          2336      N3KUAA   \n2  2015      1    1            4      US           840      N171US   \n3  2015      1    1            4      AA           258      N3HYAA   \n4  2015      1    1            4      AS           135      N527AS   \n\n  ORIGIN_AIRPORT DESTINATION_AIRPORT  SCHEDULED_DEPARTURE  ...  CANCELLED  \\\n0            ANC                 SEA                    5  ...          0   \n1            LAX                 PBI                   10  ...          0   \n2            SFO                 CLT                   20  ...          0   \n3            LAX                 MIA                   20  ...          0   \n4            SEA                 ANC                   25  ...          0   \n\n   CANCELLATION_REASON  AIR_SYSTEM_DELAY  SECURITY_DELAY  AIRLINE_DELAY  \\\n0                  NaN               NaN             NaN            NaN   \n1                  NaN               NaN             NaN            NaN   \n2                  NaN               NaN             NaN            NaN   \n3                  NaN               NaN             NaN            NaN   \n4                  NaN               NaN             NaN            NaN   \n\n   LATE_AIRCRAFT_DELAY  WEATHER_DELAY        DATE  SCHEDULED_DEPARTURE_HOUR  \\\n0                  NaN            NaN  2015-01-01                         0   \n1                  NaN            NaN  2015-01-01                         0   \n2                  NaN            NaN  2015-01-01                         0   \n3                  NaN            NaN  2015-01-01                         0   \n4                  NaN            NaN  2015-01-01                         0   \n\n   SCHEDULED_DEPARTURE_MINUTE  \n0                           5  \n1                          10  \n2                          20  \n3                          20  \n4                          25  \n\n[5 rows x 34 columns]",
      "text/html": "<div>\n<style scoped>\n    .dataframe tbody tr th:only-of-type {\n        vertical-align: middle;\n    }\n\n    .dataframe tbody tr th {\n        vertical-align: top;\n    }\n\n    .dataframe thead th {\n        text-align: right;\n    }\n</style>\n<table border=\"1\" class=\"dataframe\">\n  <thead>\n    <tr style=\"text-align: right;\">\n      <th></th>\n      <th>YEAR</th>\n      <th>MONTH</th>\n      <th>DAY</th>\n      <th>DAY_OF_WEEK</th>\n      <th>AIRLINE</th>\n      <th>FLIGHT_NUMBER</th>\n      <th>TAIL_NUMBER</th>\n      <th>ORIGIN_AIRPORT</th>\n      <th>DESTINATION_AIRPORT</th>\n      <th>SCHEDULED_DEPARTURE</th>\n      <th>...</th>\n      <th>CANCELLED</th>\n      <th>CANCELLATION_REASON</th>\n      <th>AIR_SYSTEM_DELAY</th>\n      <th>SECURITY_DELAY</th>\n      <th>AIRLINE_DELAY</th>\n      <th>LATE_AIRCRAFT_DELAY</th>\n      <th>WEATHER_DELAY</th>\n      <th>DATE</th>\n      <th>SCHEDULED_DEPARTURE_HOUR</th>\n      <th>SCHEDULED_DEPARTURE_MINUTE</th>\n    </tr>\n  </thead>\n  <tbody>\n    <tr>\n      <th>0</th>\n      <td>2015</td>\n      <td>1</td>\n      <td>1</td>\n      <td>4</td>\n      <td>AS</td>\n      <td>98</td>\n      <td>N407AS</td>\n      <td>ANC</td>\n      <td>SEA</td>\n      <td>5</td>\n      <td>...</td>\n      <td>0</td>\n      <td>NaN</td>\n      <td>NaN</td>\n      <td>NaN</td>\n      <td>NaN</td>\n      <td>NaN</td>\n      <td>NaN</td>\n      <td>2015-01-01</td>\n      <td>0</td>\n      <td>5</td>\n    </tr>\n    <tr>\n      <th>1</th>\n      <td>2015</td>\n      <td>1</td>\n      <td>1</td>\n      <td>4</td>\n      <td>AA</td>\n      <td>2336</td>\n      <td>N3KUAA</td>\n      <td>LAX</td>\n      <td>PBI</td>\n      <td>10</td>\n      <td>...</td>\n      <td>0</td>\n      <td>NaN</td>\n      <td>NaN</td>\n      <td>NaN</td>\n      <td>NaN</td>\n      <td>NaN</td>\n      <td>NaN</td>\n      <td>2015-01-01</td>\n      <td>0</td>\n      <td>10</td>\n    </tr>\n    <tr>\n      <th>2</th>\n      <td>2015</td>\n      <td>1</td>\n      <td>1</td>\n      <td>4</td>\n      <td>US</td>\n      <td>840</td>\n      <td>N171US</td>\n      <td>SFO</td>\n      <td>CLT</td>\n      <td>20</td>\n      <td>...</td>\n      <td>0</td>\n      <td>NaN</td>\n      <td>NaN</td>\n      <td>NaN</td>\n      <td>NaN</td>\n      <td>NaN</td>\n      <td>NaN</td>\n      <td>2015-01-01</td>\n      <td>0</td>\n      <td>20</td>\n    </tr>\n    <tr>\n      <th>3</th>\n      <td>2015</td>\n      <td>1</td>\n      <td>1</td>\n      <td>4</td>\n      <td>AA</td>\n      <td>258</td>\n      <td>N3HYAA</td>\n      <td>LAX</td>\n      <td>MIA</td>\n      <td>20</td>\n      <td>...</td>\n      <td>0</td>\n      <td>NaN</td>\n      <td>NaN</td>\n      <td>NaN</td>\n      <td>NaN</td>\n      <td>NaN</td>\n      <td>NaN</td>\n      <td>2015-01-01</td>\n      <td>0</td>\n      <td>20</td>\n    </tr>\n    <tr>\n      <th>4</th>\n      <td>2015</td>\n      <td>1</td>\n      <td>1</td>\n      <td>4</td>\n      <td>AS</td>\n      <td>135</td>\n      <td>N527AS</td>\n      <td>SEA</td>\n      <td>ANC</td>\n      <td>25</td>\n      <td>...</td>\n      <td>0</td>\n      <td>NaN</td>\n      <td>NaN</td>\n      <td>NaN</td>\n      <td>NaN</td>\n      <td>NaN</td>\n      <td>NaN</td>\n      <td>2015-01-01</td>\n      <td>0</td>\n      <td>25</td>\n    </tr>\n  </tbody>\n</table>\n<p>5 rows × 34 columns</p>\n</div>"
     },
     "execution_count": 7,
     "metadata": {},
     "output_type": "execute_result"
    }
   ],
   "source": [
    "df.head()"
   ],
   "metadata": {
    "collapsed": false,
    "pycharm": {
     "name": "#%%\n"
    }
   }
  },
  {
   "cell_type": "code",
   "execution_count": 8,
   "metadata": {
    "collapsed": true
   },
   "outputs": [],
   "source": [
    "df[\"CANCELLATION_REASON\"] = df[\"CANCELLATION_REASON\"].apply(\n",
    "    lambda x: \"-\" if not isinstance(x, str) else x\n",
    ")\n",
    "df[\"TAIL_NUMBER\"] = df[\"TAIL_NUMBER\"].apply(\n",
    "    lambda x: \"-\" if not isinstance(x, str) else x\n",
    ")\n",
    "df[\"FLIGHT_NUMBER\"] = df[\"AIRLINE\"] + df[\"FLIGHT_NUMBER\"]"
   ]
  },
  {
   "cell_type": "code",
   "execution_count": 9,
   "outputs": [
    {
     "data": {
      "text/plain": "   YEAR  MONTH  DAY  DAY_OF_WEEK AIRLINE FLIGHT_NUMBER TAIL_NUMBER  \\\n0  2015      1    1            4      AS          AS98      N407AS   \n1  2015      1    1            4      AA        AA2336      N3KUAA   \n2  2015      1    1            4      US         US840      N171US   \n3  2015      1    1            4      AA         AA258      N3HYAA   \n4  2015      1    1            4      AS         AS135      N527AS   \n\n  ORIGIN_AIRPORT DESTINATION_AIRPORT  SCHEDULED_DEPARTURE  ...  CANCELLED  \\\n0            ANC                 SEA                    5  ...          0   \n1            LAX                 PBI                   10  ...          0   \n2            SFO                 CLT                   20  ...          0   \n3            LAX                 MIA                   20  ...          0   \n4            SEA                 ANC                   25  ...          0   \n\n   CANCELLATION_REASON  AIR_SYSTEM_DELAY  SECURITY_DELAY  AIRLINE_DELAY  \\\n0                    -               NaN             NaN            NaN   \n1                    -               NaN             NaN            NaN   \n2                    -               NaN             NaN            NaN   \n3                    -               NaN             NaN            NaN   \n4                    -               NaN             NaN            NaN   \n\n   LATE_AIRCRAFT_DELAY  WEATHER_DELAY        DATE  SCHEDULED_DEPARTURE_HOUR  \\\n0                  NaN            NaN  2015-01-01                         0   \n1                  NaN            NaN  2015-01-01                         0   \n2                  NaN            NaN  2015-01-01                         0   \n3                  NaN            NaN  2015-01-01                         0   \n4                  NaN            NaN  2015-01-01                         0   \n\n   SCHEDULED_DEPARTURE_MINUTE  \n0                           5  \n1                          10  \n2                          20  \n3                          20  \n4                          25  \n\n[5 rows x 34 columns]",
      "text/html": "<div>\n<style scoped>\n    .dataframe tbody tr th:only-of-type {\n        vertical-align: middle;\n    }\n\n    .dataframe tbody tr th {\n        vertical-align: top;\n    }\n\n    .dataframe thead th {\n        text-align: right;\n    }\n</style>\n<table border=\"1\" class=\"dataframe\">\n  <thead>\n    <tr style=\"text-align: right;\">\n      <th></th>\n      <th>YEAR</th>\n      <th>MONTH</th>\n      <th>DAY</th>\n      <th>DAY_OF_WEEK</th>\n      <th>AIRLINE</th>\n      <th>FLIGHT_NUMBER</th>\n      <th>TAIL_NUMBER</th>\n      <th>ORIGIN_AIRPORT</th>\n      <th>DESTINATION_AIRPORT</th>\n      <th>SCHEDULED_DEPARTURE</th>\n      <th>...</th>\n      <th>CANCELLED</th>\n      <th>CANCELLATION_REASON</th>\n      <th>AIR_SYSTEM_DELAY</th>\n      <th>SECURITY_DELAY</th>\n      <th>AIRLINE_DELAY</th>\n      <th>LATE_AIRCRAFT_DELAY</th>\n      <th>WEATHER_DELAY</th>\n      <th>DATE</th>\n      <th>SCHEDULED_DEPARTURE_HOUR</th>\n      <th>SCHEDULED_DEPARTURE_MINUTE</th>\n    </tr>\n  </thead>\n  <tbody>\n    <tr>\n      <th>0</th>\n      <td>2015</td>\n      <td>1</td>\n      <td>1</td>\n      <td>4</td>\n      <td>AS</td>\n      <td>AS98</td>\n      <td>N407AS</td>\n      <td>ANC</td>\n      <td>SEA</td>\n      <td>5</td>\n      <td>...</td>\n      <td>0</td>\n      <td>-</td>\n      <td>NaN</td>\n      <td>NaN</td>\n      <td>NaN</td>\n      <td>NaN</td>\n      <td>NaN</td>\n      <td>2015-01-01</td>\n      <td>0</td>\n      <td>5</td>\n    </tr>\n    <tr>\n      <th>1</th>\n      <td>2015</td>\n      <td>1</td>\n      <td>1</td>\n      <td>4</td>\n      <td>AA</td>\n      <td>AA2336</td>\n      <td>N3KUAA</td>\n      <td>LAX</td>\n      <td>PBI</td>\n      <td>10</td>\n      <td>...</td>\n      <td>0</td>\n      <td>-</td>\n      <td>NaN</td>\n      <td>NaN</td>\n      <td>NaN</td>\n      <td>NaN</td>\n      <td>NaN</td>\n      <td>2015-01-01</td>\n      <td>0</td>\n      <td>10</td>\n    </tr>\n    <tr>\n      <th>2</th>\n      <td>2015</td>\n      <td>1</td>\n      <td>1</td>\n      <td>4</td>\n      <td>US</td>\n      <td>US840</td>\n      <td>N171US</td>\n      <td>SFO</td>\n      <td>CLT</td>\n      <td>20</td>\n      <td>...</td>\n      <td>0</td>\n      <td>-</td>\n      <td>NaN</td>\n      <td>NaN</td>\n      <td>NaN</td>\n      <td>NaN</td>\n      <td>NaN</td>\n      <td>2015-01-01</td>\n      <td>0</td>\n      <td>20</td>\n    </tr>\n    <tr>\n      <th>3</th>\n      <td>2015</td>\n      <td>1</td>\n      <td>1</td>\n      <td>4</td>\n      <td>AA</td>\n      <td>AA258</td>\n      <td>N3HYAA</td>\n      <td>LAX</td>\n      <td>MIA</td>\n      <td>20</td>\n      <td>...</td>\n      <td>0</td>\n      <td>-</td>\n      <td>NaN</td>\n      <td>NaN</td>\n      <td>NaN</td>\n      <td>NaN</td>\n      <td>NaN</td>\n      <td>2015-01-01</td>\n      <td>0</td>\n      <td>20</td>\n    </tr>\n    <tr>\n      <th>4</th>\n      <td>2015</td>\n      <td>1</td>\n      <td>1</td>\n      <td>4</td>\n      <td>AS</td>\n      <td>AS135</td>\n      <td>N527AS</td>\n      <td>SEA</td>\n      <td>ANC</td>\n      <td>25</td>\n      <td>...</td>\n      <td>0</td>\n      <td>-</td>\n      <td>NaN</td>\n      <td>NaN</td>\n      <td>NaN</td>\n      <td>NaN</td>\n      <td>NaN</td>\n      <td>2015-01-01</td>\n      <td>0</td>\n      <td>25</td>\n    </tr>\n  </tbody>\n</table>\n<p>5 rows × 34 columns</p>\n</div>"
     },
     "execution_count": 9,
     "metadata": {},
     "output_type": "execute_result"
    }
   ],
   "source": [
    "df.head()"
   ],
   "metadata": {
    "collapsed": false,
    "pycharm": {
     "name": "#%%\n"
    }
   }
  },
  {
   "cell_type": "code",
   "execution_count": 10,
   "metadata": {
    "collapsed": true
   },
   "outputs": [],
   "source": [
    "for item in [\n",
    "    \"ELAPSED_TIME\",\n",
    "    \"DEPARTURE_DELAY\",\n",
    "    \"ARRIVAL_DELAY\",\n",
    "    \"AIR_SYSTEM_DELAY\",\n",
    "    \"SECURITY_DELAY\",\n",
    "    \"AIRLINE_DELAY\",\n",
    "    \"LATE_AIRCRAFT_DELAY\",\n",
    "    \"WEATHER_DELAY\",\n",
    "]:\n",
    "    df[item] = df[item].apply(lambda x: 0 if np.isnan(x) else x)"
   ]
  },
  {
   "cell_type": "code",
   "execution_count": 11,
   "metadata": {
    "collapsed": true
   },
   "outputs": [],
   "source": [
    "new_df = df[\n",
    "    [\n",
    "        \"DATE\",\n",
    "        \"DAY_OF_WEEK\",\n",
    "        \"AIRLINE\",\n",
    "        \"FLIGHT_NUMBER\",\n",
    "        \"TAIL_NUMBER\",\n",
    "        \"ORIGIN_AIRPORT\",\n",
    "        \"DESTINATION_AIRPORT\",\n",
    "        \"SCHEDULED_DEPARTURE_HOUR\",\n",
    "        \"SCHEDULED_TIME\",\n",
    "        \"ELAPSED_TIME\",\n",
    "        \"DEPARTURE_DELAY\",\n",
    "        \"ARRIVAL_DELAY\",\n",
    "        \"CANCELLED\",\n",
    "        \"CANCELLATION_REASON\",\n",
    "        \"AIR_SYSTEM_DELAY\",\n",
    "        \"SECURITY_DELAY\",\n",
    "        \"AIRLINE_DELAY\",\n",
    "        \"LATE_AIRCRAFT_DELAY\",\n",
    "        \"WEATHER_DELAY\",\n",
    "    ]\n",
    "]\n",
    "new_df.to_csv(\"flight-clean.csv\", index=None)"
   ]
  },
  {
   "cell_type": "code",
   "execution_count": 12,
   "metadata": {
    "collapsed": true
   },
   "outputs": [],
   "source": [
    "new_df = pd.read_csv(\n",
    "    \"flight-clean.csv\", dtype={\"ORIGIN_AIRPORT\": str, \"DESTINATION_AIRPORT\": str}\n",
    ")"
   ]
  },
  {
   "cell_type": "code",
   "execution_count": 13,
   "outputs": [
    {
     "data": {
      "text/plain": "         DATE  DAY_OF_WEEK AIRLINE FLIGHT_NUMBER TAIL_NUMBER ORIGIN_AIRPORT  \\\n0  2015-01-01            4      AS          AS98      N407AS            ANC   \n1  2015-01-01            4      AA        AA2336      N3KUAA            LAX   \n2  2015-01-01            4      US         US840      N171US            SFO   \n3  2015-01-01            4      AA         AA258      N3HYAA            LAX   \n4  2015-01-01            4      AS         AS135      N527AS            SEA   \n\n  DESTINATION_AIRPORT  SCHEDULED_DEPARTURE_HOUR  SCHEDULED_TIME  ELAPSED_TIME  \\\n0                 SEA                         0           205.0         194.0   \n1                 PBI                         0           280.0         279.0   \n2                 CLT                         0           286.0         293.0   \n3                 MIA                         0           285.0         281.0   \n4                 ANC                         0           235.0         215.0   \n\n   DEPARTURE_DELAY  ARRIVAL_DELAY  CANCELLED CANCELLATION_REASON  \\\n0            -11.0          -22.0          0                   -   \n1             -8.0           -9.0          0                   -   \n2             -2.0            5.0          0                   -   \n3             -5.0           -9.0          0                   -   \n4             -1.0          -21.0          0                   -   \n\n   AIR_SYSTEM_DELAY  SECURITY_DELAY  AIRLINE_DELAY  LATE_AIRCRAFT_DELAY  \\\n0               0.0             0.0            0.0                  0.0   \n1               0.0             0.0            0.0                  0.0   \n2               0.0             0.0            0.0                  0.0   \n3               0.0             0.0            0.0                  0.0   \n4               0.0             0.0            0.0                  0.0   \n\n   WEATHER_DELAY  \n0            0.0  \n1            0.0  \n2            0.0  \n3            0.0  \n4            0.0  ",
      "text/html": "<div>\n<style scoped>\n    .dataframe tbody tr th:only-of-type {\n        vertical-align: middle;\n    }\n\n    .dataframe tbody tr th {\n        vertical-align: top;\n    }\n\n    .dataframe thead th {\n        text-align: right;\n    }\n</style>\n<table border=\"1\" class=\"dataframe\">\n  <thead>\n    <tr style=\"text-align: right;\">\n      <th></th>\n      <th>DATE</th>\n      <th>DAY_OF_WEEK</th>\n      <th>AIRLINE</th>\n      <th>FLIGHT_NUMBER</th>\n      <th>TAIL_NUMBER</th>\n      <th>ORIGIN_AIRPORT</th>\n      <th>DESTINATION_AIRPORT</th>\n      <th>SCHEDULED_DEPARTURE_HOUR</th>\n      <th>SCHEDULED_TIME</th>\n      <th>ELAPSED_TIME</th>\n      <th>DEPARTURE_DELAY</th>\n      <th>ARRIVAL_DELAY</th>\n      <th>CANCELLED</th>\n      <th>CANCELLATION_REASON</th>\n      <th>AIR_SYSTEM_DELAY</th>\n      <th>SECURITY_DELAY</th>\n      <th>AIRLINE_DELAY</th>\n      <th>LATE_AIRCRAFT_DELAY</th>\n      <th>WEATHER_DELAY</th>\n    </tr>\n  </thead>\n  <tbody>\n    <tr>\n      <th>0</th>\n      <td>2015-01-01</td>\n      <td>4</td>\n      <td>AS</td>\n      <td>AS98</td>\n      <td>N407AS</td>\n      <td>ANC</td>\n      <td>SEA</td>\n      <td>0</td>\n      <td>205.0</td>\n      <td>194.0</td>\n      <td>-11.0</td>\n      <td>-22.0</td>\n      <td>0</td>\n      <td>-</td>\n      <td>0.0</td>\n      <td>0.0</td>\n      <td>0.0</td>\n      <td>0.0</td>\n      <td>0.0</td>\n    </tr>\n    <tr>\n      <th>1</th>\n      <td>2015-01-01</td>\n      <td>4</td>\n      <td>AA</td>\n      <td>AA2336</td>\n      <td>N3KUAA</td>\n      <td>LAX</td>\n      <td>PBI</td>\n      <td>0</td>\n      <td>280.0</td>\n      <td>279.0</td>\n      <td>-8.0</td>\n      <td>-9.0</td>\n      <td>0</td>\n      <td>-</td>\n      <td>0.0</td>\n      <td>0.0</td>\n      <td>0.0</td>\n      <td>0.0</td>\n      <td>0.0</td>\n    </tr>\n    <tr>\n      <th>2</th>\n      <td>2015-01-01</td>\n      <td>4</td>\n      <td>US</td>\n      <td>US840</td>\n      <td>N171US</td>\n      <td>SFO</td>\n      <td>CLT</td>\n      <td>0</td>\n      <td>286.0</td>\n      <td>293.0</td>\n      <td>-2.0</td>\n      <td>5.0</td>\n      <td>0</td>\n      <td>-</td>\n      <td>0.0</td>\n      <td>0.0</td>\n      <td>0.0</td>\n      <td>0.0</td>\n      <td>0.0</td>\n    </tr>\n    <tr>\n      <th>3</th>\n      <td>2015-01-01</td>\n      <td>4</td>\n      <td>AA</td>\n      <td>AA258</td>\n      <td>N3HYAA</td>\n      <td>LAX</td>\n      <td>MIA</td>\n      <td>0</td>\n      <td>285.0</td>\n      <td>281.0</td>\n      <td>-5.0</td>\n      <td>-9.0</td>\n      <td>0</td>\n      <td>-</td>\n      <td>0.0</td>\n      <td>0.0</td>\n      <td>0.0</td>\n      <td>0.0</td>\n      <td>0.0</td>\n    </tr>\n    <tr>\n      <th>4</th>\n      <td>2015-01-01</td>\n      <td>4</td>\n      <td>AS</td>\n      <td>AS135</td>\n      <td>N527AS</td>\n      <td>SEA</td>\n      <td>ANC</td>\n      <td>0</td>\n      <td>235.0</td>\n      <td>215.0</td>\n      <td>-1.0</td>\n      <td>-21.0</td>\n      <td>0</td>\n      <td>-</td>\n      <td>0.0</td>\n      <td>0.0</td>\n      <td>0.0</td>\n      <td>0.0</td>\n      <td>0.0</td>\n    </tr>\n  </tbody>\n</table>\n</div>"
     },
     "execution_count": 13,
     "metadata": {},
     "output_type": "execute_result"
    }
   ],
   "source": [
    "new_df.head()"
   ],
   "metadata": {
    "collapsed": false,
    "pycharm": {
     "name": "#%%\n"
    }
   }
  },
  {
   "cell_type": "code",
   "execution_count": 14,
   "metadata": {
    "collapsed": true
   },
   "outputs": [],
   "source": [
    "new_df_sample = new_df[new_df[\"DATE\"] < \"2015-02-01\"]"
   ]
  },
  {
   "cell_type": "code",
   "execution_count": 15,
   "outputs": [
    {
     "data": {
      "text/plain": "         DATE  DAY_OF_WEEK AIRLINE FLIGHT_NUMBER TAIL_NUMBER ORIGIN_AIRPORT  \\\n0  2015-01-01            4      AS          AS98      N407AS            ANC   \n1  2015-01-01            4      AA        AA2336      N3KUAA            LAX   \n2  2015-01-01            4      US         US840      N171US            SFO   \n3  2015-01-01            4      AA         AA258      N3HYAA            LAX   \n4  2015-01-01            4      AS         AS135      N527AS            SEA   \n\n  DESTINATION_AIRPORT  SCHEDULED_DEPARTURE_HOUR  SCHEDULED_TIME  ELAPSED_TIME  \\\n0                 SEA                         0           205.0         194.0   \n1                 PBI                         0           280.0         279.0   \n2                 CLT                         0           286.0         293.0   \n3                 MIA                         0           285.0         281.0   \n4                 ANC                         0           235.0         215.0   \n\n   DEPARTURE_DELAY  ARRIVAL_DELAY  CANCELLED CANCELLATION_REASON  \\\n0            -11.0          -22.0          0                   -   \n1             -8.0           -9.0          0                   -   \n2             -2.0            5.0          0                   -   \n3             -5.0           -9.0          0                   -   \n4             -1.0          -21.0          0                   -   \n\n   AIR_SYSTEM_DELAY  SECURITY_DELAY  AIRLINE_DELAY  LATE_AIRCRAFT_DELAY  \\\n0               0.0             0.0            0.0                  0.0   \n1               0.0             0.0            0.0                  0.0   \n2               0.0             0.0            0.0                  0.0   \n3               0.0             0.0            0.0                  0.0   \n4               0.0             0.0            0.0                  0.0   \n\n   WEATHER_DELAY  \n0            0.0  \n1            0.0  \n2            0.0  \n3            0.0  \n4            0.0  ",
      "text/html": "<div>\n<style scoped>\n    .dataframe tbody tr th:only-of-type {\n        vertical-align: middle;\n    }\n\n    .dataframe tbody tr th {\n        vertical-align: top;\n    }\n\n    .dataframe thead th {\n        text-align: right;\n    }\n</style>\n<table border=\"1\" class=\"dataframe\">\n  <thead>\n    <tr style=\"text-align: right;\">\n      <th></th>\n      <th>DATE</th>\n      <th>DAY_OF_WEEK</th>\n      <th>AIRLINE</th>\n      <th>FLIGHT_NUMBER</th>\n      <th>TAIL_NUMBER</th>\n      <th>ORIGIN_AIRPORT</th>\n      <th>DESTINATION_AIRPORT</th>\n      <th>SCHEDULED_DEPARTURE_HOUR</th>\n      <th>SCHEDULED_TIME</th>\n      <th>ELAPSED_TIME</th>\n      <th>DEPARTURE_DELAY</th>\n      <th>ARRIVAL_DELAY</th>\n      <th>CANCELLED</th>\n      <th>CANCELLATION_REASON</th>\n      <th>AIR_SYSTEM_DELAY</th>\n      <th>SECURITY_DELAY</th>\n      <th>AIRLINE_DELAY</th>\n      <th>LATE_AIRCRAFT_DELAY</th>\n      <th>WEATHER_DELAY</th>\n    </tr>\n  </thead>\n  <tbody>\n    <tr>\n      <th>0</th>\n      <td>2015-01-01</td>\n      <td>4</td>\n      <td>AS</td>\n      <td>AS98</td>\n      <td>N407AS</td>\n      <td>ANC</td>\n      <td>SEA</td>\n      <td>0</td>\n      <td>205.0</td>\n      <td>194.0</td>\n      <td>-11.0</td>\n      <td>-22.0</td>\n      <td>0</td>\n      <td>-</td>\n      <td>0.0</td>\n      <td>0.0</td>\n      <td>0.0</td>\n      <td>0.0</td>\n      <td>0.0</td>\n    </tr>\n    <tr>\n      <th>1</th>\n      <td>2015-01-01</td>\n      <td>4</td>\n      <td>AA</td>\n      <td>AA2336</td>\n      <td>N3KUAA</td>\n      <td>LAX</td>\n      <td>PBI</td>\n      <td>0</td>\n      <td>280.0</td>\n      <td>279.0</td>\n      <td>-8.0</td>\n      <td>-9.0</td>\n      <td>0</td>\n      <td>-</td>\n      <td>0.0</td>\n      <td>0.0</td>\n      <td>0.0</td>\n      <td>0.0</td>\n      <td>0.0</td>\n    </tr>\n    <tr>\n      <th>2</th>\n      <td>2015-01-01</td>\n      <td>4</td>\n      <td>US</td>\n      <td>US840</td>\n      <td>N171US</td>\n      <td>SFO</td>\n      <td>CLT</td>\n      <td>0</td>\n      <td>286.0</td>\n      <td>293.0</td>\n      <td>-2.0</td>\n      <td>5.0</td>\n      <td>0</td>\n      <td>-</td>\n      <td>0.0</td>\n      <td>0.0</td>\n      <td>0.0</td>\n      <td>0.0</td>\n      <td>0.0</td>\n    </tr>\n    <tr>\n      <th>3</th>\n      <td>2015-01-01</td>\n      <td>4</td>\n      <td>AA</td>\n      <td>AA258</td>\n      <td>N3HYAA</td>\n      <td>LAX</td>\n      <td>MIA</td>\n      <td>0</td>\n      <td>285.0</td>\n      <td>281.0</td>\n      <td>-5.0</td>\n      <td>-9.0</td>\n      <td>0</td>\n      <td>-</td>\n      <td>0.0</td>\n      <td>0.0</td>\n      <td>0.0</td>\n      <td>0.0</td>\n      <td>0.0</td>\n    </tr>\n    <tr>\n      <th>4</th>\n      <td>2015-01-01</td>\n      <td>4</td>\n      <td>AS</td>\n      <td>AS135</td>\n      <td>N527AS</td>\n      <td>SEA</td>\n      <td>ANC</td>\n      <td>0</td>\n      <td>235.0</td>\n      <td>215.0</td>\n      <td>-1.0</td>\n      <td>-21.0</td>\n      <td>0</td>\n      <td>-</td>\n      <td>0.0</td>\n      <td>0.0</td>\n      <td>0.0</td>\n      <td>0.0</td>\n      <td>0.0</td>\n    </tr>\n  </tbody>\n</table>\n</div>"
     },
     "execution_count": 15,
     "metadata": {},
     "output_type": "execute_result"
    }
   ],
   "source": [
    "new_df_sample.head()"
   ],
   "metadata": {
    "collapsed": false,
    "pycharm": {
     "name": "#%%\n"
    }
   }
  },
  {
   "cell_type": "code",
   "execution_count": 11,
   "metadata": {
    "collapsed": true
   },
   "outputs": [],
   "source": [
    "new_df_sample.to_csv(\"flight-sampled.csv\", index=None)"
   ]
  },
  {
   "cell_type": "code",
   "execution_count": null,
   "metadata": {
    "collapsed": true
   },
   "outputs": [],
   "source": []
  }
 ],
 "metadata": {
  "kernelspec": {
   "display_name": "Python 3",
   "language": "python",
   "name": "python3"
  },
  "language_info": {
   "codemirror_mode": {
    "name": "ipython",
    "version": 3
   },
   "file_extension": ".py",
   "mimetype": "text/x-python",
   "name": "python",
   "nbconvert_exporter": "python",
   "pygments_lexer": "ipython3",
   "version": "3.5.3"
  }
 },
 "nbformat": 4,
 "nbformat_minor": 2
}
