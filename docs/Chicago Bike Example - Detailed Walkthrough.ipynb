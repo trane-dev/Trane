{
 "cells": [
  {
   "cell_type": "code",
   "execution_count": null,
   "id": "1abae5f1",
   "metadata": {},
   "outputs": [],
   "source": [
    "# Automatically generate prediction problems for the Chicago bike sharing dataset with Trane"
   ]
  },
  {
   "cell_type": "markdown",
   "id": "4597963b",
   "metadata": {},
   "source": [
    "In this tutorial, we will show how we can use Trane to generate predictions problems for a bike sharing program, [from Kaggle](https://www.kaggle.com/datasets/yingwurenjian/chicago-divvy-bicycle-sharing-data).\n",
    "\n",
    "## Load Data\n",
    "First, let's load our data, and examine the first few rows."
   ]
  },
  {
   "cell_type": "code",
   "execution_count": 37,
   "id": "f9f60f09",
   "metadata": {},
   "outputs": [],
   "source": [
    "import pandas as pd\n",
    "\n",
    "data = pd.read_csv(\"data_raw.csv\")"
   ]
  },
  {
   "cell_type": "code",
   "execution_count": 38,
   "id": "18d32a5f",
   "metadata": {},
   "outputs": [
    {
     "data": {
      "text/plain": [
       "Subscriber    10017631\n",
       "Customer       3756894\n",
       "Dependent          190\n",
       "Name: usertype, dtype: int64"
      ]
     },
     "execution_count": 38,
     "metadata": {},
     "output_type": "execute_result"
    }
   ],
   "source": [
    "counts = data[\"usertype\"].value_counts()\n",
    "counts"
   ]
  },
  {
   "cell_type": "code",
   "execution_count": 39,
   "id": "15f9bf49",
   "metadata": {},
   "outputs": [],
   "source": [
    "remove_rows = data[data[\"usertype\"] == \"Dependent\"]\n",
    "data = data.drop(index=remove_rows.index)"
   ]
  },
  {
   "cell_type": "code",
   "execution_count": 40,
   "id": "864fd495",
   "metadata": {},
   "outputs": [
    {
     "data": {
      "text/plain": [
       "Subscriber    10017631\n",
       "Customer       3756894\n",
       "Name: usertype, dtype: int64"
      ]
     },
     "execution_count": 40,
     "metadata": {},
     "output_type": "execute_result"
    }
   ],
   "source": [
    "counts = data[\"usertype\"].value_counts()\n",
    "counts"
   ]
  },
  {
   "cell_type": "code",
   "execution_count": 43,
   "id": "16395769",
   "metadata": {},
   "outputs": [
    {
     "data": {
      "text/html": [
       "<div>\n",
       "<style scoped>\n",
       "    .dataframe tbody tr th:only-of-type {\n",
       "        vertical-align: middle;\n",
       "    }\n",
       "\n",
       "    .dataframe tbody tr th {\n",
       "        vertical-align: top;\n",
       "    }\n",
       "\n",
       "    .dataframe thead th {\n",
       "        text-align: right;\n",
       "    }\n",
       "</style>\n",
       "<table border=\"1\" class=\"dataframe\">\n",
       "  <thead>\n",
       "    <tr style=\"text-align: right;\">\n",
       "      <th></th>\n",
       "      <th>trip_id</th>\n",
       "      <th>usertype</th>\n",
       "      <th>gender</th>\n",
       "      <th>starttime</th>\n",
       "      <th>stoptime</th>\n",
       "      <th>tripduration</th>\n",
       "      <th>from_station_id</th>\n",
       "      <th>from_station_name</th>\n",
       "      <th>latitude_start</th>\n",
       "      <th>longitude_start</th>\n",
       "      <th>...</th>\n",
       "      <th>windchill</th>\n",
       "      <th>dewpoint</th>\n",
       "      <th>humidity</th>\n",
       "      <th>pressure</th>\n",
       "      <th>visibility</th>\n",
       "      <th>wind_speed</th>\n",
       "      <th>precipitation</th>\n",
       "      <th>events</th>\n",
       "      <th>rain</th>\n",
       "      <th>conditions</th>\n",
       "    </tr>\n",
       "  </thead>\n",
       "  <tbody>\n",
       "    <tr>\n",
       "      <th>13774710</th>\n",
       "      <td>16734070</td>\n",
       "      <td>Subscriber</td>\n",
       "      <td>Male</td>\n",
       "      <td>2017-10-01 00:01:00</td>\n",
       "      <td>2017-10-01 00:15:00</td>\n",
       "      <td>837</td>\n",
       "      <td>289</td>\n",
       "      <td>Wells St &amp; Concord Ln</td>\n",
       "      <td>41.912133</td>\n",
       "      <td>-87.634656</td>\n",
       "      <td>...</td>\n",
       "      <td>-999.0</td>\n",
       "      <td>41.0</td>\n",
       "      <td>64.0</td>\n",
       "      <td>30.31</td>\n",
       "      <td>10.0</td>\n",
       "      <td>8.1</td>\n",
       "      <td>-9999.0</td>\n",
       "      <td>partlycloudy</td>\n",
       "      <td>0</td>\n",
       "      <td>Partly Cloudy</td>\n",
       "    </tr>\n",
       "    <tr>\n",
       "      <th>13774711</th>\n",
       "      <td>16734069</td>\n",
       "      <td>Customer</td>\n",
       "      <td>NaN</td>\n",
       "      <td>2017-10-01 00:00:00</td>\n",
       "      <td>2017-10-01 00:07:00</td>\n",
       "      <td>366</td>\n",
       "      <td>45</td>\n",
       "      <td>Michigan Ave &amp; Congress Pkwy</td>\n",
       "      <td>41.876243</td>\n",
       "      <td>-87.624426</td>\n",
       "      <td>...</td>\n",
       "      <td>-999.0</td>\n",
       "      <td>41.0</td>\n",
       "      <td>64.0</td>\n",
       "      <td>30.31</td>\n",
       "      <td>10.0</td>\n",
       "      <td>8.1</td>\n",
       "      <td>-9999.0</td>\n",
       "      <td>partlycloudy</td>\n",
       "      <td>0</td>\n",
       "      <td>Partly Cloudy</td>\n",
       "    </tr>\n",
       "    <tr>\n",
       "      <th>13774712</th>\n",
       "      <td>16734068</td>\n",
       "      <td>Customer</td>\n",
       "      <td>NaN</td>\n",
       "      <td>2017-10-01 00:00:00</td>\n",
       "      <td>2017-10-01 00:05:00</td>\n",
       "      <td>264</td>\n",
       "      <td>520</td>\n",
       "      <td>Greenview Ave &amp; Jarvis Ave</td>\n",
       "      <td>42.015962</td>\n",
       "      <td>-87.668570</td>\n",
       "      <td>...</td>\n",
       "      <td>-999.0</td>\n",
       "      <td>41.0</td>\n",
       "      <td>64.0</td>\n",
       "      <td>30.31</td>\n",
       "      <td>10.0</td>\n",
       "      <td>8.1</td>\n",
       "      <td>-9999.0</td>\n",
       "      <td>partlycloudy</td>\n",
       "      <td>0</td>\n",
       "      <td>Partly Cloudy</td>\n",
       "    </tr>\n",
       "    <tr>\n",
       "      <th>13774713</th>\n",
       "      <td>16734067</td>\n",
       "      <td>Subscriber</td>\n",
       "      <td>Female</td>\n",
       "      <td>2017-10-01 00:00:00</td>\n",
       "      <td>2017-10-01 00:06:00</td>\n",
       "      <td>361</td>\n",
       "      <td>288</td>\n",
       "      <td>Larrabee St &amp; Armitage Ave</td>\n",
       "      <td>41.918084</td>\n",
       "      <td>-87.643749</td>\n",
       "      <td>...</td>\n",
       "      <td>-999.0</td>\n",
       "      <td>41.0</td>\n",
       "      <td>64.0</td>\n",
       "      <td>30.31</td>\n",
       "      <td>10.0</td>\n",
       "      <td>8.1</td>\n",
       "      <td>-9999.0</td>\n",
       "      <td>partlycloudy</td>\n",
       "      <td>0</td>\n",
       "      <td>Partly Cloudy</td>\n",
       "    </tr>\n",
       "    <tr>\n",
       "      <th>13774714</th>\n",
       "      <td>16734066</td>\n",
       "      <td>Subscriber</td>\n",
       "      <td>Female</td>\n",
       "      <td>2017-10-01 00:00:00</td>\n",
       "      <td>2017-10-01 00:12:00</td>\n",
       "      <td>741</td>\n",
       "      <td>135</td>\n",
       "      <td>Halsted St &amp; 21st St</td>\n",
       "      <td>41.853780</td>\n",
       "      <td>-87.646650</td>\n",
       "      <td>...</td>\n",
       "      <td>-999.0</td>\n",
       "      <td>41.0</td>\n",
       "      <td>64.0</td>\n",
       "      <td>30.31</td>\n",
       "      <td>10.0</td>\n",
       "      <td>8.1</td>\n",
       "      <td>-9999.0</td>\n",
       "      <td>partlycloudy</td>\n",
       "      <td>0</td>\n",
       "      <td>Partly Cloudy</td>\n",
       "    </tr>\n",
       "  </tbody>\n",
       "</table>\n",
       "<p>5 rows × 27 columns</p>\n",
       "</div>"
      ],
      "text/plain": [
       "           trip_id    usertype  gender            starttime  \\\n",
       "13774710  16734070  Subscriber    Male  2017-10-01 00:01:00   \n",
       "13774711  16734069    Customer     NaN  2017-10-01 00:00:00   \n",
       "13774712  16734068    Customer     NaN  2017-10-01 00:00:00   \n",
       "13774713  16734067  Subscriber  Female  2017-10-01 00:00:00   \n",
       "13774714  16734066  Subscriber  Female  2017-10-01 00:00:00   \n",
       "\n",
       "                     stoptime  tripduration  from_station_id  \\\n",
       "13774710  2017-10-01 00:15:00           837              289   \n",
       "13774711  2017-10-01 00:07:00           366               45   \n",
       "13774712  2017-10-01 00:05:00           264              520   \n",
       "13774713  2017-10-01 00:06:00           361              288   \n",
       "13774714  2017-10-01 00:12:00           741              135   \n",
       "\n",
       "                     from_station_name  latitude_start  longitude_start  ...  \\\n",
       "13774710         Wells St & Concord Ln       41.912133       -87.634656  ...   \n",
       "13774711  Michigan Ave & Congress Pkwy       41.876243       -87.624426  ...   \n",
       "13774712    Greenview Ave & Jarvis Ave       42.015962       -87.668570  ...   \n",
       "13774713    Larrabee St & Armitage Ave       41.918084       -87.643749  ...   \n",
       "13774714          Halsted St & 21st St       41.853780       -87.646650  ...   \n",
       "\n",
       "          windchill  dewpoint humidity  pressure  visibility  wind_speed  \\\n",
       "13774710     -999.0      41.0     64.0     30.31        10.0         8.1   \n",
       "13774711     -999.0      41.0     64.0     30.31        10.0         8.1   \n",
       "13774712     -999.0      41.0     64.0     30.31        10.0         8.1   \n",
       "13774713     -999.0      41.0     64.0     30.31        10.0         8.1   \n",
       "13774714     -999.0      41.0     64.0     30.31        10.0         8.1   \n",
       "\n",
       "          precipitation        events  rain     conditions  \n",
       "13774710        -9999.0  partlycloudy     0  Partly Cloudy  \n",
       "13774711        -9999.0  partlycloudy     0  Partly Cloudy  \n",
       "13774712        -9999.0  partlycloudy     0  Partly Cloudy  \n",
       "13774713        -9999.0  partlycloudy     0  Partly Cloudy  \n",
       "13774714        -9999.0  partlycloudy     0  Partly Cloudy  \n",
       "\n",
       "[5 rows x 27 columns]"
      ]
     },
     "execution_count": 43,
     "metadata": {},
     "output_type": "execute_result"
    }
   ],
   "source": [
    "data.tail(5)"
   ]
  },
  {
   "cell_type": "code",
   "execution_count": 42,
   "id": "d9acbee1",
   "metadata": {},
   "outputs": [
    {
     "name": "stdout",
     "output_type": "stream",
     "text": [
      "Number of Rows: 13774525\n"
     ]
    }
   ],
   "source": [
    "print(f\"Number of Rows: {data.shape[0]}\")"
   ]
  },
  {
   "cell_type": "code",
   "execution_count": 44,
   "id": "575dbf32",
   "metadata": {},
   "outputs": [
    {
     "data": {
      "text/plain": [
       "Index(['trip_id', 'usertype', 'gender', 'starttime', 'stoptime',\n",
       "       'tripduration', 'from_station_id', 'from_station_name',\n",
       "       'latitude_start', 'longitude_start', 'dpcapacity_start',\n",
       "       'to_station_id', 'to_station_name', 'latitude_end', 'longitude_end',\n",
       "       'dpcapacity_end', 'temperature', 'windchill', 'dewpoint', 'humidity',\n",
       "       'pressure', 'visibility', 'wind_speed', 'precipitation', 'events',\n",
       "       'rain', 'conditions'],\n",
       "      dtype='object')"
      ]
     },
     "execution_count": 44,
     "metadata": {},
     "output_type": "execute_result"
    }
   ],
   "source": [
    "data.columns"
   ]
  },
  {
   "cell_type": "markdown",
   "id": "cd590828",
   "metadata": {},
   "source": [
    "As we can see, this is a dataset from a bike sharing program. We have information on where the riders go, when they ride, how far they go, how long their trips are, etc. \n",
    "\n",
    "We are required to determine the following parameters to generate the Cutoff Strategy:\n",
    "\n",
    "**entity_col**: the column name to use for grouping the data.\n",
    "- For this walkthrough, we are interested interested in prediction problems `user type`, which could be a Customer or Subscriber.\n",
    "\n",
    "**window_size**: the amount of data to use per label\n",
    "- We will set this at `2d`, to account for the delay in reporting Covid information. \n",
    "\n",
    "**minimum_size**: the time at which the labeling should begin\n",
    " - We want to use all avaliable information for labeling: set the `minimum_size` to the timestamp of the oldest data point \n",
    "\n",
    "**maximum_size**: the time at which the labeling will end\n",
    " - We want to create labels for all data points: set the `maximum_size` to be the timestamp of the most recent data point. "
   ]
  },
  {
   "cell_type": "code",
   "execution_count": 4,
   "id": "af03f594",
   "metadata": {},
   "outputs": [
    {
     "data": {
      "text/plain": [
       "<trane.utils.table_meta.TableMeta at 0x28fd0a6d0>"
      ]
     },
     "execution_count": 4,
     "metadata": {},
     "output_type": "execute_result"
    }
   ],
   "source": [
    "metadata = trane.datasets.load_bike_metadata()\n",
    "metadata"
   ]
  },
  {
   "cell_type": "code",
   "execution_count": null,
   "id": "b2e9a63f",
   "metadata": {},
   "outputs": [],
   "source": []
  }
 ],
 "metadata": {
  "kernelspec": {
   "display_name": "Python 3 (ipykernel)",
   "language": "python",
   "name": "python3"
  },
  "language_info": {
   "codemirror_mode": {
    "name": "ipython",
    "version": 3
   },
   "file_extension": ".py",
   "mimetype": "text/x-python",
   "name": "python",
   "nbconvert_exporter": "python",
   "pygments_lexer": "ipython3",
   "version": "3.11.2"
  }
 },
 "nbformat": 4,
 "nbformat_minor": 5
}
