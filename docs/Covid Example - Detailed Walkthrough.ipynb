{
 "cells": [
  {
   "cell_type": "markdown",
   "id": "3320a286",
   "metadata": {},
   "source": [
    "# Generate Prediction Problems for Covid Dataset"
   ]
  },
  {
   "cell_type": "code",
   "execution_count": 1,
   "id": "bf64e16f",
   "metadata": {},
   "outputs": [],
   "source": [
    "import trane\n",
    "\n",
    "df = trane.datasets.load_covid_data()"
   ]
  },
  {
   "cell_type": "code",
   "execution_count": 2,
   "id": "b6713657",
   "metadata": {},
   "outputs": [],
   "source": [
    "entity_col = \"Country/Region\"\n",
    "time_col = \"Date\"\n",
    "window_size = \"2d\"\n",
    "cutoff_base = \"2020-01-22\"\n",
    "cutoff_end = \"2020-03-29\"\n",
    "cutoff_strategy = trane.FixWindowCutoffStrategy(\n",
    "    entity_col,\n",
    "    window_size=window_size,\n",
    "    minimum_data=cutoff_base,\n",
    "    maximum_data=cutoff_end,\n",
    ")"
   ]
  },
  {
   "cell_type": "code",
   "execution_count": 4,
   "id": "0fcfb8db",
   "metadata": {
    "scrolled": true
   },
   "outputs": [
    {
     "data": {
      "application/vnd.jupyter.widget-view+json": {
       "model_id": "7a1a9d4fc8114062b742d4a39c456473",
       "version_major": 2,
       "version_minor": 0
      },
      "text/plain": [
       "  0%|          | 0/1044 [00:00<?, ?it/s]"
      ]
     },
     "metadata": {},
     "output_type": "display_data"
    },
    {
     "name": "stdout",
     "output_type": "stream",
     "text": [
      "Success/Attempt = 520/1044\n"
     ]
    }
   ],
   "source": [
    "import trane\n",
    "\n",
    "entity_col = \"Country/Region\"\n",
    "time_col = \"Date\"\n",
    "table_meta = trane.datasets.load_covid_tablemeta()\n",
    "\n",
    "problem_generator = trane.PredictionProblemGenerator(\n",
    "    entity_col=entity_col,\n",
    "    time_col=time_col,\n",
    "    cutoff_strategy=cutoff_strategy,\n",
    "    table_meta=table_meta,\n",
    ")\n",
    "problems = problem_generator.generate(df, generate_thresholds=True)"
   ]
  },
  {
   "cell_type": "code",
   "execution_count": null,
   "id": "e94cdbb3",
   "metadata": {},
   "outputs": [],
   "source": [
    "prediction_problem_to_label_times = {}\n",
    "for idx, problem in enumerate(problems):\n",
    "    problem_sentence = str(problem)\n",
    "    prediction_problem_to_label_times[problem_sentence] = problem.execute(\n",
    "        df, -1, verbose=False\n",
    "    )"
   ]
  },
  {
   "cell_type": "code",
   "execution_count": null,
   "id": "06ebb2d7",
   "metadata": {},
   "outputs": [],
   "source": [
    "len(problems)"
   ]
  },
  {
   "cell_type": "code",
   "execution_count": null,
   "id": "b5694abc",
   "metadata": {},
   "outputs": [],
   "source": [
    "picked_indexes = [1, 50, 200, 300, 400]\n",
    "for idx, problem in enumerate(problems[i] for i in picked_indexes):\n",
    "    problem_sentence = str(problem)\n",
    "    print(f\"{problem_sentence}\")\n",
    "    print(\"----\")\n",
    "\n",
    "print(f\"\\nTotal Number of Prediction Problems = {len(problems)}\")"
   ]
  },
  {
   "cell_type": "code",
   "execution_count": null,
   "id": "cb05cfbd",
   "metadata": {},
   "outputs": [],
   "source": [
    "problem = problems[0]\n",
    "problem_sentence = str(problem)\n",
    "label_times = problem.execute(df, -1, verbose=False)\n",
    "print(problem_sentence, \"\\n\")\n",
    "print(label_times.head(5))"
   ]
  },
  {
   "cell_type": "code",
   "execution_count": null,
   "id": "daf95f57",
   "metadata": {},
   "outputs": [],
   "source": [
    "ft_wrapper = trane.FeaturetoolsWrapper(\n",
    "    df=df, entity_col=entity_col, time_col=time_col, name=\"covid\"\n",
    ")\n",
    "feature_matrix, features = ft_wrapper.compute_features(label_times, cutoff)\n",
    "for feature in features[:5]:\n",
    "    print(feature)"
   ]
  },
  {
   "cell_type": "code",
   "execution_count": null,
   "id": "9bb08074",
   "metadata": {},
   "outputs": [],
   "source": [
    "feature_matrix.head(5)"
   ]
  },
  {
   "cell_type": "code",
   "execution_count": null,
   "id": "9cb63d2b",
   "metadata": {},
   "outputs": [],
   "source": [
    "feature_matrix_encoded, features_encoded = ft_wrapper.encode_features(\n",
    "    label_times, cutoff\n",
    ")"
   ]
  },
  {
   "cell_type": "code",
   "execution_count": null,
   "id": "4f3c9052",
   "metadata": {},
   "outputs": [],
   "source": [
    "label_times.head(5)"
   ]
  },
  {
   "cell_type": "code",
   "execution_count": null,
   "id": "0da86ed0",
   "metadata": {},
   "outputs": [],
   "source": [
    "print(prediction_problem_to_label_times[0])"
   ]
  },
  {
   "cell_type": "code",
   "execution_count": null,
   "id": "3ccf1b44",
   "metadata": {},
   "outputs": [],
   "source": [
    "print(prediction_problem_to_label_times[0])\n",
    "    print(problem_str)\n",
    "    label_times = prediction_problem_to_label_times[problem_str]\n",
    "    print(label_times.head(3))"
   ]
  },
  {
   "cell_type": "code",
   "execution_count": null,
   "id": "41307206",
   "metadata": {},
   "outputs": [],
   "source": [
    "from trane.utils import multiprocess_prediction_problem\n",
    "\n",
    "prediction_problem_to_label_times = multiprocess_prediction_problem(problems, df)"
   ]
  },
  {
   "cell_type": "code",
   "execution_count": null,
   "id": "a8bd76c6",
   "metadata": {},
   "outputs": [],
   "source": [
    "for problem_str in prediction_problem_to_label_times:\n",
    "    print(problem_str)\n",
    "    label_times = prediction_problem_to_label_times[problem_str]\n",
    "    print(label_times.head(3))"
   ]
  },
  {
   "cell_type": "code",
   "execution_count": null,
   "id": "77454231",
   "metadata": {},
   "outputs": [],
   "source": []
  }
 ],
 "metadata": {
  "kernelspec": {
   "display_name": "Python 3 (ipykernel)",
   "language": "python",
   "name": "python3"
  },
  "language_info": {
   "codemirror_mode": {
    "name": "ipython",
    "version": 3
   },
   "file_extension": ".py",
   "mimetype": "text/x-python",
   "name": "python",
   "nbconvert_exporter": "python",
   "pygments_lexer": "ipython3",
   "version": "3.11.1"
  },
  "vscode": {
   "interpreter": {
    "hash": "8207ecde8cf2fda520169a8f8360958470b9168fa3b5c7074fdec936472ea246"
   }
  }
 },
 "nbformat": 4,
 "nbformat_minor": 5
}
