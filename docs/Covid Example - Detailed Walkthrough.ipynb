{
 "cells": [
  {
   "cell_type": "markdown",
   "id": "3320a286",
   "metadata": {},
   "source": [
    "# Automatically generate prediction problems for the Covid dataset with Trane"
   ]
  },
  {
   "cell_type": "markdown",
   "id": "94049732",
   "metadata": {},
   "source": [
    "In this tutorial, we will show how we can use Trane to generate predictions problems for the Covid dataset. \n",
    "\n",
    "## Load Data\n",
    "First, let's load our data, and examine the first few rows."
   ]
  },
  {
   "cell_type": "code",
   "execution_count": 1,
   "id": "bf64e16f",
   "metadata": {},
   "outputs": [
    {
     "data": {
      "text/html": [
       "<div>\n",
       "<style scoped>\n",
       "    .dataframe tbody tr th:only-of-type {\n",
       "        vertical-align: middle;\n",
       "    }\n",
       "\n",
       "    .dataframe tbody tr th {\n",
       "        vertical-align: top;\n",
       "    }\n",
       "\n",
       "    .dataframe thead th {\n",
       "        text-align: right;\n",
       "    }\n",
       "</style>\n",
       "<table border=\"1\" class=\"dataframe\">\n",
       "  <thead>\n",
       "    <tr style=\"text-align: right;\">\n",
       "      <th></th>\n",
       "      <th>Country/Region</th>\n",
       "      <th>Date</th>\n",
       "      <th>Province/State</th>\n",
       "      <th>Lat</th>\n",
       "      <th>Long</th>\n",
       "      <th>Confirmed</th>\n",
       "      <th>Deaths</th>\n",
       "      <th>Recovered</th>\n",
       "    </tr>\n",
       "  </thead>\n",
       "  <tbody>\n",
       "    <tr>\n",
       "      <th>0</th>\n",
       "      <td>Afghanistan</td>\n",
       "      <td>2020-01-22</td>\n",
       "      <td>0</td>\n",
       "      <td>33.0000</td>\n",
       "      <td>65.0000</td>\n",
       "      <td>0</td>\n",
       "      <td>0</td>\n",
       "      <td>0</td>\n",
       "    </tr>\n",
       "    <tr>\n",
       "      <th>1</th>\n",
       "      <td>Monaco</td>\n",
       "      <td>2020-01-22</td>\n",
       "      <td>0</td>\n",
       "      <td>43.7333</td>\n",
       "      <td>7.4167</td>\n",
       "      <td>0</td>\n",
       "      <td>0</td>\n",
       "      <td>0</td>\n",
       "    </tr>\n",
       "    <tr>\n",
       "      <th>2</th>\n",
       "      <td>Mongolia</td>\n",
       "      <td>2020-01-22</td>\n",
       "      <td>0</td>\n",
       "      <td>46.8625</td>\n",
       "      <td>103.8467</td>\n",
       "      <td>0</td>\n",
       "      <td>0</td>\n",
       "      <td>0</td>\n",
       "    </tr>\n",
       "    <tr>\n",
       "      <th>3</th>\n",
       "      <td>Montenegro</td>\n",
       "      <td>2020-01-22</td>\n",
       "      <td>0</td>\n",
       "      <td>42.5000</td>\n",
       "      <td>19.3000</td>\n",
       "      <td>0</td>\n",
       "      <td>0</td>\n",
       "      <td>0</td>\n",
       "    </tr>\n",
       "    <tr>\n",
       "      <th>4</th>\n",
       "      <td>Morocco</td>\n",
       "      <td>2020-01-22</td>\n",
       "      <td>0</td>\n",
       "      <td>31.7917</td>\n",
       "      <td>-7.0926</td>\n",
       "      <td>0</td>\n",
       "      <td>0</td>\n",
       "      <td>0</td>\n",
       "    </tr>\n",
       "  </tbody>\n",
       "</table>\n",
       "</div>"
      ],
      "text/plain": [
       "  Country/Region       Date Province/State      Lat      Long  Confirmed  \\\n",
       "0    Afghanistan 2020-01-22              0  33.0000   65.0000          0   \n",
       "1         Monaco 2020-01-22              0  43.7333    7.4167          0   \n",
       "2       Mongolia 2020-01-22              0  46.8625  103.8467          0   \n",
       "3     Montenegro 2020-01-22              0  42.5000   19.3000          0   \n",
       "4        Morocco 2020-01-22              0  31.7917   -7.0926          0   \n",
       "\n",
       "   Deaths  Recovered  \n",
       "0       0          0  \n",
       "1       0          0  \n",
       "2       0          0  \n",
       "3       0          0  \n",
       "4       0          0  "
      ]
     },
     "execution_count": 1,
     "metadata": {},
     "output_type": "execute_result"
    }
   ],
   "source": [
    "import trane\n",
    "\n",
    "data = trane.datasets.load_covid()\n",
    "data.head(5)"
   ]
  },
  {
   "cell_type": "code",
   "execution_count": 2,
   "id": "eefcf367",
   "metadata": {},
   "outputs": [
    {
     "name": "stdout",
     "output_type": "stream",
     "text": [
      "Number of Rows: 17136\n"
     ]
    }
   ],
   "source": [
    "print(f\"Number of Rows: {data.shape[0]}\")"
   ]
  },
  {
   "cell_type": "markdown",
   "id": "1af22d74",
   "metadata": {},
   "source": [
    "As we can see, this a dataset of Covid cases. We have information on by different Countries, as well as the date of that information. \n",
    "\n",
    "We are required to determine the following parameters to generate the CutoffStrategy\n",
    "\n",
    "**entity_col**: the column name to use for grouping the data.\n",
    "- For this walkthrough, we are interested interested in prediction problems for each `Country/Region`.\n",
    "\n",
    "**window_size**: the amount of data to use per label\n",
    "- We will set this at `2d`, to account for the delay in reporting Covid information. \n",
    "\n",
    "**minimum_size**: the time at which the labeling should begin\n",
    " - We want to use all avaliable information for labeling: set the `minimum_size` to the timestamp of the oldest data point \n",
    "\n",
    "**maximum_size**: the time at which the labeling will end\n",
    " - We want to create labels for all data points: set the `maximum_size` to be the timestamp of the most recent data point. \n"
   ]
  },
  {
   "cell_type": "code",
   "execution_count": 3,
   "id": "fd08a3dc",
   "metadata": {},
   "outputs": [],
   "source": [
    "entity_col = \"Country/Region\"\n",
    "window_size = \"2d\"\n",
    "minimum_data = \"2020-01-22\"\n",
    "maximum_data = \"2020-03-29\"\n",
    "cutoff_strategy = trane.CutoffStrategy(\n",
    "    entity_col=entity_col,\n",
    "    window_size=window_size,\n",
    "    minimum_data=minimum_data,\n",
    "    maximum_data=maximum_data,\n",
    ")"
   ]
  },
  {
   "cell_type": "markdown",
   "id": "0b28d336",
   "metadata": {},
   "source": [
    "We now have a cutoff_strategy we can use to generate prediction problems.\n",
    "\n",
    "Next, we need to \n"
   ]
  },
  {
   "cell_type": "code",
   "execution_count": 6,
   "id": "0fcfb8db",
   "metadata": {
    "scrolled": true
   },
   "outputs": [
    {
     "data": {
      "application/vnd.jupyter.widget-view+json": {
       "model_id": "77d1856f2ddb47c3b44438c588e550c1",
       "version_major": 2,
       "version_minor": 0
      },
      "text/plain": [
       "  0%|          | 0/1044 [00:00<?, ?it/s]"
      ]
     },
     "metadata": {},
     "output_type": "display_data"
    },
    {
     "name": "stdout",
     "output_type": "stream",
     "text": [
      "Success/Attempt = 514/1044\n"
     ]
    }
   ],
   "source": [
    "time_col = \"Date\"\n",
    "\n",
    "problem_generator = trane.PredictionProblemGenerator(\n",
    "    entity_col=entity_col,\n",
    "    time_col=time_col,\n",
    "    cutoff_strategy=cutoff_strategy,\n",
    "    table_meta=table_meta,\n",
    ")\n",
    "problems = problem_generator.generate(data, generate_thresholds=True)"
   ]
  },
  {
   "cell_type": "code",
   "execution_count": 7,
   "id": "e94cdbb3",
   "metadata": {},
   "outputs": [],
   "source": [
    "prediction_problem_to_label_times = {}\n",
    "for idx, problem in enumerate(problems):\n",
    "    problem_sentence = str(problem)\n",
    "    prediction_problem_to_label_times[problem_sentence] = problem.execute(\n",
    "        data, -1, verbose=False\n",
    "    )"
   ]
  },
  {
   "cell_type": "code",
   "execution_count": 9,
   "id": "06ebb2d7",
   "metadata": {},
   "outputs": [
    {
     "data": {
      "text/plain": [
       "514"
      ]
     },
     "execution_count": 9,
     "metadata": {},
     "output_type": "execute_result"
    }
   ],
   "source": [
    "len(problems)"
   ]
  },
  {
   "cell_type": "code",
   "execution_count": 10,
   "id": "b5694abc",
   "metadata": {},
   "outputs": [
    {
     "name": "stdout",
     "output_type": "stream",
     "text": [
      "For each <Country/Region> predict the number of records with <Lat> greater than 41.2956 in next 2d days\n",
      "----\n",
      "For each <Country/Region> predict the total <Confirmed> in all related records with <Long> greater than 84.25 in next 2d days\n",
      "----\n",
      "For each <Country/Region> predict the average <Confirmed> in all related records with <Recovered> greater than 0 in next 2d days\n",
      "----\n",
      "For each <Country/Region> predict the maximum <Deaths> in all related records with <Long> greater than -23.0418 in next 2d days\n",
      "----\n",
      "For each <Country/Region> predict the minimum <Long> in all related records with <Lat> greater than 23.7 in next 2d days\n",
      "----\n",
      "\n",
      "Total Number of Prediction Problems = 514\n"
     ]
    }
   ],
   "source": [
    "picked_indexes = [1, 50, 200, 300, 400]\n",
    "for idx, problem in enumerate(problems[i] for i in picked_indexes):\n",
    "    problem_sentence = str(problem)\n",
    "    print(f\"{problem_sentence}\")\n",
    "    print(\"----\")\n",
    "\n",
    "print(f\"\\nTotal Number of Prediction Problems = {len(problems)}\")"
   ]
  },
  {
   "cell_type": "code",
   "execution_count": 11,
   "id": "cb05cfbd",
   "metadata": {},
   "outputs": [
    {
     "name": "stdout",
     "output_type": "stream",
     "text": [
      "For each <Country/Region> predict the number of records in next 2d days \n",
      "\n",
      "  Country/Region       time  _execute_operations_on_df\n",
      "0    Afghanistan 2020-01-22                          2\n",
      "1    Afghanistan 2020-01-24                          2\n",
      "2    Afghanistan 2020-01-26                          2\n",
      "3    Afghanistan 2020-01-28                          2\n",
      "4    Afghanistan 2020-01-30                          2\n"
     ]
    }
   ],
   "source": [
    "problem = problems[0]\n",
    "problem_sentence = str(problem)\n",
    "label_times = problem.execute(data, -1, verbose=False)\n",
    "print(problem_sentence, \"\\n\")\n",
    "print(label_times.head(5))"
   ]
  },
  {
   "cell_type": "code",
   "execution_count": 12,
   "id": "daf95f57",
   "metadata": {},
   "outputs": [
    {
     "ename": "NameError",
     "evalue": "name 'cutoff' is not defined",
     "output_type": "error",
     "traceback": [
      "\u001b[0;31m---------------------------------------------------------------------------\u001b[0m",
      "\u001b[0;31mNameError\u001b[0m                                 Traceback (most recent call last)",
      "Cell \u001b[0;32mIn[12], line 4\u001b[0m\n\u001b[1;32m      1\u001b[0m ft_wrapper \u001b[38;5;241m=\u001b[39m trane\u001b[38;5;241m.\u001b[39mFeaturetoolsWrapper(\n\u001b[1;32m      2\u001b[0m     df\u001b[38;5;241m=\u001b[39mdata, entity_col\u001b[38;5;241m=\u001b[39mentity_col, time_col\u001b[38;5;241m=\u001b[39mtime_col, name\u001b[38;5;241m=\u001b[39m\u001b[38;5;124m\"\u001b[39m\u001b[38;5;124mcovid\u001b[39m\u001b[38;5;124m\"\u001b[39m\n\u001b[1;32m      3\u001b[0m )\n\u001b[0;32m----> 4\u001b[0m feature_matrix, features \u001b[38;5;241m=\u001b[39m ft_wrapper\u001b[38;5;241m.\u001b[39mcompute_features(label_times, \u001b[43mcutoff\u001b[49m)\n\u001b[1;32m      5\u001b[0m \u001b[38;5;28;01mfor\u001b[39;00m feature \u001b[38;5;129;01min\u001b[39;00m features[:\u001b[38;5;241m5\u001b[39m]:\n\u001b[1;32m      6\u001b[0m     \u001b[38;5;28mprint\u001b[39m(feature)\n",
      "\u001b[0;31mNameError\u001b[0m: name 'cutoff' is not defined"
     ]
    }
   ],
   "source": [
    "ft_wrapper = trane.FeaturetoolsWrapper(\n",
    "    df=data, entity_col=entity_col, time_col=time_col, name=\"covid\"\n",
    ")\n",
    "feature_matrix, features = ft_wrapper.compute_features(label_times, cutoff)\n",
    "for feature in features[:5]:\n",
    "    print(feature)"
   ]
  },
  {
   "cell_type": "code",
   "execution_count": null,
   "id": "9bb08074",
   "metadata": {},
   "outputs": [],
   "source": [
    "feature_matrix.head(5)"
   ]
  },
  {
   "cell_type": "code",
   "execution_count": null,
   "id": "9cb63d2b",
   "metadata": {},
   "outputs": [],
   "source": [
    "feature_matrix_encoded, features_encoded = ft_wrapper.encode_features(\n",
    "    label_times, cutoff\n",
    ")"
   ]
  },
  {
   "cell_type": "code",
   "execution_count": null,
   "id": "4f3c9052",
   "metadata": {},
   "outputs": [],
   "source": [
    "label_times.head(5)"
   ]
  },
  {
   "cell_type": "code",
   "execution_count": null,
   "id": "0da86ed0",
   "metadata": {},
   "outputs": [],
   "source": [
    "print(prediction_problem_to_label_times[0])"
   ]
  },
  {
   "cell_type": "code",
   "execution_count": null,
   "id": "3ccf1b44",
   "metadata": {},
   "outputs": [],
   "source": [
    "print(prediction_problem_to_label_times[0])\n",
    "    print(problem_str)\n",
    "    label_times = prediction_problem_to_label_times[problem_str]\n",
    "    print(label_times.head(3))"
   ]
  },
  {
   "cell_type": "code",
   "execution_count": null,
   "id": "41307206",
   "metadata": {},
   "outputs": [],
   "source": [
    "from trane.utils import multiprocess_prediction_problem\n",
    "\n",
    "prediction_problem_to_label_times = multiprocess_prediction_problem(problems, df)"
   ]
  },
  {
   "cell_type": "code",
   "execution_count": null,
   "id": "a8bd76c6",
   "metadata": {},
   "outputs": [],
   "source": [
    "for problem_str in prediction_problem_to_label_times:\n",
    "    print(problem_str)\n",
    "    label_times = prediction_problem_to_label_times[problem_str]\n",
    "    print(label_times.head(3))"
   ]
  }
 ],
 "metadata": {
  "kernelspec": {
   "display_name": "Python 3 (ipykernel)",
   "language": "python",
   "name": "python3"
  },
  "language_info": {
   "codemirror_mode": {
    "name": "ipython",
    "version": 3
   },
   "file_extension": ".py",
   "mimetype": "text/x-python",
   "name": "python",
   "nbconvert_exporter": "python",
   "pygments_lexer": "ipython3",
   "version": "3.11.2"
  },
  "vscode": {
   "interpreter": {
    "hash": "8207ecde8cf2fda520169a8f8360958470b9168fa3b5c7074fdec936472ea246"
   }
  }
 },
 "nbformat": 4,
 "nbformat_minor": 5
}
