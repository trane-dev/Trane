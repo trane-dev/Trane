{
 "cells": [
  {
   "cell_type": "markdown",
   "id": "3320a286",
   "metadata": {},
   "source": [
    "# Trane Quickstart Guide - Covid Example"
   ]
  },
  {
   "cell_type": "code",
   "execution_count": 1,
   "id": "bf64e16f",
   "metadata": {},
   "outputs": [],
   "source": [
    "import trane\n",
    "import pandas as pd\n",
    "import json\n",
    "from datetime import datetime\n",
    "from urllib.request import urlopen\n",
    "\n",
    "\n",
    "data_url = \"https://raw.githubusercontent.com/HDI-Project/Trane/main/Examples/covid/\"\n",
    "df = pd.read_csv(f\"{data_url}covid19.csv\")\n",
    "df[\"Date\"] = df[\"Date\"].apply(lambda x: datetime.strptime(x, \"%m/%d/%y\"))\n",
    "df = df.sort_values(by=[\"Date\"])\n",
    "df = df.fillna(0)\n",
    "\n",
    "meta_covid_response = urlopen(f\"{data_url}meta_covid.json\")\n",
    "meta_covid = trane.TableMeta(json.loads(meta_covid_response.read()))"
   ]
  },
  {
   "cell_type": "code",
   "execution_count": 2,
   "id": "b6713657",
   "metadata": {},
   "outputs": [],
   "source": [
    "entity_col = \"Country/Region\"\n",
    "time_col = \"Date\"\n",
    "window_size = \"2d\"\n",
    "cutoff_base = \"2020-01-22\"\n",
    "cutoff_end = \"2020-03-29\"\n",
    "cutoff_strategy = trane.CutoffStrategy(\n",
    "    entity_col,\n",
    "    window_size=window_size,\n",
    "    minimum_data=cutoff_base,\n",
    "    maximum_data=cutoff_end,\n",
    ")"
   ]
  },
  {
   "cell_type": "code",
   "execution_count": 3,
   "id": "0fcfb8db",
   "metadata": {
    "scrolled": true
   },
   "outputs": [
    {
     "data": {
      "application/vnd.jupyter.widget-view+json": {
       "model_id": "d7f4b7afd98546ce8ab0bef3220ccd60",
       "version_major": 2,
       "version_minor": 0
      },
      "text/plain": [
       "  0%|          | 0/1044 [00:00<?, ?it/s]"
      ]
     },
     "metadata": {},
     "output_type": "display_data"
    },
    {
     "name": "stdout",
     "output_type": "stream",
     "text": [
      "Success/Attempt = 515/1044\n"
     ]
    }
   ],
   "source": [
    "import trane\n",
    "import json\n",
    "from urllib.request import urlopen\n",
    "\n",
    "entity_col = \"Country/Region\"\n",
    "time_col = \"Date\"\n",
    "data_url = \"https://raw.githubusercontent.com/HDI-Project/Trane/main/Examples/covid/\"\n",
    "meta_covid_response = urlopen(f\"{data_url}meta_covid.json\")\n",
    "table_meta = trane.TableMeta(json.loads(meta_covid_response.read()))\n",
    "\n",
    "problem_generator = trane.PredictionProblemGenerator(\n",
    "    entity_col=entity_col,\n",
    "    time_col=time_col,\n",
    "    cutoff_strategy=cutoff_strategy,\n",
    "    table_meta=table_meta,\n",
    ")\n",
    "problems = problem_generator.generate(df, generate_thresholds=True)"
   ]
  },
  {
   "cell_type": "code",
   "execution_count": 4,
   "id": "e94cdbb3",
   "metadata": {},
   "outputs": [
    {
     "name": "stdout",
     "output_type": "stream",
     "text": [
      "For each <Country/Region> predict the number of records with <Lat> greater than 41.1533 in next 2d days\n",
      "----\n",
      "For each <Country/Region> predict the total <Long> in all related records with <Long> greater than -23.0418 in next 2d days\n",
      "----\n",
      "For each <Country/Region> predict the average <Confirmed> in all related records with <Recovered> greater than 0 in next 2d days\n",
      "----\n",
      "For each <Country/Region> predict the maximum <Deaths> in all related records with <Long> greater than -19.0208 in next 2d days\n",
      "----\n",
      "For each <Country/Region> predict the minimum <Long> in all related records with <Lat> greater than 41.3775 in next 2d days\n",
      "----\n",
      "\n",
      "Total Number of Prediction Problems = 515\n"
     ]
    }
   ],
   "source": [
    "picked_indexes = [1, 50, 200, 300, 400]\n",
    "for idx, problem in enumerate(problems[i] for i in picked_indexes):\n",
    "    problem_sentence = str(problem)\n",
    "    print(f\"{problem_sentence}\")\n",
    "    print(\"----\")\n",
    "\n",
    "print(f\"\\nTotal Number of Prediction Problems = {len(problems)}\")"
   ]
  },
  {
   "cell_type": "code",
   "execution_count": 5,
   "id": "cb05cfbd",
   "metadata": {},
   "outputs": [
    {
     "name": "stdout",
     "output_type": "stream",
     "text": [
      "For each <Country/Region> predict the number of records in next 2d days \n",
      "\n",
      "  Country/Region       time  _execute_operations_on_df\n",
      "0    Afghanistan 2020-01-22                          2\n",
      "1    Afghanistan 2020-01-24                          2\n",
      "2    Afghanistan 2020-01-26                          2\n",
      "3    Afghanistan 2020-01-28                          2\n",
      "4    Afghanistan 2020-01-30                          2\n"
     ]
    }
   ],
   "source": [
    "problem = problems[0]\n",
    "problem_sentence = str(problem)\n",
    "label_times = problem.execute(df, -1, verbose=False)\n",
    "print(problem_sentence, \"\\n\")\n",
    "print(label_times.head(5))"
   ]
  },
  {
   "cell_type": "code",
   "execution_count": 6,
   "id": "daf95f57",
   "metadata": {},
   "outputs": [
    {
     "name": "stdout",
     "output_type": "stream",
     "text": [
      "Built 41 features\n",
      "Elapsed: 00:03 | Progress: 100%|██████████████████████████████████████████████████████████████████████████████████████████████████████████████████████████████████████████████████████████████\n"
     ]
    }
   ],
   "source": [
    "ft_wrapper = trane.FeaturetoolsWrapper(\n",
    "    df=df, entity_col=entity_col, time_col=time_col, name=\"covid\"\n",
    ")\n",
    "feature_matrix, features = ft_wrapper.compute_features(label_times, window_size)"
   ]
  },
  {
   "cell_type": "code",
   "execution_count": 7,
   "id": "abdd8c93",
   "metadata": {},
   "outputs": [
    {
     "name": "stdout",
     "output_type": "stream",
     "text": [
      "<Feature: COUNT(covid)>\n",
      "<Feature: MAX(covid.Confirmed)>\n",
      "<Feature: MAX(covid.Deaths)>\n",
      "<Feature: MAX(covid.Lat)>\n",
      "<Feature: MAX(covid.Long)>\n"
     ]
    }
   ],
   "source": [
    "for feature in features[:5]:\n",
    "    print(feature)"
   ]
  },
  {
   "cell_type": "code",
   "execution_count": 8,
   "id": "9bb08074",
   "metadata": {
    "scrolled": true
   },
   "outputs": [
    {
     "data": {
      "text/html": [
       "<div>\n",
       "<style scoped>\n",
       "    .dataframe tbody tr th:only-of-type {\n",
       "        vertical-align: middle;\n",
       "    }\n",
       "\n",
       "    .dataframe tbody tr th {\n",
       "        vertical-align: top;\n",
       "    }\n",
       "\n",
       "    .dataframe thead th {\n",
       "        text-align: right;\n",
       "    }\n",
       "</style>\n",
       "<table border=\"1\" class=\"dataframe\">\n",
       "  <thead>\n",
       "    <tr style=\"text-align: right;\">\n",
       "      <th></th>\n",
       "      <th>Country/Region</th>\n",
       "      <th>time</th>\n",
       "      <th>COUNT(covid)</th>\n",
       "      <th>MAX(covid.Confirmed)</th>\n",
       "      <th>MAX(covid.Deaths)</th>\n",
       "      <th>MAX(covid.Lat)</th>\n",
       "      <th>MAX(covid.Long)</th>\n",
       "      <th>MAX(covid.Recovered)</th>\n",
       "      <th>MEAN(covid.Confirmed)</th>\n",
       "      <th>MEAN(covid.Deaths)</th>\n",
       "      <th>...</th>\n",
       "      <th>SUM(covid.Recovered)</th>\n",
       "      <th>MODE(covid.DAY(Date))</th>\n",
       "      <th>MODE(covid.MONTH(Date))</th>\n",
       "      <th>MODE(covid.WEEKDAY(Date))</th>\n",
       "      <th>MODE(covid.YEAR(Date))</th>\n",
       "      <th>NUM_UNIQUE(covid.DAY(Date))</th>\n",
       "      <th>NUM_UNIQUE(covid.MONTH(Date))</th>\n",
       "      <th>NUM_UNIQUE(covid.WEEKDAY(Date))</th>\n",
       "      <th>NUM_UNIQUE(covid.YEAR(Date))</th>\n",
       "      <th>_execute_operations_on_df</th>\n",
       "    </tr>\n",
       "  </thead>\n",
       "  <tbody>\n",
       "    <tr>\n",
       "      <th>0</th>\n",
       "      <td>Afghanistan</td>\n",
       "      <td>2020-01-22</td>\n",
       "      <td>1</td>\n",
       "      <td>0.0</td>\n",
       "      <td>0.0</td>\n",
       "      <td>33.0</td>\n",
       "      <td>65.0</td>\n",
       "      <td>0.0</td>\n",
       "      <td>0.0</td>\n",
       "      <td>0.0</td>\n",
       "      <td>...</td>\n",
       "      <td>0.0</td>\n",
       "      <td>22</td>\n",
       "      <td>1</td>\n",
       "      <td>2</td>\n",
       "      <td>2020</td>\n",
       "      <td>1</td>\n",
       "      <td>1</td>\n",
       "      <td>1</td>\n",
       "      <td>1</td>\n",
       "      <td>2</td>\n",
       "    </tr>\n",
       "    <tr>\n",
       "      <th>1</th>\n",
       "      <td>Afghanistan</td>\n",
       "      <td>2020-01-24</td>\n",
       "      <td>3</td>\n",
       "      <td>0.0</td>\n",
       "      <td>0.0</td>\n",
       "      <td>33.0</td>\n",
       "      <td>65.0</td>\n",
       "      <td>0.0</td>\n",
       "      <td>0.0</td>\n",
       "      <td>0.0</td>\n",
       "      <td>...</td>\n",
       "      <td>0.0</td>\n",
       "      <td>22</td>\n",
       "      <td>1</td>\n",
       "      <td>2</td>\n",
       "      <td>2020</td>\n",
       "      <td>3</td>\n",
       "      <td>1</td>\n",
       "      <td>3</td>\n",
       "      <td>1</td>\n",
       "      <td>2</td>\n",
       "    </tr>\n",
       "    <tr>\n",
       "      <th>2</th>\n",
       "      <td>Afghanistan</td>\n",
       "      <td>2020-01-26</td>\n",
       "      <td>5</td>\n",
       "      <td>0.0</td>\n",
       "      <td>0.0</td>\n",
       "      <td>33.0</td>\n",
       "      <td>65.0</td>\n",
       "      <td>0.0</td>\n",
       "      <td>0.0</td>\n",
       "      <td>0.0</td>\n",
       "      <td>...</td>\n",
       "      <td>0.0</td>\n",
       "      <td>22</td>\n",
       "      <td>1</td>\n",
       "      <td>2</td>\n",
       "      <td>2020</td>\n",
       "      <td>5</td>\n",
       "      <td>1</td>\n",
       "      <td>5</td>\n",
       "      <td>1</td>\n",
       "      <td>2</td>\n",
       "    </tr>\n",
       "    <tr>\n",
       "      <th>3</th>\n",
       "      <td>Afghanistan</td>\n",
       "      <td>2020-01-28</td>\n",
       "      <td>7</td>\n",
       "      <td>0.0</td>\n",
       "      <td>0.0</td>\n",
       "      <td>33.0</td>\n",
       "      <td>65.0</td>\n",
       "      <td>0.0</td>\n",
       "      <td>0.0</td>\n",
       "      <td>0.0</td>\n",
       "      <td>...</td>\n",
       "      <td>0.0</td>\n",
       "      <td>22</td>\n",
       "      <td>1</td>\n",
       "      <td>0</td>\n",
       "      <td>2020</td>\n",
       "      <td>7</td>\n",
       "      <td>1</td>\n",
       "      <td>7</td>\n",
       "      <td>1</td>\n",
       "      <td>2</td>\n",
       "    </tr>\n",
       "    <tr>\n",
       "      <th>4</th>\n",
       "      <td>Afghanistan</td>\n",
       "      <td>2020-01-30</td>\n",
       "      <td>9</td>\n",
       "      <td>0.0</td>\n",
       "      <td>0.0</td>\n",
       "      <td>33.0</td>\n",
       "      <td>65.0</td>\n",
       "      <td>0.0</td>\n",
       "      <td>0.0</td>\n",
       "      <td>0.0</td>\n",
       "      <td>...</td>\n",
       "      <td>0.0</td>\n",
       "      <td>22</td>\n",
       "      <td>1</td>\n",
       "      <td>2</td>\n",
       "      <td>2020</td>\n",
       "      <td>9</td>\n",
       "      <td>1</td>\n",
       "      <td>7</td>\n",
       "      <td>1</td>\n",
       "      <td>2</td>\n",
       "    </tr>\n",
       "  </tbody>\n",
       "</table>\n",
       "<p>5 rows × 44 columns</p>\n",
       "</div>"
      ],
      "text/plain": [
       "  Country/Region       time  COUNT(covid)  MAX(covid.Confirmed)  \\\n",
       "0    Afghanistan 2020-01-22             1                   0.0   \n",
       "1    Afghanistan 2020-01-24             3                   0.0   \n",
       "2    Afghanistan 2020-01-26             5                   0.0   \n",
       "3    Afghanistan 2020-01-28             7                   0.0   \n",
       "4    Afghanistan 2020-01-30             9                   0.0   \n",
       "\n",
       "   MAX(covid.Deaths)  MAX(covid.Lat)  MAX(covid.Long)  MAX(covid.Recovered)  \\\n",
       "0                0.0            33.0             65.0                   0.0   \n",
       "1                0.0            33.0             65.0                   0.0   \n",
       "2                0.0            33.0             65.0                   0.0   \n",
       "3                0.0            33.0             65.0                   0.0   \n",
       "4                0.0            33.0             65.0                   0.0   \n",
       "\n",
       "   MEAN(covid.Confirmed)  MEAN(covid.Deaths)  ...  SUM(covid.Recovered)  \\\n",
       "0                    0.0                 0.0  ...                   0.0   \n",
       "1                    0.0                 0.0  ...                   0.0   \n",
       "2                    0.0                 0.0  ...                   0.0   \n",
       "3                    0.0                 0.0  ...                   0.0   \n",
       "4                    0.0                 0.0  ...                   0.0   \n",
       "\n",
       "   MODE(covid.DAY(Date))  MODE(covid.MONTH(Date))  MODE(covid.WEEKDAY(Date))  \\\n",
       "0                     22                        1                          2   \n",
       "1                     22                        1                          2   \n",
       "2                     22                        1                          2   \n",
       "3                     22                        1                          0   \n",
       "4                     22                        1                          2   \n",
       "\n",
       "   MODE(covid.YEAR(Date))  NUM_UNIQUE(covid.DAY(Date))  \\\n",
       "0                    2020                            1   \n",
       "1                    2020                            3   \n",
       "2                    2020                            5   \n",
       "3                    2020                            7   \n",
       "4                    2020                            9   \n",
       "\n",
       "   NUM_UNIQUE(covid.MONTH(Date))  NUM_UNIQUE(covid.WEEKDAY(Date))  \\\n",
       "0                              1                                1   \n",
       "1                              1                                3   \n",
       "2                              1                                5   \n",
       "3                              1                                7   \n",
       "4                              1                                7   \n",
       "\n",
       "  NUM_UNIQUE(covid.YEAR(Date))  _execute_operations_on_df  \n",
       "0                            1                          2  \n",
       "1                            1                          2  \n",
       "2                            1                          2  \n",
       "3                            1                          2  \n",
       "4                            1                          2  \n",
       "\n",
       "[5 rows x 44 columns]"
      ]
     },
     "execution_count": 8,
     "metadata": {},
     "output_type": "execute_result"
    }
   ],
   "source": [
    "feature_matrix.reset_index().head(5)"
   ]
  },
  {
   "cell_type": "code",
   "execution_count": 9,
   "id": "8db3e8bd",
   "metadata": {},
   "outputs": [],
   "source": [
    "feature_matrix_encoded, features_encoded = ft_wrapper.encode_features(\n",
    "    feature_matrix, features\n",
    ")\n",
    "\n",
    "y = feature_matrix_encoded[\"_execute_operations_on_df\"]\n",
    "feature_matrix_encoded = feature_matrix_encoded.drop(\n",
    "    columns=[\"_execute_operations_on_df\"]\n",
    ")"
   ]
  }
 ],
 "metadata": {
  "kernelspec": {
   "display_name": "Python 3 (ipykernel)",
   "language": "python",
   "name": "python3"
  },
  "language_info": {
   "codemirror_mode": {
    "name": "ipython",
    "version": 3
   },
   "file_extension": ".py",
   "mimetype": "text/x-python",
   "name": "python",
   "nbconvert_exporter": "python",
   "pygments_lexer": "ipython3",
   "version": "3.11.2"
  },
  "vscode": {
   "interpreter": {
    "hash": "8207ecde8cf2fda520169a8f8360958470b9168fa3b5c7074fdec936472ea246"
   }
  }
 },
 "nbformat": 4,
 "nbformat_minor": 5
}
